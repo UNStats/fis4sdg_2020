{
 "cells": [
  {
   "cell_type": "markdown",
   "metadata": {},
   "source": [
    "# Analyze SDG Data availability"
   ]
  },
  {
   "cell_type": "markdown",
   "metadata": {},
   "source": [
    "## 1. Load python libraries"
   ]
  },
  {
   "cell_type": "code",
   "execution_count": 92,
   "metadata": {},
   "outputs": [
    {
     "output_type": "stream",
     "name": "stdout",
     "text": [
      "C:\\Users\\gonzalezmorales\\projects\\fis4sdg_2020\\notebooks\\reports\n"
     ]
    }
   ],
   "source": [
    "import pandas as pd\n",
    "import os\n",
    "import csv\n",
    "import json\n",
    "import statistics\n",
    "\n",
    "import numpy as np\n",
    "from pathlib import Path\n",
    "\n",
    "dir_path = os.path.dirname(os.path.realpath('__file__'))\n",
    "print(dir_path)\n",
    "\n",
    "# https://volderette.de/jupyter-notebook-tip-multiple-outputs/\n",
    "from IPython.core.interactiveshell import InteractiveShell\n",
    "InteractiveShell.ast_node_interactivity = \"all\""
   ]
  },
  {
   "source": [
    "## 2. Set release"
   ],
   "cell_type": "markdown",
   "metadata": {}
  },
  {
   "cell_type": "code",
   "execution_count": 93,
   "metadata": {},
   "outputs": [],
   "source": [
    "release = '2020.Q2.G.03'"
   ]
  },
  {
   "cell_type": "markdown",
   "metadata": {},
   "source": [
    "## 3. Read M49 countries and groups"
   ]
  },
  {
   "cell_type": "code",
   "execution_count": 94,
   "metadata": {},
   "outputs": [
    {
     "output_type": "execute_result",
     "data": {
      "text/plain": [
       "   countryCode  countryName  LDC LLDC SIDS Development  regionCode  \\\n",
       "0            4  Afghanistan    x    x  NaN  Developing          62   \n",
       "1            8      Albania  NaN  NaN  NaN   Developed         513   \n",
       "2           12      Algeria  NaN  NaN  NaN  Developing         747   \n",
       "3           20      Andorra  NaN  NaN  NaN   Developed         513   \n",
       "4           24       Angola    x  NaN  NaN  Developing         202   \n",
       "\n",
       "                         regionName  \n",
       "0         Central and Southern Asia  \n",
       "1       Europe and Northern America  \n",
       "2  Northern Africa and Western Asia  \n",
       "3       Europe and Northern America  \n",
       "4                Sub-Saharan Africa  "
      ],
      "text/html": "<div>\n<style scoped>\n    .dataframe tbody tr th:only-of-type {\n        vertical-align: middle;\n    }\n\n    .dataframe tbody tr th {\n        vertical-align: top;\n    }\n\n    .dataframe thead th {\n        text-align: right;\n    }\n</style>\n<table border=\"1\" class=\"dataframe\">\n  <thead>\n    <tr style=\"text-align: right;\">\n      <th></th>\n      <th>countryCode</th>\n      <th>countryName</th>\n      <th>LDC</th>\n      <th>LLDC</th>\n      <th>SIDS</th>\n      <th>Development</th>\n      <th>regionCode</th>\n      <th>regionName</th>\n    </tr>\n  </thead>\n  <tbody>\n    <tr>\n      <th>0</th>\n      <td>4</td>\n      <td>Afghanistan</td>\n      <td>x</td>\n      <td>x</td>\n      <td>NaN</td>\n      <td>Developing</td>\n      <td>62</td>\n      <td>Central and Southern Asia</td>\n    </tr>\n    <tr>\n      <th>1</th>\n      <td>8</td>\n      <td>Albania</td>\n      <td>NaN</td>\n      <td>NaN</td>\n      <td>NaN</td>\n      <td>Developed</td>\n      <td>513</td>\n      <td>Europe and Northern America</td>\n    </tr>\n    <tr>\n      <th>2</th>\n      <td>12</td>\n      <td>Algeria</td>\n      <td>NaN</td>\n      <td>NaN</td>\n      <td>NaN</td>\n      <td>Developing</td>\n      <td>747</td>\n      <td>Northern Africa and Western Asia</td>\n    </tr>\n    <tr>\n      <th>3</th>\n      <td>20</td>\n      <td>Andorra</td>\n      <td>NaN</td>\n      <td>NaN</td>\n      <td>NaN</td>\n      <td>Developed</td>\n      <td>513</td>\n      <td>Europe and Northern America</td>\n    </tr>\n    <tr>\n      <th>4</th>\n      <td>24</td>\n      <td>Angola</td>\n      <td>x</td>\n      <td>NaN</td>\n      <td>NaN</td>\n      <td>Developing</td>\n      <td>202</td>\n      <td>Sub-Saharan Africa</td>\n    </tr>\n  </tbody>\n</table>\n</div>"
     },
     "metadata": {},
     "execution_count": 94
    },
    {
     "output_type": "execute_result",
     "data": {
      "text/plain": [
       "    Code                   SDG_Region_Name  Unnamed: 2  Unnamed: 3\n",
       "0    1.0                             World         NaN         NaN\n",
       "1  747.0  Northern Africa and Western Asia         NaN         NaN\n",
       "2  202.0                Sub-Saharan Africa         NaN         NaN\n",
       "3  419.0   Latin America and the Caribbean         NaN         NaN\n",
       "4  513.0       Europe and Northern America         NaN         NaN"
      ],
      "text/html": "<div>\n<style scoped>\n    .dataframe tbody tr th:only-of-type {\n        vertical-align: middle;\n    }\n\n    .dataframe tbody tr th {\n        vertical-align: top;\n    }\n\n    .dataframe thead th {\n        text-align: right;\n    }\n</style>\n<table border=\"1\" class=\"dataframe\">\n  <thead>\n    <tr style=\"text-align: right;\">\n      <th></th>\n      <th>Code</th>\n      <th>SDG_Region_Name</th>\n      <th>Unnamed: 2</th>\n      <th>Unnamed: 3</th>\n    </tr>\n  </thead>\n  <tbody>\n    <tr>\n      <th>0</th>\n      <td>1.0</td>\n      <td>World</td>\n      <td>NaN</td>\n      <td>NaN</td>\n    </tr>\n    <tr>\n      <th>1</th>\n      <td>747.0</td>\n      <td>Northern Africa and Western Asia</td>\n      <td>NaN</td>\n      <td>NaN</td>\n    </tr>\n    <tr>\n      <th>2</th>\n      <td>202.0</td>\n      <td>Sub-Saharan Africa</td>\n      <td>NaN</td>\n      <td>NaN</td>\n    </tr>\n    <tr>\n      <th>3</th>\n      <td>419.0</td>\n      <td>Latin America and the Caribbean</td>\n      <td>NaN</td>\n      <td>NaN</td>\n    </tr>\n    <tr>\n      <th>4</th>\n      <td>513.0</td>\n      <td>Europe and Northern America</td>\n      <td>NaN</td>\n      <td>NaN</td>\n    </tr>\n  </tbody>\n</table>\n</div>"
     },
     "metadata": {},
     "execution_count": 94
    }
   ],
   "source": [
    "# List or countries for which availability will be calculated \n",
    "# (currently includes 193 UN Member States plus State of Palestine)\n",
    "countries = pd.read_excel('../../data/external/m49_availability.xlsx', sheet_name='Countries')\n",
    "\n",
    "# List of regions for which availability will be calculated\n",
    "regions = pd.read_excel('../../data/external/m49_availability.xlsx', sheet_name='Regions')\n",
    "\n",
    "countries.head()\n",
    "regions.head()"
   ]
  },
  {
   "cell_type": "markdown",
   "metadata": {},
   "source": [
    "## 3. List of Goals, Targets, Series and Indicators"
   ]
  },
  {
   "cell_type": "code",
   "execution_count": 95,
   "metadata": {},
   "outputs": [
    {
     "output_type": "execute_result",
     "data": {
      "text/plain": [
       "dict_keys(['code', 'labelEN', 'descEN', 'labelES', 'descES', 'labelFR', 'descFR', 'labelRU', 'descRU', 'labelZN', 'descZN', 'hex', 'rgb', 'ColorScheme', 'thumbnail', 'targets'])"
      ]
     },
     "metadata": {},
     "execution_count": 95
    },
    {
     "output_type": "execute_result",
     "data": {
      "text/plain": [
       "dict_keys(['code', 'labelEN', 'descEN', 'labelES', 'descES', 'labelFR', 'descFR', 'labelRU', 'descRU', 'labelZN', 'descZN', 'indicators'])"
      ]
     },
     "metadata": {},
     "execution_count": 95
    },
    {
     "output_type": "execute_result",
     "data": {
      "text/plain": [
       "dict_keys(['code', 'reference', 'labelEN', 'descEN', 'labelES', 'descES', 'labelFR', 'descFR', 'labelRU', 'descRU', 'labelZN', 'descZN', 'series'])"
      ]
     },
     "metadata": {},
     "execution_count": 95
    },
    {
     "output_type": "execute_result",
     "data": {
      "text/plain": [
       "{'code': 'SI_POV_DAY1',\n",
       " 'description': 'Proportion of population below international poverty line (%)',\n",
       " 'release': '2020.Q2.G.03',\n",
       " 'tags': ['poverty line', 'poverty', 'standard of living', 'basic needs']}"
      ]
     },
     "metadata": {},
     "execution_count": 95
    }
   ],
   "source": [
    "\n",
    "# The medata_[release].json file includes the list of Goals, Targets, \n",
    "# Indictors and Series available in the database, along with their \n",
    "# descriptions and other annotations\n",
    "\n",
    "metadatafile = 'metadata_'+release+'.json'\n",
    "\n",
    "with open('../../data/external/'+metadatafile) as json_file:\n",
    "    metadata = json.load(json_file)\n",
    "\n",
    "\n",
    "# Goal-specific attributes:\n",
    "metadata[0].keys()\n",
    "\n",
    "# Target-specific attributes:\n",
    "metadata[0]['targets'][0].keys()\n",
    "\n",
    "# Indicator-specific attributes\n",
    "metadata[0]['targets'][0]['indicators'][0].keys()\n",
    "\n",
    "metadata[0]['targets'][0]['indicators'][0]['series'][0]\n"
   ]
  },
  {
   "cell_type": "markdown",
   "metadata": {},
   "source": [
    "## 4. Define auxiliary functions that will be used in this script"
   ]
  },
  {
   "cell_type": "markdown",
   "metadata": {},
   "source": [
    "#### Read a csv file containing a series dataset"
   ]
  },
  {
   "cell_type": "code",
   "execution_count": 96,
   "metadata": {},
   "outputs": [],
   "source": [
    "def read_sdg_dataset(csvfile):\n",
    "    return pd.read_csv('../../data/processed/'+release+'/'+csvfile, sep='\\t') \n"
   ]
  },
  {
   "cell_type": "markdown",
   "metadata": {},
   "source": [
    "#### Build csv file name"
   ]
  },
  {
   "cell_type": "code",
   "execution_count": 97,
   "metadata": {},
   "outputs": [],
   "source": [
    "def csv_file(indicator, series):\n",
    "    return ('Indicator_' + indicator.replace('.', '_') + '__Series_' + series + '.csv')"
   ]
  },
  {
   "cell_type": "markdown",
   "metadata": {},
   "source": [
    "#### Identify disaggregations\n",
    "\n",
    "Given a data set, identify columns that correpond to 'dimensions' / 'disaggregations'.  \n",
    "- Exclude all Goal, Target, Indicator, and Series codes and descriptions\n",
    "- Exclude all geographic codes and descriptions as well as coordinates\n",
    "- Exclude annotations (e.g., \"UN Member\"...)\n",
    "- Exclude time-reladed columns \n",
    "- Exclude attributes (units, reporting type, base period, footnotes, etc)\n",
    "- Exclude 'value' columns\n",
    "- Exclude upper/lower bound columns\n",
    "- Exclude 'description' columns\n",
    "\n",
    "! Note that \"nature\" is not included as dimension"
   ]
  },
  {
   "cell_type": "code",
   "execution_count": 98,
   "metadata": {},
   "outputs": [],
   "source": [
    "def get_disaggregations(data):\n",
    "   \n",
    "    dim_columns = list(data.columns)\n",
    "    exclude_cols = ['goal_code','goal_labelEN','goal_descEN','target_code','target_descEN',\n",
    "                'indicator_code','indicator_reference','indicator_descEN',\n",
    "                'series_release','series_tags','series','seriesDescription',\n",
    "                'geoAreaCode','geoAreaName','level','parentCode','parentName','type',\n",
    "                'X','Y','ISO3','UN_Member','Country_Profile','timeCoverage','geoInfoUrl',\n",
    "                'years','min_year','max_year','n_years',\n",
    "                'unitsCode','unitsDesc','reportingTypeCode','reportingTypeDesc',\n",
    "                'latest_value','basePeriod','valueDetails','footnotes','sources','timeDetails','nature']\n",
    "\n",
    "    d = [i for i in dim_columns if i not in exclude_cols and not i.startswith('value_') and not i.startswith('upper') and not i.startswith('lower') and not i.endswith('_desc')] \n",
    "    \n",
    "    #return [sub.replace('_code', '') for sub in d] \n",
    "    return d\n"
   ]
  },
  {
   "source": [
    "## Calculate availability, setp-by-step "
   ],
   "cell_type": "markdown",
   "metadata": {}
  },
  {
   "source": [
    "### Pick a series to run the example:"
   ],
   "cell_type": "markdown",
   "metadata": {}
  },
  {
   "cell_type": "code",
   "execution_count": 102,
   "metadata": {},
   "outputs": [
    {
     "output_type": "stream",
     "name": "stdout",
     "text": [
      "---> We will work with the following example:\nIndicator 1.1.1, Series SI_POV_EMP1: Employed population below international poverty line, by sex and age (%).\n"
     ]
    }
   ],
   "source": [
    "g = metadata[0]\n",
    "t = g['targets'][0]\n",
    "i = t['indicators'][0]\n",
    "s = i['series'][1]\n",
    "\n",
    "print(f'---> We will work with the following example:')\n",
    "print(f\"Indicator {i['reference']}, Series {s['code']}: {s['description']}.\")"
   ]
  },
  {
   "cell_type": "markdown",
   "metadata": {},
   "source": [
    "### Read the csv file:"
   ]
  },
  {
   "cell_type": "code",
   "execution_count": 103,
   "metadata": {},
   "outputs": [
    {
     "output_type": "execute_result",
     "data": {
      "text/plain": [
       "   goal_code goal_labelEN                              goal_descEN  \\\n",
       "0          1       Goal 1  End poverty in all its forms everywhere   \n",
       "1          1       Goal 1  End poverty in all its forms everywhere   \n",
       "2          1       Goal 1  End poverty in all its forms everywhere   \n",
       "3          1       Goal 1  End poverty in all its forms everywhere   \n",
       "4          1       Goal 1  End poverty in all its forms everywhere   \n",
       "\n",
       "   target_code                                      target_descEN  \\\n",
       "0          1.1  By 2030, eradicate extreme poverty for all peo...   \n",
       "1          1.1  By 2030, eradicate extreme poverty for all peo...   \n",
       "2          1.1  By 2030, eradicate extreme poverty for all peo...   \n",
       "3          1.1  By 2030, eradicate extreme poverty for all peo...   \n",
       "4          1.1  By 2030, eradicate extreme poverty for all peo...   \n",
       "\n",
       "  indicator_code indicator_reference  \\\n",
       "0        C010101               1.1.1   \n",
       "1        C010101               1.1.1   \n",
       "2        C010101               1.1.1   \n",
       "3        C010101               1.1.1   \n",
       "4        C010101               1.1.1   \n",
       "\n",
       "                                    indicator_descEN series_release  \\\n",
       "0  Proportion of the population living below the ...   2020.Q2.G.03   \n",
       "1  Proportion of the population living below the ...   2020.Q2.G.03   \n",
       "2  Proportion of the population living below the ...   2020.Q2.G.03   \n",
       "3  Proportion of the population living below the ...   2020.Q2.G.03   \n",
       "4  Proportion of the population living below the ...   2020.Q2.G.03   \n",
       "\n",
       "                                         series_tags  ... value_2017  \\\n",
       "0  ['poverty line', 'poverty', 'standard of livin...  ...        7.7   \n",
       "1  ['poverty line', 'poverty', 'standard of livin...  ...        6.8   \n",
       "2  ['poverty line', 'poverty', 'standard of livin...  ...        7.9   \n",
       "3  ['poverty line', 'poverty', 'standard of livin...  ...        7.1   \n",
       "4  ['poverty line', 'poverty', 'standard of livin...  ...       13.2   \n",
       "\n",
       "  value_2018  value_2019 latest_value  basePeriod  valueDetails footnotes  \\\n",
       "0        7.4         7.1          7.1         NaN           NaN       NaN   \n",
       "1        6.5         6.3          6.3         NaN           NaN       NaN   \n",
       "2        7.7         7.5          7.5         NaN           NaN       NaN   \n",
       "3        6.8         6.6          6.6         NaN           NaN       NaN   \n",
       "4       12.8        12.5         12.5         NaN           NaN       NaN   \n",
       "\n",
       "                                             sources  timeDetails  \\\n",
       "0  ILO modelled estimates, November 2019, availab...          NaN   \n",
       "1  ILO modelled estimates, November 2019, availab...          NaN   \n",
       "2  ILO modelled estimates, November 2019, availab...          NaN   \n",
       "3  ILO modelled estimates, November 2019, availab...          NaN   \n",
       "4  ILO modelled estimates, November 2019, availab...          NaN   \n",
       "\n",
       "            nature  \n",
       "0  M: Modeled data  \n",
       "1  M: Modeled data  \n",
       "2  M: Modeled data  \n",
       "3  M: Modeled data  \n",
       "4  M: Modeled data  \n",
       "\n",
       "[5 rows x 64 columns]"
      ],
      "text/html": "<div>\n<style scoped>\n    .dataframe tbody tr th:only-of-type {\n        vertical-align: middle;\n    }\n\n    .dataframe tbody tr th {\n        vertical-align: top;\n    }\n\n    .dataframe thead th {\n        text-align: right;\n    }\n</style>\n<table border=\"1\" class=\"dataframe\">\n  <thead>\n    <tr style=\"text-align: right;\">\n      <th></th>\n      <th>goal_code</th>\n      <th>goal_labelEN</th>\n      <th>goal_descEN</th>\n      <th>target_code</th>\n      <th>target_descEN</th>\n      <th>indicator_code</th>\n      <th>indicator_reference</th>\n      <th>indicator_descEN</th>\n      <th>series_release</th>\n      <th>series_tags</th>\n      <th>...</th>\n      <th>value_2017</th>\n      <th>value_2018</th>\n      <th>value_2019</th>\n      <th>latest_value</th>\n      <th>basePeriod</th>\n      <th>valueDetails</th>\n      <th>footnotes</th>\n      <th>sources</th>\n      <th>timeDetails</th>\n      <th>nature</th>\n    </tr>\n  </thead>\n  <tbody>\n    <tr>\n      <th>0</th>\n      <td>1</td>\n      <td>Goal 1</td>\n      <td>End poverty in all its forms everywhere</td>\n      <td>1.1</td>\n      <td>By 2030, eradicate extreme poverty for all peo...</td>\n      <td>C010101</td>\n      <td>1.1.1</td>\n      <td>Proportion of the population living below the ...</td>\n      <td>2020.Q2.G.03</td>\n      <td>['poverty line', 'poverty', 'standard of livin...</td>\n      <td>...</td>\n      <td>7.7</td>\n      <td>7.4</td>\n      <td>7.1</td>\n      <td>7.1</td>\n      <td>NaN</td>\n      <td>NaN</td>\n      <td>NaN</td>\n      <td>ILO modelled estimates, November 2019, availab...</td>\n      <td>NaN</td>\n      <td>M: Modeled data</td>\n    </tr>\n    <tr>\n      <th>1</th>\n      <td>1</td>\n      <td>Goal 1</td>\n      <td>End poverty in all its forms everywhere</td>\n      <td>1.1</td>\n      <td>By 2030, eradicate extreme poverty for all peo...</td>\n      <td>C010101</td>\n      <td>1.1.1</td>\n      <td>Proportion of the population living below the ...</td>\n      <td>2020.Q2.G.03</td>\n      <td>['poverty line', 'poverty', 'standard of livin...</td>\n      <td>...</td>\n      <td>6.8</td>\n      <td>6.5</td>\n      <td>6.3</td>\n      <td>6.3</td>\n      <td>NaN</td>\n      <td>NaN</td>\n      <td>NaN</td>\n      <td>ILO modelled estimates, November 2019, availab...</td>\n      <td>NaN</td>\n      <td>M: Modeled data</td>\n    </tr>\n    <tr>\n      <th>2</th>\n      <td>1</td>\n      <td>Goal 1</td>\n      <td>End poverty in all its forms everywhere</td>\n      <td>1.1</td>\n      <td>By 2030, eradicate extreme poverty for all peo...</td>\n      <td>C010101</td>\n      <td>1.1.1</td>\n      <td>Proportion of the population living below the ...</td>\n      <td>2020.Q2.G.03</td>\n      <td>['poverty line', 'poverty', 'standard of livin...</td>\n      <td>...</td>\n      <td>7.9</td>\n      <td>7.7</td>\n      <td>7.5</td>\n      <td>7.5</td>\n      <td>NaN</td>\n      <td>NaN</td>\n      <td>NaN</td>\n      <td>ILO modelled estimates, November 2019, availab...</td>\n      <td>NaN</td>\n      <td>M: Modeled data</td>\n    </tr>\n    <tr>\n      <th>3</th>\n      <td>1</td>\n      <td>Goal 1</td>\n      <td>End poverty in all its forms everywhere</td>\n      <td>1.1</td>\n      <td>By 2030, eradicate extreme poverty for all peo...</td>\n      <td>C010101</td>\n      <td>1.1.1</td>\n      <td>Proportion of the population living below the ...</td>\n      <td>2020.Q2.G.03</td>\n      <td>['poverty line', 'poverty', 'standard of livin...</td>\n      <td>...</td>\n      <td>7.1</td>\n      <td>6.8</td>\n      <td>6.6</td>\n      <td>6.6</td>\n      <td>NaN</td>\n      <td>NaN</td>\n      <td>NaN</td>\n      <td>ILO modelled estimates, November 2019, availab...</td>\n      <td>NaN</td>\n      <td>M: Modeled data</td>\n    </tr>\n    <tr>\n      <th>4</th>\n      <td>1</td>\n      <td>Goal 1</td>\n      <td>End poverty in all its forms everywhere</td>\n      <td>1.1</td>\n      <td>By 2030, eradicate extreme poverty for all peo...</td>\n      <td>C010101</td>\n      <td>1.1.1</td>\n      <td>Proportion of the population living below the ...</td>\n      <td>2020.Q2.G.03</td>\n      <td>['poverty line', 'poverty', 'standard of livin...</td>\n      <td>...</td>\n      <td>13.2</td>\n      <td>12.8</td>\n      <td>12.5</td>\n      <td>12.5</td>\n      <td>NaN</td>\n      <td>NaN</td>\n      <td>NaN</td>\n      <td>ILO modelled estimates, November 2019, availab...</td>\n      <td>NaN</td>\n      <td>M: Modeled data</td>\n    </tr>\n  </tbody>\n</table>\n<p>5 rows × 64 columns</p>\n</div>"
     },
     "metadata": {},
     "execution_count": 103
    }
   ],
   "source": [
    "f = csv_file(i['reference'], s['code'])\n",
    "                      \n",
    "data = read_sdg_dataset(f)\n",
    "\n",
    "data.head()"
   ]
  },
  {
   "source": [
    "#### Identify columns for available disaggregations"
   ],
   "cell_type": "markdown",
   "metadata": {}
  },
  {
   "cell_type": "code",
   "execution_count": 105,
   "metadata": {},
   "outputs": [
    {
     "output_type": "stream",
     "name": "stdout",
     "text": [
      "disaggregations for SI_POV_EMP1:\n"
     ]
    },
    {
     "output_type": "execute_result",
     "data": {
      "text/plain": [
       "['age_code', 'sex_code']"
      ]
     },
     "metadata": {},
     "execution_count": 105
    }
   ],
   "source": [
    "disaggregations = get_disaggregations(data)\n",
    "\n",
    "print(f\"disaggregations for {s['code']}:\")\n",
    "disaggregations\n",
    "\n"
   ]
  },
  {
   "source": [
    "#### Columns with geography and time-period information"
   ],
   "cell_type": "markdown",
   "metadata": {}
  },
  {
   "cell_type": "code",
   "execution_count": 106,
   "metadata": {},
   "outputs": [
    {
     "output_type": "stream",
     "name": "stdout",
     "text": [
      "columns with geography and time-period information for SI_POV_EMP1:\n"
     ]
    },
    {
     "output_type": "execute_result",
     "data": {
      "text/plain": [
       "['geoAreaCode', 'geoAreaName', 'years', 'min_year', 'max_year', 'n_years']"
      ]
     },
     "metadata": {},
     "execution_count": 106
    }
   ],
   "source": [
    "geo_and_time = ['geoAreaCode', 'geoAreaName','years', 'min_year', 'max_year', 'n_years']\n",
    "print(f\"columns with geography and time-period information for {s['code']}:\")\n",
    "geo_and_time\n"
   ]
  },
  {
   "source": [
    "#### Join country information and series dataset:"
   ],
   "cell_type": "markdown",
   "metadata": {}
  },
  {
   "cell_type": "code",
   "execution_count": 107,
   "metadata": {},
   "outputs": [
    {
     "output_type": "execute_result",
     "data": {
      "text/plain": [
       "   index  countryCode countryName  LDC LLDC SIDS Development  regionCode  \\\n",
       "0      0            8     Albania  NaN  NaN  NaN   Developed         513   \n",
       "1      1            8     Albania  NaN  NaN  NaN   Developed         513   \n",
       "2      2            8     Albania  NaN  NaN  NaN   Developed         513   \n",
       "3      3            8     Albania  NaN  NaN  NaN   Developed         513   \n",
       "4      4            8     Albania  NaN  NaN  NaN   Developed         513   \n",
       "\n",
       "                    regionName  geoAreaCode geoAreaName  \\\n",
       "0  Europe and Northern America            8     Albania   \n",
       "1  Europe and Northern America            8     Albania   \n",
       "2  Europe and Northern America            8     Albania   \n",
       "3  Europe and Northern America            8     Albania   \n",
       "4  Europe and Northern America            8     Albania   \n",
       "\n",
       "                      years  min_year  max_year  n_years age_code sex_code  \n",
       "0  [2002, 2005, 2008, 2012]      2002      2012        4   Y15T24        F  \n",
       "1  [2002, 2005, 2008, 2012]      2002      2012        4   Y_GE15        F  \n",
       "2  [2002, 2005, 2008, 2012]      2002      2012        4   Y_GE25        F  \n",
       "3  [2002, 2005, 2008, 2012]      2002      2012        4   Y15T24        M  \n",
       "4  [2002, 2005, 2008, 2012]      2002      2012        4   Y_GE15        M  "
      ],
      "text/html": "<div>\n<style scoped>\n    .dataframe tbody tr th:only-of-type {\n        vertical-align: middle;\n    }\n\n    .dataframe tbody tr th {\n        vertical-align: top;\n    }\n\n    .dataframe thead th {\n        text-align: right;\n    }\n</style>\n<table border=\"1\" class=\"dataframe\">\n  <thead>\n    <tr style=\"text-align: right;\">\n      <th></th>\n      <th>index</th>\n      <th>countryCode</th>\n      <th>countryName</th>\n      <th>LDC</th>\n      <th>LLDC</th>\n      <th>SIDS</th>\n      <th>Development</th>\n      <th>regionCode</th>\n      <th>regionName</th>\n      <th>geoAreaCode</th>\n      <th>geoAreaName</th>\n      <th>years</th>\n      <th>min_year</th>\n      <th>max_year</th>\n      <th>n_years</th>\n      <th>age_code</th>\n      <th>sex_code</th>\n    </tr>\n  </thead>\n  <tbody>\n    <tr>\n      <th>0</th>\n      <td>0</td>\n      <td>8</td>\n      <td>Albania</td>\n      <td>NaN</td>\n      <td>NaN</td>\n      <td>NaN</td>\n      <td>Developed</td>\n      <td>513</td>\n      <td>Europe and Northern America</td>\n      <td>8</td>\n      <td>Albania</td>\n      <td>[2002, 2005, 2008, 2012]</td>\n      <td>2002</td>\n      <td>2012</td>\n      <td>4</td>\n      <td>Y15T24</td>\n      <td>F</td>\n    </tr>\n    <tr>\n      <th>1</th>\n      <td>1</td>\n      <td>8</td>\n      <td>Albania</td>\n      <td>NaN</td>\n      <td>NaN</td>\n      <td>NaN</td>\n      <td>Developed</td>\n      <td>513</td>\n      <td>Europe and Northern America</td>\n      <td>8</td>\n      <td>Albania</td>\n      <td>[2002, 2005, 2008, 2012]</td>\n      <td>2002</td>\n      <td>2012</td>\n      <td>4</td>\n      <td>Y_GE15</td>\n      <td>F</td>\n    </tr>\n    <tr>\n      <th>2</th>\n      <td>2</td>\n      <td>8</td>\n      <td>Albania</td>\n      <td>NaN</td>\n      <td>NaN</td>\n      <td>NaN</td>\n      <td>Developed</td>\n      <td>513</td>\n      <td>Europe and Northern America</td>\n      <td>8</td>\n      <td>Albania</td>\n      <td>[2002, 2005, 2008, 2012]</td>\n      <td>2002</td>\n      <td>2012</td>\n      <td>4</td>\n      <td>Y_GE25</td>\n      <td>F</td>\n    </tr>\n    <tr>\n      <th>3</th>\n      <td>3</td>\n      <td>8</td>\n      <td>Albania</td>\n      <td>NaN</td>\n      <td>NaN</td>\n      <td>NaN</td>\n      <td>Developed</td>\n      <td>513</td>\n      <td>Europe and Northern America</td>\n      <td>8</td>\n      <td>Albania</td>\n      <td>[2002, 2005, 2008, 2012]</td>\n      <td>2002</td>\n      <td>2012</td>\n      <td>4</td>\n      <td>Y15T24</td>\n      <td>M</td>\n    </tr>\n    <tr>\n      <th>4</th>\n      <td>4</td>\n      <td>8</td>\n      <td>Albania</td>\n      <td>NaN</td>\n      <td>NaN</td>\n      <td>NaN</td>\n      <td>Developed</td>\n      <td>513</td>\n      <td>Europe and Northern America</td>\n      <td>8</td>\n      <td>Albania</td>\n      <td>[2002, 2005, 2008, 2012]</td>\n      <td>2002</td>\n      <td>2012</td>\n      <td>4</td>\n      <td>Y_GE15</td>\n      <td>M</td>\n    </tr>\n  </tbody>\n</table>\n</div>"
     },
     "metadata": {},
     "execution_count": 107
    }
   ],
   "source": [
    "country_data = pd.merge(countries, \n",
    "                        data[geo_and_time + disaggregations], \n",
    "                        how='inner', \n",
    "                        left_on=['countryCode'], \n",
    "                        right_on=['geoAreaCode']).reset_index()\n",
    "                      \n",
    "x = country_data.copy()\n",
    "x.head()"
   ]
  },
  {
   "source": [
    "#### Check number of years and latest year available, as well as the number of time series (disaggregations)\n",
    "\n",
    "- `n_years` is the maximum number of years available for the series among any disaggregation\n",
    "- `n_time_Series` is the number of disaggregations available for the series"
   ],
   "cell_type": "markdown",
   "metadata": {}
  },
  {
   "cell_type": "code",
   "execution_count": 108,
   "metadata": {},
   "outputs": [
    {
     "output_type": "execute_result",
     "data": {
      "text/plain": [
       "   countryCode countryName  max_year  n_years  n_timeSeries\n",
       "0            8     Albania      2012        4             9\n",
       "1           12     Algeria      2011        1             9\n",
       "2           24      Angola      2009        2             9\n",
       "3           31  Azerbaijan      2005        4             9\n",
       "4           32   Argentina      2017       17             9"
      ],
      "text/html": "<div>\n<style scoped>\n    .dataframe tbody tr th:only-of-type {\n        vertical-align: middle;\n    }\n\n    .dataframe tbody tr th {\n        vertical-align: top;\n    }\n\n    .dataframe thead th {\n        text-align: right;\n    }\n</style>\n<table border=\"1\" class=\"dataframe\">\n  <thead>\n    <tr style=\"text-align: right;\">\n      <th></th>\n      <th>countryCode</th>\n      <th>countryName</th>\n      <th>max_year</th>\n      <th>n_years</th>\n      <th>n_timeSeries</th>\n    </tr>\n  </thead>\n  <tbody>\n    <tr>\n      <th>0</th>\n      <td>8</td>\n      <td>Albania</td>\n      <td>2012</td>\n      <td>4</td>\n      <td>9</td>\n    </tr>\n    <tr>\n      <th>1</th>\n      <td>12</td>\n      <td>Algeria</td>\n      <td>2011</td>\n      <td>1</td>\n      <td>9</td>\n    </tr>\n    <tr>\n      <th>2</th>\n      <td>24</td>\n      <td>Angola</td>\n      <td>2009</td>\n      <td>2</td>\n      <td>9</td>\n    </tr>\n    <tr>\n      <th>3</th>\n      <td>31</td>\n      <td>Azerbaijan</td>\n      <td>2005</td>\n      <td>4</td>\n      <td>9</td>\n    </tr>\n    <tr>\n      <th>4</th>\n      <td>32</td>\n      <td>Argentina</td>\n      <td>2017</td>\n      <td>17</td>\n      <td>9</td>\n    </tr>\n  </tbody>\n</table>\n</div>"
     },
     "metadata": {},
     "execution_count": 108
    }
   ],
   "source": [
    "country_availability = x.groupby(['countryCode', 'countryName'], as_index=False).agg({'max_year':['max'],'n_years':['max', 'count']})      \n",
    "country_availability.columns = ['countryCode', 'countryName','max_year', 'n_years', 'n_timeSeries']\n",
    "\n",
    "country_availability.head()"
   ]
  },
  {
   "source": [
    "#### Check the number of dimensions in the dataset"
   ],
   "cell_type": "markdown",
   "metadata": {}
  },
  {
   "cell_type": "code",
   "execution_count": 109,
   "metadata": {},
   "outputs": [
    {
     "output_type": "execute_result",
     "data": {
      "text/plain": [
       "   countryCode countryName  max_year  n_years  n_timeSeries  n_dimensions\n",
       "0            8     Albania      2012        4             9             2\n",
       "1           12     Algeria      2011        1             9             2\n",
       "2           24      Angola      2009        2             9             2\n",
       "3           31  Azerbaijan      2005        4             9             2\n",
       "4           32   Argentina      2017       17             9             2"
      ],
      "text/html": "<div>\n<style scoped>\n    .dataframe tbody tr th:only-of-type {\n        vertical-align: middle;\n    }\n\n    .dataframe tbody tr th {\n        vertical-align: top;\n    }\n\n    .dataframe thead th {\n        text-align: right;\n    }\n</style>\n<table border=\"1\" class=\"dataframe\">\n  <thead>\n    <tr style=\"text-align: right;\">\n      <th></th>\n      <th>countryCode</th>\n      <th>countryName</th>\n      <th>max_year</th>\n      <th>n_years</th>\n      <th>n_timeSeries</th>\n      <th>n_dimensions</th>\n    </tr>\n  </thead>\n  <tbody>\n    <tr>\n      <th>0</th>\n      <td>8</td>\n      <td>Albania</td>\n      <td>2012</td>\n      <td>4</td>\n      <td>9</td>\n      <td>2</td>\n    </tr>\n    <tr>\n      <th>1</th>\n      <td>12</td>\n      <td>Algeria</td>\n      <td>2011</td>\n      <td>1</td>\n      <td>9</td>\n      <td>2</td>\n    </tr>\n    <tr>\n      <th>2</th>\n      <td>24</td>\n      <td>Angola</td>\n      <td>2009</td>\n      <td>2</td>\n      <td>9</td>\n      <td>2</td>\n    </tr>\n    <tr>\n      <th>3</th>\n      <td>31</td>\n      <td>Azerbaijan</td>\n      <td>2005</td>\n      <td>4</td>\n      <td>9</td>\n      <td>2</td>\n    </tr>\n    <tr>\n      <th>4</th>\n      <td>32</td>\n      <td>Argentina</td>\n      <td>2017</td>\n      <td>17</td>\n      <td>9</td>\n      <td>2</td>\n    </tr>\n  </tbody>\n</table>\n</div>"
     },
     "metadata": {},
     "execution_count": 109
    }
   ],
   "source": [
    "country_availability['n_dimensions']  = len(get_disaggregations(data)) \n",
    "country_availability.head()"
   ]
  },
  {
   "source": [
    "#### Check average number levels/values per dimension"
   ],
   "cell_type": "markdown",
   "metadata": {}
  },
  {
   "cell_type": "code",
   "execution_count": 110,
   "metadata": {},
   "outputs": [
    {
     "output_type": "execute_result",
     "data": {
      "text/plain": [
       "   countryCode countryName  max_year  n_years  n_timeSeries  n_dimensions  \\\n",
       "0            8     Albania      2012        4             9             2   \n",
       "1           12     Algeria      2011        1             9             2   \n",
       "2           24      Angola      2009        2             9             2   \n",
       "3           31  Azerbaijan      2005        4             9             2   \n",
       "4           32   Argentina      2017       17             9             2   \n",
       "\n",
       "   values_per_dim  \n",
       "0             3.0  \n",
       "1             3.0  \n",
       "2             3.0  \n",
       "3             3.0  \n",
       "4             3.0  "
      ],
      "text/html": "<div>\n<style scoped>\n    .dataframe tbody tr th:only-of-type {\n        vertical-align: middle;\n    }\n\n    .dataframe tbody tr th {\n        vertical-align: top;\n    }\n\n    .dataframe thead th {\n        text-align: right;\n    }\n</style>\n<table border=\"1\" class=\"dataframe\">\n  <thead>\n    <tr style=\"text-align: right;\">\n      <th></th>\n      <th>countryCode</th>\n      <th>countryName</th>\n      <th>max_year</th>\n      <th>n_years</th>\n      <th>n_timeSeries</th>\n      <th>n_dimensions</th>\n      <th>values_per_dim</th>\n    </tr>\n  </thead>\n  <tbody>\n    <tr>\n      <th>0</th>\n      <td>8</td>\n      <td>Albania</td>\n      <td>2012</td>\n      <td>4</td>\n      <td>9</td>\n      <td>2</td>\n      <td>3.0</td>\n    </tr>\n    <tr>\n      <th>1</th>\n      <td>12</td>\n      <td>Algeria</td>\n      <td>2011</td>\n      <td>1</td>\n      <td>9</td>\n      <td>2</td>\n      <td>3.0</td>\n    </tr>\n    <tr>\n      <th>2</th>\n      <td>24</td>\n      <td>Angola</td>\n      <td>2009</td>\n      <td>2</td>\n      <td>9</td>\n      <td>2</td>\n      <td>3.0</td>\n    </tr>\n    <tr>\n      <th>3</th>\n      <td>31</td>\n      <td>Azerbaijan</td>\n      <td>2005</td>\n      <td>4</td>\n      <td>9</td>\n      <td>2</td>\n      <td>3.0</td>\n    </tr>\n    <tr>\n      <th>4</th>\n      <td>32</td>\n      <td>Argentina</td>\n      <td>2017</td>\n      <td>17</td>\n      <td>9</td>\n      <td>2</td>\n      <td>3.0</td>\n    </tr>\n  </tbody>\n</table>\n</div>"
     },
     "metadata": {},
     "execution_count": 110
    }
   ],
   "source": [
    "if len(get_disaggregations(data)) > 0:\n",
    "    country_availability['values_per_dim']  =  country_availability['n_timeSeries'] ** (1/len(get_disaggregations(data)))  \n",
    "else:\n",
    "    country_availability['values_per_dim']  =  None\n",
    "\n",
    "country_availability.head()"
   ]
  },
  {
   "source": [
    "#### Check disaggregation by sex"
   ],
   "cell_type": "markdown",
   "metadata": {}
  },
  {
   "cell_type": "code",
   "execution_count": 111,
   "metadata": {},
   "outputs": [
    {
     "output_type": "execute_result",
     "data": {
      "text/plain": [
       "   countryCode countryName  max_year  n_years  n_timeSeries  n_dimensions  \\\n",
       "0            8     Albania      2012        4             9             2   \n",
       "1           12     Algeria      2011        1             9             2   \n",
       "2           24      Angola      2009        2             9             2   \n",
       "3           31  Azerbaijan      2005        4             9             2   \n",
       "4           32   Argentina      2017       17             9             2   \n",
       "\n",
       "   values_per_dim  data_for_female  \n",
       "0             3.0                1  \n",
       "1             3.0                1  \n",
       "2             3.0                1  \n",
       "3             3.0                1  \n",
       "4             3.0                1  "
      ],
      "text/html": "<div>\n<style scoped>\n    .dataframe tbody tr th:only-of-type {\n        vertical-align: middle;\n    }\n\n    .dataframe tbody tr th {\n        vertical-align: top;\n    }\n\n    .dataframe thead th {\n        text-align: right;\n    }\n</style>\n<table border=\"1\" class=\"dataframe\">\n  <thead>\n    <tr style=\"text-align: right;\">\n      <th></th>\n      <th>countryCode</th>\n      <th>countryName</th>\n      <th>max_year</th>\n      <th>n_years</th>\n      <th>n_timeSeries</th>\n      <th>n_dimensions</th>\n      <th>values_per_dim</th>\n      <th>data_for_female</th>\n    </tr>\n  </thead>\n  <tbody>\n    <tr>\n      <th>0</th>\n      <td>8</td>\n      <td>Albania</td>\n      <td>2012</td>\n      <td>4</td>\n      <td>9</td>\n      <td>2</td>\n      <td>3.0</td>\n      <td>1</td>\n    </tr>\n    <tr>\n      <th>1</th>\n      <td>12</td>\n      <td>Algeria</td>\n      <td>2011</td>\n      <td>1</td>\n      <td>9</td>\n      <td>2</td>\n      <td>3.0</td>\n      <td>1</td>\n    </tr>\n    <tr>\n      <th>2</th>\n      <td>24</td>\n      <td>Angola</td>\n      <td>2009</td>\n      <td>2</td>\n      <td>9</td>\n      <td>2</td>\n      <td>3.0</td>\n      <td>1</td>\n    </tr>\n    <tr>\n      <th>3</th>\n      <td>31</td>\n      <td>Azerbaijan</td>\n      <td>2005</td>\n      <td>4</td>\n      <td>9</td>\n      <td>2</td>\n      <td>3.0</td>\n      <td>1</td>\n    </tr>\n    <tr>\n      <th>4</th>\n      <td>32</td>\n      <td>Argentina</td>\n      <td>2017</td>\n      <td>17</td>\n      <td>9</td>\n      <td>2</td>\n      <td>3.0</td>\n      <td>1</td>\n    </tr>\n  </tbody>\n</table>\n</div>"
     },
     "metadata": {},
     "execution_count": 111
    }
   ],
   "source": [
    "if 'sex_code' in get_disaggregations(data):\n",
    "    xx = data[['geoAreaCode']][data['sex_code']=='F'].drop_duplicates()\n",
    "    xx = xx['geoAreaCode'].tolist()\n",
    "else:\n",
    "    xx = []\n",
    "\n",
    "country_availability['data_for_female'] = np.where(country_availability['countryCode'].isin(xx), 1, 0)\n",
    "\n",
    "country_availability.head()"
   ]
  },
  {
   "source": [
    "#### Add regional groupings"
   ],
   "cell_type": "markdown",
   "metadata": {}
  },
  {
   "cell_type": "code",
   "execution_count": 112,
   "metadata": {},
   "outputs": [
    {
     "output_type": "execute_result",
     "data": {
      "text/plain": [
       "   index  countryCode countryName_x  LDC LLDC SIDS Development  regionCode  \\\n",
       "0      0            4   Afghanistan    x    x  NaN  Developing          62   \n",
       "1      1            8       Albania  NaN  NaN  NaN   Developed         513   \n",
       "2      2           12       Algeria  NaN  NaN  NaN  Developing         747   \n",
       "3      3           20       Andorra  NaN  NaN  NaN   Developed         513   \n",
       "4      4           24        Angola    x  NaN  NaN  Developing         202   \n",
       "\n",
       "                         regionName countryName_y  max_year  n_years  \\\n",
       "0         Central and Southern Asia           NaN       NaN      NaN   \n",
       "1       Europe and Northern America       Albania    2012.0      4.0   \n",
       "2  Northern Africa and Western Asia       Algeria    2011.0      1.0   \n",
       "3       Europe and Northern America           NaN       NaN      NaN   \n",
       "4                Sub-Saharan Africa        Angola    2009.0      2.0   \n",
       "\n",
       "   n_timeSeries  n_dimensions  values_per_dim  data_for_female  \n",
       "0           NaN           NaN             NaN              NaN  \n",
       "1           9.0           2.0             3.0              1.0  \n",
       "2           9.0           2.0             3.0              1.0  \n",
       "3           NaN           NaN             NaN              NaN  \n",
       "4           9.0           2.0             3.0              1.0  "
      ],
      "text/html": "<div>\n<style scoped>\n    .dataframe tbody tr th:only-of-type {\n        vertical-align: middle;\n    }\n\n    .dataframe tbody tr th {\n        vertical-align: top;\n    }\n\n    .dataframe thead th {\n        text-align: right;\n    }\n</style>\n<table border=\"1\" class=\"dataframe\">\n  <thead>\n    <tr style=\"text-align: right;\">\n      <th></th>\n      <th>index</th>\n      <th>countryCode</th>\n      <th>countryName_x</th>\n      <th>LDC</th>\n      <th>LLDC</th>\n      <th>SIDS</th>\n      <th>Development</th>\n      <th>regionCode</th>\n      <th>regionName</th>\n      <th>countryName_y</th>\n      <th>max_year</th>\n      <th>n_years</th>\n      <th>n_timeSeries</th>\n      <th>n_dimensions</th>\n      <th>values_per_dim</th>\n      <th>data_for_female</th>\n    </tr>\n  </thead>\n  <tbody>\n    <tr>\n      <th>0</th>\n      <td>0</td>\n      <td>4</td>\n      <td>Afghanistan</td>\n      <td>x</td>\n      <td>x</td>\n      <td>NaN</td>\n      <td>Developing</td>\n      <td>62</td>\n      <td>Central and Southern Asia</td>\n      <td>NaN</td>\n      <td>NaN</td>\n      <td>NaN</td>\n      <td>NaN</td>\n      <td>NaN</td>\n      <td>NaN</td>\n      <td>NaN</td>\n    </tr>\n    <tr>\n      <th>1</th>\n      <td>1</td>\n      <td>8</td>\n      <td>Albania</td>\n      <td>NaN</td>\n      <td>NaN</td>\n      <td>NaN</td>\n      <td>Developed</td>\n      <td>513</td>\n      <td>Europe and Northern America</td>\n      <td>Albania</td>\n      <td>2012.0</td>\n      <td>4.0</td>\n      <td>9.0</td>\n      <td>2.0</td>\n      <td>3.0</td>\n      <td>1.0</td>\n    </tr>\n    <tr>\n      <th>2</th>\n      <td>2</td>\n      <td>12</td>\n      <td>Algeria</td>\n      <td>NaN</td>\n      <td>NaN</td>\n      <td>NaN</td>\n      <td>Developing</td>\n      <td>747</td>\n      <td>Northern Africa and Western Asia</td>\n      <td>Algeria</td>\n      <td>2011.0</td>\n      <td>1.0</td>\n      <td>9.0</td>\n      <td>2.0</td>\n      <td>3.0</td>\n      <td>1.0</td>\n    </tr>\n    <tr>\n      <th>3</th>\n      <td>3</td>\n      <td>20</td>\n      <td>Andorra</td>\n      <td>NaN</td>\n      <td>NaN</td>\n      <td>NaN</td>\n      <td>Developed</td>\n      <td>513</td>\n      <td>Europe and Northern America</td>\n      <td>NaN</td>\n      <td>NaN</td>\n      <td>NaN</td>\n      <td>NaN</td>\n      <td>NaN</td>\n      <td>NaN</td>\n      <td>NaN</td>\n    </tr>\n    <tr>\n      <th>4</th>\n      <td>4</td>\n      <td>24</td>\n      <td>Angola</td>\n      <td>x</td>\n      <td>NaN</td>\n      <td>NaN</td>\n      <td>Developing</td>\n      <td>202</td>\n      <td>Sub-Saharan Africa</td>\n      <td>Angola</td>\n      <td>2009.0</td>\n      <td>2.0</td>\n      <td>9.0</td>\n      <td>2.0</td>\n      <td>3.0</td>\n      <td>1.0</td>\n    </tr>\n  </tbody>\n</table>\n</div>"
     },
     "metadata": {},
     "execution_count": 112
    }
   ],
   "source": [
    "                      \n",
    "country_availability = pd.merge(countries,\n",
    "                                country_availability,\n",
    "                                how='left',\n",
    "                                on = ['countryCode']\n",
    "                                ).reset_index()\n",
    "\n",
    "country_availability.head()"
   ]
  },
  {
   "source": [
    "#### Add goal, target, indicator and series codes and descriptions\n",
    "\n",
    "- Notice that goal and target codes are prefixed by \"'\", so they are taken as strings in excel"
   ],
   "cell_type": "markdown",
   "metadata": {}
  },
  {
   "cell_type": "code",
   "execution_count": 113,
   "metadata": {},
   "outputs": [
    {
     "output_type": "execute_result",
     "data": {
      "text/plain": [
       "   index  countryCode countryName_x  LDC LLDC SIDS Development  regionCode  \\\n",
       "0      0            4   Afghanistan    x    x  NaN  Developing          62   \n",
       "1      1            8       Albania  NaN  NaN  NaN   Developed         513   \n",
       "2      2           12       Algeria  NaN  NaN  NaN  Developing         747   \n",
       "3      3           20       Andorra  NaN  NaN  NaN   Developed         513   \n",
       "4      4           24        Angola    x  NaN  NaN  Developing         202   \n",
       "\n",
       "                         regionName countryName_y  ...  n_years  n_timeSeries  \\\n",
       "0         Central and Southern Asia           NaN  ...      NaN           NaN   \n",
       "1       Europe and Northern America       Albania  ...      4.0           9.0   \n",
       "2  Northern Africa and Western Asia       Algeria  ...      1.0           9.0   \n",
       "3       Europe and Northern America           NaN  ...      NaN           NaN   \n",
       "4                Sub-Saharan Africa        Angola  ...      2.0           9.0   \n",
       "\n",
       "   n_dimensions  values_per_dim  data_for_female  Goal Target Indicator_ref  \\\n",
       "0           NaN             NaN              NaN    '1   '1.1         1.1.1   \n",
       "1           2.0             3.0              1.0    '1   '1.1         1.1.1   \n",
       "2           2.0             3.0              1.0    '1   '1.1         1.1.1   \n",
       "3           NaN             NaN              NaN    '1   '1.1         1.1.1   \n",
       "4           2.0             3.0              1.0    '1   '1.1         1.1.1   \n",
       "\n",
       "   Series_code                                        Series_desc  \n",
       "0  SI_POV_EMP1  Employed population below international povert...  \n",
       "1  SI_POV_EMP1  Employed population below international povert...  \n",
       "2  SI_POV_EMP1  Employed population below international povert...  \n",
       "3  SI_POV_EMP1  Employed population below international povert...  \n",
       "4  SI_POV_EMP1  Employed population below international povert...  \n",
       "\n",
       "[5 rows x 21 columns]"
      ],
      "text/html": "<div>\n<style scoped>\n    .dataframe tbody tr th:only-of-type {\n        vertical-align: middle;\n    }\n\n    .dataframe tbody tr th {\n        vertical-align: top;\n    }\n\n    .dataframe thead th {\n        text-align: right;\n    }\n</style>\n<table border=\"1\" class=\"dataframe\">\n  <thead>\n    <tr style=\"text-align: right;\">\n      <th></th>\n      <th>index</th>\n      <th>countryCode</th>\n      <th>countryName_x</th>\n      <th>LDC</th>\n      <th>LLDC</th>\n      <th>SIDS</th>\n      <th>Development</th>\n      <th>regionCode</th>\n      <th>regionName</th>\n      <th>countryName_y</th>\n      <th>...</th>\n      <th>n_years</th>\n      <th>n_timeSeries</th>\n      <th>n_dimensions</th>\n      <th>values_per_dim</th>\n      <th>data_for_female</th>\n      <th>Goal</th>\n      <th>Target</th>\n      <th>Indicator_ref</th>\n      <th>Series_code</th>\n      <th>Series_desc</th>\n    </tr>\n  </thead>\n  <tbody>\n    <tr>\n      <th>0</th>\n      <td>0</td>\n      <td>4</td>\n      <td>Afghanistan</td>\n      <td>x</td>\n      <td>x</td>\n      <td>NaN</td>\n      <td>Developing</td>\n      <td>62</td>\n      <td>Central and Southern Asia</td>\n      <td>NaN</td>\n      <td>...</td>\n      <td>NaN</td>\n      <td>NaN</td>\n      <td>NaN</td>\n      <td>NaN</td>\n      <td>NaN</td>\n      <td>'1</td>\n      <td>'1.1</td>\n      <td>1.1.1</td>\n      <td>SI_POV_EMP1</td>\n      <td>Employed population below international povert...</td>\n    </tr>\n    <tr>\n      <th>1</th>\n      <td>1</td>\n      <td>8</td>\n      <td>Albania</td>\n      <td>NaN</td>\n      <td>NaN</td>\n      <td>NaN</td>\n      <td>Developed</td>\n      <td>513</td>\n      <td>Europe and Northern America</td>\n      <td>Albania</td>\n      <td>...</td>\n      <td>4.0</td>\n      <td>9.0</td>\n      <td>2.0</td>\n      <td>3.0</td>\n      <td>1.0</td>\n      <td>'1</td>\n      <td>'1.1</td>\n      <td>1.1.1</td>\n      <td>SI_POV_EMP1</td>\n      <td>Employed population below international povert...</td>\n    </tr>\n    <tr>\n      <th>2</th>\n      <td>2</td>\n      <td>12</td>\n      <td>Algeria</td>\n      <td>NaN</td>\n      <td>NaN</td>\n      <td>NaN</td>\n      <td>Developing</td>\n      <td>747</td>\n      <td>Northern Africa and Western Asia</td>\n      <td>Algeria</td>\n      <td>...</td>\n      <td>1.0</td>\n      <td>9.0</td>\n      <td>2.0</td>\n      <td>3.0</td>\n      <td>1.0</td>\n      <td>'1</td>\n      <td>'1.1</td>\n      <td>1.1.1</td>\n      <td>SI_POV_EMP1</td>\n      <td>Employed population below international povert...</td>\n    </tr>\n    <tr>\n      <th>3</th>\n      <td>3</td>\n      <td>20</td>\n      <td>Andorra</td>\n      <td>NaN</td>\n      <td>NaN</td>\n      <td>NaN</td>\n      <td>Developed</td>\n      <td>513</td>\n      <td>Europe and Northern America</td>\n      <td>NaN</td>\n      <td>...</td>\n      <td>NaN</td>\n      <td>NaN</td>\n      <td>NaN</td>\n      <td>NaN</td>\n      <td>NaN</td>\n      <td>'1</td>\n      <td>'1.1</td>\n      <td>1.1.1</td>\n      <td>SI_POV_EMP1</td>\n      <td>Employed population below international povert...</td>\n    </tr>\n    <tr>\n      <th>4</th>\n      <td>4</td>\n      <td>24</td>\n      <td>Angola</td>\n      <td>x</td>\n      <td>NaN</td>\n      <td>NaN</td>\n      <td>Developing</td>\n      <td>202</td>\n      <td>Sub-Saharan Africa</td>\n      <td>Angola</td>\n      <td>...</td>\n      <td>2.0</td>\n      <td>9.0</td>\n      <td>2.0</td>\n      <td>3.0</td>\n      <td>1.0</td>\n      <td>'1</td>\n      <td>'1.1</td>\n      <td>1.1.1</td>\n      <td>SI_POV_EMP1</td>\n      <td>Employed population below international povert...</td>\n    </tr>\n  </tbody>\n</table>\n<p>5 rows × 21 columns</p>\n</div>"
     },
     "metadata": {},
     "execution_count": 113
    }
   ],
   "source": [
    "country_availability['Goal'] = '\\''+ g['code']\n",
    "country_availability['Target'] = '\\'' + t['code']\n",
    "country_availability['Indicator_ref'] = i['reference']\n",
    "country_availability['Series_code'] = s['code']\n",
    "country_availability['Series_desc'] = s['description']\n",
    "\n",
    "country_availability.head()"
   ]
  },
  {
   "source": [
    "### Availability by region\n",
    "\n",
    "Regional availability is the aggregation of individual-country availablity. \n",
    "- Median of the number of years available per country\n",
    "- Median of the number of time series avaialable per country\n",
    "- Median of the number of dimensions available per country\n",
    "- Median of the number of average number levels/values per dimension per country\n",
    "- Mean of the % of observations for female\n"
   ],
   "cell_type": "markdown",
   "metadata": {}
  },
  {
   "source": [
    "#### Calculate 'median/average' country availability by region"
   ],
   "cell_type": "markdown",
   "metadata": {}
  },
  {
   "cell_type": "code",
   "execution_count": 114,
   "metadata": {},
   "outputs": [
    {
     "output_type": "execute_result",
     "data": {
      "text/plain": [
       "   index Goal Target Indicator_ref  Series_code  \\\n",
       "0      0   '1   '1.1         1.1.1  SI_POV_EMP1   \n",
       "1      1   '1   '1.1         1.1.1  SI_POV_EMP1   \n",
       "2      2   '1   '1.1         1.1.1  SI_POV_EMP1   \n",
       "3      3   '1   '1.1         1.1.1  SI_POV_EMP1   \n",
       "4      4   '1   '1.1         1.1.1  SI_POV_EMP1   \n",
       "\n",
       "                                         Series_desc  regionCode  \\\n",
       "0  Employed population below international povert...          53   \n",
       "1  Employed population below international povert...          62   \n",
       "2  Employed population below international povert...         202   \n",
       "3  Employed population below international povert...         419   \n",
       "4  Employed population below international povert...         513   \n",
       "\n",
       "                        regionName  n_countries_available  median_max_year  \\\n",
       "0        Australia and New Zealand                      0              NaN   \n",
       "1        Central and Southern Asia                     12           2016.0   \n",
       "2               Sub-Saharan Africa                     40           2014.0   \n",
       "3  Latin America and the Caribbean                     20           2017.0   \n",
       "4      Europe and Northern America                      8           2015.0   \n",
       "\n",
       "   median_n_years  median_n_timeSeries  n_dimensions  median_values_per_dim  \\\n",
       "0             NaN                  NaN           NaN                    NaN   \n",
       "1             4.5                  9.0           2.0                    3.0   \n",
       "2             3.0                  9.0           2.0                    3.0   \n",
       "3            16.0                  9.0           2.0                    3.0   \n",
       "4            13.0                  9.0           2.0                    3.0   \n",
       "\n",
       "   mean_data_for_female  n_countries_total  \n",
       "0                   NaN                  2  \n",
       "1                   1.0                 14  \n",
       "2                   1.0                 48  \n",
       "3                   1.0                 33  \n",
       "4                   1.0                 45  "
      ],
      "text/html": "<div>\n<style scoped>\n    .dataframe tbody tr th:only-of-type {\n        vertical-align: middle;\n    }\n\n    .dataframe tbody tr th {\n        vertical-align: top;\n    }\n\n    .dataframe thead th {\n        text-align: right;\n    }\n</style>\n<table border=\"1\" class=\"dataframe\">\n  <thead>\n    <tr style=\"text-align: right;\">\n      <th></th>\n      <th>index</th>\n      <th>Goal</th>\n      <th>Target</th>\n      <th>Indicator_ref</th>\n      <th>Series_code</th>\n      <th>Series_desc</th>\n      <th>regionCode</th>\n      <th>regionName</th>\n      <th>n_countries_available</th>\n      <th>median_max_year</th>\n      <th>median_n_years</th>\n      <th>median_n_timeSeries</th>\n      <th>n_dimensions</th>\n      <th>median_values_per_dim</th>\n      <th>mean_data_for_female</th>\n      <th>n_countries_total</th>\n    </tr>\n  </thead>\n  <tbody>\n    <tr>\n      <th>0</th>\n      <td>0</td>\n      <td>'1</td>\n      <td>'1.1</td>\n      <td>1.1.1</td>\n      <td>SI_POV_EMP1</td>\n      <td>Employed population below international povert...</td>\n      <td>53</td>\n      <td>Australia and New Zealand</td>\n      <td>0</td>\n      <td>NaN</td>\n      <td>NaN</td>\n      <td>NaN</td>\n      <td>NaN</td>\n      <td>NaN</td>\n      <td>NaN</td>\n      <td>2</td>\n    </tr>\n    <tr>\n      <th>1</th>\n      <td>1</td>\n      <td>'1</td>\n      <td>'1.1</td>\n      <td>1.1.1</td>\n      <td>SI_POV_EMP1</td>\n      <td>Employed population below international povert...</td>\n      <td>62</td>\n      <td>Central and Southern Asia</td>\n      <td>12</td>\n      <td>2016.0</td>\n      <td>4.5</td>\n      <td>9.0</td>\n      <td>2.0</td>\n      <td>3.0</td>\n      <td>1.0</td>\n      <td>14</td>\n    </tr>\n    <tr>\n      <th>2</th>\n      <td>2</td>\n      <td>'1</td>\n      <td>'1.1</td>\n      <td>1.1.1</td>\n      <td>SI_POV_EMP1</td>\n      <td>Employed population below international povert...</td>\n      <td>202</td>\n      <td>Sub-Saharan Africa</td>\n      <td>40</td>\n      <td>2014.0</td>\n      <td>3.0</td>\n      <td>9.0</td>\n      <td>2.0</td>\n      <td>3.0</td>\n      <td>1.0</td>\n      <td>48</td>\n    </tr>\n    <tr>\n      <th>3</th>\n      <td>3</td>\n      <td>'1</td>\n      <td>'1.1</td>\n      <td>1.1.1</td>\n      <td>SI_POV_EMP1</td>\n      <td>Employed population below international povert...</td>\n      <td>419</td>\n      <td>Latin America and the Caribbean</td>\n      <td>20</td>\n      <td>2017.0</td>\n      <td>16.0</td>\n      <td>9.0</td>\n      <td>2.0</td>\n      <td>3.0</td>\n      <td>1.0</td>\n      <td>33</td>\n    </tr>\n    <tr>\n      <th>4</th>\n      <td>4</td>\n      <td>'1</td>\n      <td>'1.1</td>\n      <td>1.1.1</td>\n      <td>SI_POV_EMP1</td>\n      <td>Employed population below international povert...</td>\n      <td>513</td>\n      <td>Europe and Northern America</td>\n      <td>8</td>\n      <td>2015.0</td>\n      <td>13.0</td>\n      <td>9.0</td>\n      <td>2.0</td>\n      <td>3.0</td>\n      <td>1.0</td>\n      <td>45</td>\n    </tr>\n  </tbody>\n</table>\n</div>"
     },
     "metadata": {},
     "execution_count": 114
    }
   ],
   "source": [
    "x = country_availability.copy()\n",
    "\n",
    "if len(get_disaggregations(data)) > 0:\n",
    "    country_availability_by_region = x.groupby(['Goal','Target','Indicator_ref','Series_code', 'Series_desc', 'regionCode', 'regionName'], \n",
    "                                                as_index=False).agg({'max_year':['count','median'],\n",
    "                                                                    'n_years':['median'],\n",
    "                                                                    'n_timeSeries':['median'],\n",
    "                                                                    'n_dimensions':['median'],\n",
    "                                                                    'values_per_dim':['median'],\n",
    "                                                                    'data_for_female':['mean']})\n",
    "else:\n",
    "    country_availability_by_region = x.groupby(['Goal','Target','Indicator_ref','Series_code','Series_desc','regionCode', 'regionName'], \n",
    "                                                as_index=False).agg({'max_year':['count','median'],\n",
    "                                                                    'n_years':['median'],\n",
    "                                                                    'n_timeSeries':['median'],\n",
    "                                                                    'n_dimensions':['median']})\n",
    "        \n",
    "    country_availability_by_region['values_per_dim'] = None\n",
    "    country_availability_by_region['data_for_female'] = None\n",
    "\n",
    "country_availability_by_region.columns = ['Goal','Target','Indicator_ref','Series_code','Series_desc','regionCode', 'regionName',\n",
    "                                            'n_countries_available', 'median_max_year', 'median_n_years', 'median_n_timeSeries',\n",
    "                                            'n_dimensions', 'median_values_per_dim', 'mean_data_for_female'\n",
    "                                            ]\n",
    "\n",
    "country_availability_by_region = pd.merge(country_availability_by_region, \n",
    "                                        x.groupby(['regionCode'],as_index=False)['countryCode'].agg('count'),\n",
    "                                        how='left',\n",
    "                                        on = ['regionCode']).reset_index()\n",
    "\n",
    "country_availability_by_region.rename(columns={'countryCode': 'n_countries_total'}, inplace=True)\n",
    "\n",
    "country_availability_by_region.head()"
   ]
  },
  {
   "source": [
    "#### Calculate overall average/median availability"
   ],
   "cell_type": "markdown",
   "metadata": {}
  },
  {
   "cell_type": "code",
   "execution_count": 115,
   "metadata": {},
   "outputs": [
    {
     "output_type": "execute_result",
     "data": {
      "text/plain": [
       "   index Goal Target Indicator_ref  Series_code  \\\n",
       "0      0   '1   '1.1         1.1.1  SI_POV_EMP1   \n",
       "\n",
       "                                         Series_desc  n_countries_available  \\\n",
       "0  Employed population below international povert...                    110   \n",
       "\n",
       "   median_max_year  median_n_years  median_n_timeSeries  n_dimensions  \\\n",
       "0           2015.0             4.0                  9.0           2.0   \n",
       "\n",
       "   median_values_per_dim  mean_data_for_female  n_countries_total  regionCode  \\\n",
       "0                    3.0                   1.0                194           1   \n",
       "\n",
       "  regionName  \n",
       "0      World  "
      ],
      "text/html": "<div>\n<style scoped>\n    .dataframe tbody tr th:only-of-type {\n        vertical-align: middle;\n    }\n\n    .dataframe tbody tr th {\n        vertical-align: top;\n    }\n\n    .dataframe thead th {\n        text-align: right;\n    }\n</style>\n<table border=\"1\" class=\"dataframe\">\n  <thead>\n    <tr style=\"text-align: right;\">\n      <th></th>\n      <th>index</th>\n      <th>Goal</th>\n      <th>Target</th>\n      <th>Indicator_ref</th>\n      <th>Series_code</th>\n      <th>Series_desc</th>\n      <th>n_countries_available</th>\n      <th>median_max_year</th>\n      <th>median_n_years</th>\n      <th>median_n_timeSeries</th>\n      <th>n_dimensions</th>\n      <th>median_values_per_dim</th>\n      <th>mean_data_for_female</th>\n      <th>n_countries_total</th>\n      <th>regionCode</th>\n      <th>regionName</th>\n    </tr>\n  </thead>\n  <tbody>\n    <tr>\n      <th>0</th>\n      <td>0</td>\n      <td>'1</td>\n      <td>'1.1</td>\n      <td>1.1.1</td>\n      <td>SI_POV_EMP1</td>\n      <td>Employed population below international povert...</td>\n      <td>110</td>\n      <td>2015.0</td>\n      <td>4.0</td>\n      <td>9.0</td>\n      <td>2.0</td>\n      <td>3.0</td>\n      <td>1.0</td>\n      <td>194</td>\n      <td>1</td>\n      <td>World</td>\n    </tr>\n  </tbody>\n</table>\n</div>"
     },
     "metadata": {},
     "execution_count": 115
    }
   ],
   "source": [
    "x = country_availability.copy()\n",
    "\n",
    "if len(get_disaggregations(data)) > 0:\n",
    "    country_availability_world = x.groupby(['Goal','Target','Indicator_ref','Series_code','Series_desc'], \n",
    "                                            as_index=False).agg({'max_year':['count','median'],\n",
    "                                                                'n_years':['median'],\n",
    "                                                                'n_timeSeries':['median'],\n",
    "                                                                'n_dimensions':['median'],\n",
    "                                                                'values_per_dim':['median'],\n",
    "                                                                'data_for_female':['mean']})\n",
    "    \n",
    "else:\n",
    "    country_availability_world = x.groupby(['Goal','Target','Indicator_ref','Series_code', 'Series_desc'], \n",
    "                                            as_index=False).agg({'max_year':['count','median'],\n",
    "                                                                'n_years':['median'],\n",
    "                                                                'n_timeSeries':['median'],\n",
    "                                                                'n_dimensions':['median']}) \n",
    "    country_availability_world['values_per_dim'] = None\n",
    "    country_availability_world['data_for_female'] = None\n",
    "\n",
    "country_availability_world.columns = ['Goal','Target','Indicator_ref','Series_code','Series_desc',\n",
    "                                            'n_countries_available', 'median_max_year', 'median_n_years', 'median_n_timeSeries',\n",
    "                                            'n_dimensions', 'median_values_per_dim', 'mean_data_for_female'\n",
    "                                            ]\n",
    "        \n",
    "        \n",
    "country_availability_world = pd.merge(country_availability_world, \n",
    "                                        x.groupby(['Series_code','Series_desc'],as_index=False)['countryCode'].agg('count'),\n",
    "                                        how='left',\n",
    "                                        on = ['Series_code','Series_desc']).reset_index()\n",
    "\n",
    "country_availability_world.rename(columns={'countryCode': 'n_countries_total'}, inplace=True)\n",
    "\n",
    "country_availability_world['regionCode'] = 1\n",
    "country_availability_world['regionName'] = 'World'\n",
    "\n",
    "country_availability_world.head()"
   ]
  },
  {
   "source": [
    "#### Write to file mean/average country availability for each regional group and for the world "
   ],
   "cell_type": "markdown",
   "metadata": {}
  },
  {
   "cell_type": "code",
   "execution_count": 116,
   "metadata": {},
   "outputs": [
    {
     "output_type": "execute_result",
     "data": {
      "text/plain": [
       "(9, 16)"
      ]
     },
     "metadata": {},
     "execution_count": 116
    },
    {
     "output_type": "execute_result",
     "data": {
      "text/plain": [
       "   index Goal Target Indicator_ref  Series_code  \\\n",
       "0      0   '1   '1.1         1.1.1  SI_POV_EMP1   \n",
       "0      0   '1   '1.1         1.1.1  SI_POV_EMP1   \n",
       "1      1   '1   '1.1         1.1.1  SI_POV_EMP1   \n",
       "2      2   '1   '1.1         1.1.1  SI_POV_EMP1   \n",
       "3      3   '1   '1.1         1.1.1  SI_POV_EMP1   \n",
       "4      4   '1   '1.1         1.1.1  SI_POV_EMP1   \n",
       "5      5   '1   '1.1         1.1.1  SI_POV_EMP1   \n",
       "6      6   '1   '1.1         1.1.1  SI_POV_EMP1   \n",
       "7      7   '1   '1.1         1.1.1  SI_POV_EMP1   \n",
       "\n",
       "                                         Series_desc  n_countries_available  \\\n",
       "0  Employed population below international povert...                    110   \n",
       "0  Employed population below international povert...                      0   \n",
       "1  Employed population below international povert...                     12   \n",
       "2  Employed population below international povert...                     40   \n",
       "3  Employed population below international povert...                     20   \n",
       "4  Employed population below international povert...                      8   \n",
       "5  Employed population below international povert...                      3   \n",
       "6  Employed population below international povert...                     15   \n",
       "7  Employed population below international povert...                     12   \n",
       "\n",
       "   median_max_year  median_n_years  median_n_timeSeries  n_dimensions  \\\n",
       "0           2015.0             4.0                  9.0           2.0   \n",
       "0              NaN             NaN                  NaN           NaN   \n",
       "1           2016.0             4.5                  9.0           2.0   \n",
       "2           2014.0             3.0                  9.0           2.0   \n",
       "3           2017.0            16.0                  9.0           2.0   \n",
       "4           2015.0            13.0                  9.0           2.0   \n",
       "5           2013.0             2.0                  9.0           2.0   \n",
       "6           2014.0             4.0                  9.0           2.0   \n",
       "7           2015.0             6.0                  9.0           2.0   \n",
       "\n",
       "   median_values_per_dim  mean_data_for_female  n_countries_total  regionCode  \\\n",
       "0                    3.0                   1.0                194           1   \n",
       "0                    NaN                   NaN                  2          53   \n",
       "1                    3.0                   1.0                 14          62   \n",
       "2                    3.0                   1.0                 48         202   \n",
       "3                    3.0                   1.0                 33         419   \n",
       "4                    3.0                   1.0                 45         513   \n",
       "5                    3.0                   1.0                 12         543   \n",
       "6                    3.0                   1.0                 24         747   \n",
       "7                    3.0                   1.0                 16         753   \n",
       "\n",
       "                                      regionName  \n",
       "0                                          World  \n",
       "0                      Australia and New Zealand  \n",
       "1                      Central and Southern Asia  \n",
       "2                             Sub-Saharan Africa  \n",
       "3                Latin America and the Caribbean  \n",
       "4                    Europe and Northern America  \n",
       "5  Oceania (excluding Australia and New Zealand)  \n",
       "6               Northern Africa and Western Asia  \n",
       "7                 Eastern and South-Eastern Asia  "
      ],
      "text/html": "<div>\n<style scoped>\n    .dataframe tbody tr th:only-of-type {\n        vertical-align: middle;\n    }\n\n    .dataframe tbody tr th {\n        vertical-align: top;\n    }\n\n    .dataframe thead th {\n        text-align: right;\n    }\n</style>\n<table border=\"1\" class=\"dataframe\">\n  <thead>\n    <tr style=\"text-align: right;\">\n      <th></th>\n      <th>index</th>\n      <th>Goal</th>\n      <th>Target</th>\n      <th>Indicator_ref</th>\n      <th>Series_code</th>\n      <th>Series_desc</th>\n      <th>n_countries_available</th>\n      <th>median_max_year</th>\n      <th>median_n_years</th>\n      <th>median_n_timeSeries</th>\n      <th>n_dimensions</th>\n      <th>median_values_per_dim</th>\n      <th>mean_data_for_female</th>\n      <th>n_countries_total</th>\n      <th>regionCode</th>\n      <th>regionName</th>\n    </tr>\n  </thead>\n  <tbody>\n    <tr>\n      <th>0</th>\n      <td>0</td>\n      <td>'1</td>\n      <td>'1.1</td>\n      <td>1.1.1</td>\n      <td>SI_POV_EMP1</td>\n      <td>Employed population below international povert...</td>\n      <td>110</td>\n      <td>2015.0</td>\n      <td>4.0</td>\n      <td>9.0</td>\n      <td>2.0</td>\n      <td>3.0</td>\n      <td>1.0</td>\n      <td>194</td>\n      <td>1</td>\n      <td>World</td>\n    </tr>\n    <tr>\n      <th>0</th>\n      <td>0</td>\n      <td>'1</td>\n      <td>'1.1</td>\n      <td>1.1.1</td>\n      <td>SI_POV_EMP1</td>\n      <td>Employed population below international povert...</td>\n      <td>0</td>\n      <td>NaN</td>\n      <td>NaN</td>\n      <td>NaN</td>\n      <td>NaN</td>\n      <td>NaN</td>\n      <td>NaN</td>\n      <td>2</td>\n      <td>53</td>\n      <td>Australia and New Zealand</td>\n    </tr>\n    <tr>\n      <th>1</th>\n      <td>1</td>\n      <td>'1</td>\n      <td>'1.1</td>\n      <td>1.1.1</td>\n      <td>SI_POV_EMP1</td>\n      <td>Employed population below international povert...</td>\n      <td>12</td>\n      <td>2016.0</td>\n      <td>4.5</td>\n      <td>9.0</td>\n      <td>2.0</td>\n      <td>3.0</td>\n      <td>1.0</td>\n      <td>14</td>\n      <td>62</td>\n      <td>Central and Southern Asia</td>\n    </tr>\n    <tr>\n      <th>2</th>\n      <td>2</td>\n      <td>'1</td>\n      <td>'1.1</td>\n      <td>1.1.1</td>\n      <td>SI_POV_EMP1</td>\n      <td>Employed population below international povert...</td>\n      <td>40</td>\n      <td>2014.0</td>\n      <td>3.0</td>\n      <td>9.0</td>\n      <td>2.0</td>\n      <td>3.0</td>\n      <td>1.0</td>\n      <td>48</td>\n      <td>202</td>\n      <td>Sub-Saharan Africa</td>\n    </tr>\n    <tr>\n      <th>3</th>\n      <td>3</td>\n      <td>'1</td>\n      <td>'1.1</td>\n      <td>1.1.1</td>\n      <td>SI_POV_EMP1</td>\n      <td>Employed population below international povert...</td>\n      <td>20</td>\n      <td>2017.0</td>\n      <td>16.0</td>\n      <td>9.0</td>\n      <td>2.0</td>\n      <td>3.0</td>\n      <td>1.0</td>\n      <td>33</td>\n      <td>419</td>\n      <td>Latin America and the Caribbean</td>\n    </tr>\n    <tr>\n      <th>4</th>\n      <td>4</td>\n      <td>'1</td>\n      <td>'1.1</td>\n      <td>1.1.1</td>\n      <td>SI_POV_EMP1</td>\n      <td>Employed population below international povert...</td>\n      <td>8</td>\n      <td>2015.0</td>\n      <td>13.0</td>\n      <td>9.0</td>\n      <td>2.0</td>\n      <td>3.0</td>\n      <td>1.0</td>\n      <td>45</td>\n      <td>513</td>\n      <td>Europe and Northern America</td>\n    </tr>\n    <tr>\n      <th>5</th>\n      <td>5</td>\n      <td>'1</td>\n      <td>'1.1</td>\n      <td>1.1.1</td>\n      <td>SI_POV_EMP1</td>\n      <td>Employed population below international povert...</td>\n      <td>3</td>\n      <td>2013.0</td>\n      <td>2.0</td>\n      <td>9.0</td>\n      <td>2.0</td>\n      <td>3.0</td>\n      <td>1.0</td>\n      <td>12</td>\n      <td>543</td>\n      <td>Oceania (excluding Australia and New Zealand)</td>\n    </tr>\n    <tr>\n      <th>6</th>\n      <td>6</td>\n      <td>'1</td>\n      <td>'1.1</td>\n      <td>1.1.1</td>\n      <td>SI_POV_EMP1</td>\n      <td>Employed population below international povert...</td>\n      <td>15</td>\n      <td>2014.0</td>\n      <td>4.0</td>\n      <td>9.0</td>\n      <td>2.0</td>\n      <td>3.0</td>\n      <td>1.0</td>\n      <td>24</td>\n      <td>747</td>\n      <td>Northern Africa and Western Asia</td>\n    </tr>\n    <tr>\n      <th>7</th>\n      <td>7</td>\n      <td>'1</td>\n      <td>'1.1</td>\n      <td>1.1.1</td>\n      <td>SI_POV_EMP1</td>\n      <td>Employed population below international povert...</td>\n      <td>12</td>\n      <td>2015.0</td>\n      <td>6.0</td>\n      <td>9.0</td>\n      <td>2.0</td>\n      <td>3.0</td>\n      <td>1.0</td>\n      <td>16</td>\n      <td>753</td>\n      <td>Eastern and South-Eastern Asia</td>\n    </tr>\n  </tbody>\n</table>\n</div>"
     },
     "metadata": {},
     "execution_count": 116
    }
   ],
   "source": [
    "frames = [country_availability_world,country_availability_by_region ]\n",
    "availability_by_series_and_region = pd.concat(frames)\n",
    "availability_by_series_and_region.shape\n",
    "availability_by_series_and_region"
   ]
  },
  {
   "cell_type": "code",
   "execution_count": null,
   "metadata": {},
   "outputs": [],
   "source": [
    "f"
   ]
  },
  {
   "cell_type": "markdown",
   "metadata": {},
   "source": [
    "### Availability by indicator"
   ]
  },
  {
   "cell_type": "code",
   "execution_count": null,
   "metadata": {},
   "outputs": [],
   "source": [
    "Availability_by_indicator = availability_by_series_and_region\n",
    "\n",
    "x.median_values_per_dim = pd.to_numeric(x.median_values_per_dim)\n",
    "x.mean_data_for_female= pd.to_numeric(x.mean_data_for_female)\n",
    "\n",
    "availability_by_indicator_and_region = x.groupby(['Goal','Target','Indicator_ref', 'regionCode', 'regionName'], \n",
    "                                                  as_index=False).agg({'n_countries_available':['mean'],\n",
    "                                                                      'median_max_year':['mean'],\n",
    "                                                                      'median_n_years':['mean'],\n",
    "                                                                      'median_n_timeSeries':['mean'],\n",
    "                                                                      'n_dimensions':['mean'],\n",
    "                                                                      'median_values_per_dim':['mean'],\n",
    "                                                                      'mean_data_for_female':['mean'],\n",
    "                                                                      'n_countries_total':['mean']})\n",
    "\n",
    "availability_by_indicator_and_region.columns = ['Goal',\n",
    "'Target',\n",
    "'Indicator_ref',\n",
    "'regionCode',\n",
    "'regionName',\n",
    "'avg_n_countries_available',\n",
    "'avg_median_max_year',\n",
    "'avg_median_n_years',\n",
    "'avg_median_n_timeSeries',\n",
    "'avg_n_dimensions',\n",
    "'avg_median_values_per_dim',\n",
    "'mean_data_for_female',\n",
    "'n_countries_total']\n",
    "\n",
    "\n",
    "                     \n",
    "       "
   ]
  },
  {
   "cell_type": "code",
   "execution_count": null,
   "metadata": {},
   "outputs": [],
   "source": [
    "x = availability_by_indicator_and_region.copy()\n",
    "\n",
    "x.median_values_per_dim = pd.to_numeric(x.avg_median_values_per_dim)\n",
    "x.mean_data_for_female= pd.to_numeric(x.mean_data_for_female)\n",
    "\n",
    "availability_by_target_and_region = x.groupby(['Goal','Target', 'regionCode', 'regionName'], \n",
    "                                                  as_index=False).agg({'avg_n_countries_available':['mean'],\n",
    "                                                                      'avg_median_max_year':['mean'],\n",
    "                                                                      'avg_median_n_years':['mean'],\n",
    "                                                                      'avg_median_n_timeSeries':['mean'],\n",
    "                                                                      'avg_n_dimensions':['mean'],\n",
    "                                                                      'avg_median_values_per_dim':['mean'],\n",
    "                                                                      'mean_data_for_female':['mean'],\n",
    "                                                                      'n_countries_total':['mean']})\n",
    "\n",
    "\n",
    "availability_by_target_and_region.columns = ['Goal',\n",
    "'Target',\n",
    "'regionCode',\n",
    "'regionName',\n",
    "'avg_n_countries_available',\n",
    "'avg_median_max_year',\n",
    "'avg_median_n_years',\n",
    "'avg_median_n_timeSeries',\n",
    "'avg_n_dimensions',\n",
    "'avg_median_values_per_dim',\n",
    "'mean_data_for_female',\n",
    "'n_countries_total']\n",
    "\n",
    "\n",
    "                    "
   ]
  },
  {
   "cell_type": "code",
   "execution_count": null,
   "metadata": {},
   "outputs": [],
   "source": [
    "x = availability_by_target_and_region.copy()\n",
    "\n",
    "x.median_values_per_dim = pd.to_numeric(x.avg_median_values_per_dim)\n",
    "x.mean_data_for_female= pd.to_numeric(x.mean_data_for_female)\n",
    "\n",
    "availability_by_goal_and_region = x.groupby(['Goal','regionCode', 'regionName'], \n",
    "                                                  as_index=False).agg({'avg_n_countries_available':['mean'],\n",
    "                                                                      'avg_median_max_year':['mean'],\n",
    "                                                                      'avg_median_n_years':['mean'],\n",
    "                                                                      'avg_median_n_timeSeries':['mean'],\n",
    "                                                                      'avg_n_dimensions':['mean'],\n",
    "                                                                      'avg_median_values_per_dim':['mean'],\n",
    "                                                                      'mean_data_for_female':['mean'],\n",
    "                                                                      'n_countries_total':['mean']})\n",
    "\n",
    "\n",
    "availability_by_goal_and_region.columns = ['Goal',\n",
    "'regionCode',\n",
    "'regionName',\n",
    "'avg_n_countries_available',\n",
    "'avg_median_max_year',\n",
    "'avg_median_n_years',\n",
    "'avg_median_n_timeSeries',\n",
    "'avg_n_dimensions',\n",
    "'avg_median_values_per_dim',\n",
    "'mean_data_for_female',\n",
    "'n_countries_total']\n",
    "\n",
    "\n",
    "                    "
   ]
  },
  {
   "cell_type": "code",
   "execution_count": null,
   "metadata": {},
   "outputs": [],
   "source": []
  }
 ],
 "metadata": {
  "kernelspec": {
   "name": "python3",
   "display_name": "Python 3.9.1 64-bit",
   "metadata": {
    "interpreter": {
     "hash": "ac59ebe37160ed0dfa835113d9b8498d9f09ceb179beaac4002f036b9467c963"
    }
   }
  },
  "language_info": {
   "codemirror_mode": {
    "name": "ipython",
    "version": 3
   },
   "file_extension": ".py",
   "mimetype": "text/x-python",
   "name": "python",
   "nbconvert_exporter": "python",
   "pygments_lexer": "ipython3",
   "version": "3.9.1-final"
  }
 },
 "nbformat": 4,
 "nbformat_minor": 2
}