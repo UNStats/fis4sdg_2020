{
 "cells": [
  {
   "cell_type": "markdown",
   "metadata": {},
   "source": [
    "# Analyze SDG Data availability"
   ]
  },
  {
   "cell_type": "markdown",
   "metadata": {},
   "source": [
    "## Load libraries"
   ]
  },
  {
   "cell_type": "code",
   "execution_count": 7,
   "metadata": {},
   "outputs": [
    {
     "name": "stdout",
     "output_type": "stream",
     "text": [
      "C:\\Users\\L.GonzalezMorales\\Documents\\Windows Projects\\fis4sdg_python\\notebooks\\reports\n"
     ]
    }
   ],
   "source": [
    "import pandas as pd\n",
    "import os\n",
    "import csv\n",
    "import json\n",
    "import statistics\n",
    "\n",
    "import numpy as np\n",
    "from pathlib import Path\n",
    "\n",
    "dir_path = os.path.dirname(os.path.realpath('__file__'))\n",
    "print(dir_path)\n",
    "\n",
    "# https://volderette.de/jupyter-notebook-tip-multiple-outputs/\n",
    "from IPython.core.interactiveshell import InteractiveShell\n",
    "InteractiveShell.ast_node_interactivity = \"all\""
   ]
  },
  {
   "cell_type": "markdown",
   "metadata": {},
   "source": [
    "### Read M49 countries and groups"
   ]
  },
  {
   "cell_type": "code",
   "execution_count": 9,
   "metadata": {},
   "outputs": [
    {
     "data": {
      "text/html": [
       "<div>\n",
       "<style scoped>\n",
       "    .dataframe tbody tr th:only-of-type {\n",
       "        vertical-align: middle;\n",
       "    }\n",
       "\n",
       "    .dataframe tbody tr th {\n",
       "        vertical-align: top;\n",
       "    }\n",
       "\n",
       "    .dataframe thead th {\n",
       "        text-align: right;\n",
       "    }\n",
       "</style>\n",
       "<table border=\"1\" class=\"dataframe\">\n",
       "  <thead>\n",
       "    <tr style=\"text-align: right;\">\n",
       "      <th></th>\n",
       "      <th>countryCode</th>\n",
       "      <th>countryName</th>\n",
       "      <th>LDC</th>\n",
       "      <th>LLDC</th>\n",
       "      <th>SIDS</th>\n",
       "      <th>Development</th>\n",
       "      <th>regionCode</th>\n",
       "      <th>regionName</th>\n",
       "    </tr>\n",
       "  </thead>\n",
       "  <tbody>\n",
       "    <tr>\n",
       "      <th>0</th>\n",
       "      <td>288</td>\n",
       "      <td>Ghana</td>\n",
       "      <td>NaN</td>\n",
       "      <td>NaN</td>\n",
       "      <td>NaN</td>\n",
       "      <td>Developing</td>\n",
       "      <td>202</td>\n",
       "      <td>Sub-Saharan Africa</td>\n",
       "    </tr>\n",
       "  </tbody>\n",
       "</table>\n",
       "</div>"
      ],
      "text/plain": [
       "   countryCode countryName  LDC  LLDC  SIDS Development  regionCode  \\\n",
       "0          288       Ghana  NaN   NaN   NaN  Developing         202   \n",
       "\n",
       "           regionName  \n",
       "0  Sub-Saharan Africa  "
      ]
     },
     "execution_count": 9,
     "metadata": {},
     "output_type": "execute_result"
    },
    {
     "data": {
      "text/html": [
       "<div>\n",
       "<style scoped>\n",
       "    .dataframe tbody tr th:only-of-type {\n",
       "        vertical-align: middle;\n",
       "    }\n",
       "\n",
       "    .dataframe tbody tr th {\n",
       "        vertical-align: top;\n",
       "    }\n",
       "\n",
       "    .dataframe thead th {\n",
       "        text-align: right;\n",
       "    }\n",
       "</style>\n",
       "<table border=\"1\" class=\"dataframe\">\n",
       "  <thead>\n",
       "    <tr style=\"text-align: right;\">\n",
       "      <th></th>\n",
       "      <th>Code</th>\n",
       "      <th>SDG_Region_Name</th>\n",
       "    </tr>\n",
       "  </thead>\n",
       "  <tbody>\n",
       "    <tr>\n",
       "      <th>0</th>\n",
       "      <td>1</td>\n",
       "      <td>World</td>\n",
       "    </tr>\n",
       "    <tr>\n",
       "      <th>1</th>\n",
       "      <td>747</td>\n",
       "      <td>Northern Africa and Western Asia</td>\n",
       "    </tr>\n",
       "    <tr>\n",
       "      <th>2</th>\n",
       "      <td>202</td>\n",
       "      <td>Sub-Saharan Africa</td>\n",
       "    </tr>\n",
       "    <tr>\n",
       "      <th>3</th>\n",
       "      <td>419</td>\n",
       "      <td>Latin America and the Caribbean</td>\n",
       "    </tr>\n",
       "    <tr>\n",
       "      <th>4</th>\n",
       "      <td>513</td>\n",
       "      <td>Europe and Northern America</td>\n",
       "    </tr>\n",
       "  </tbody>\n",
       "</table>\n",
       "</div>"
      ],
      "text/plain": [
       "   Code                   SDG_Region_Name\n",
       "0     1                             World\n",
       "1   747  Northern Africa and Western Asia\n",
       "2   202                Sub-Saharan Africa\n",
       "3   419   Latin America and the Caribbean\n",
       "4   513       Europe and Northern America"
      ]
     },
     "execution_count": 9,
     "metadata": {},
     "output_type": "execute_result"
    }
   ],
   "source": [
    "ghana = pd.read_excel('../../data/external/m49_availability.xlsx', sheet_name='Ghana')\n",
    "regions = pd.read_excel('../../data/external/m49_availability.xlsx', sheet_name='Regions')\n",
    "\n",
    "ghana.head()\n",
    "regions.head()"
   ]
  },
  {
   "cell_type": "markdown",
   "metadata": {},
   "source": [
    "### Read metadata"
   ]
  },
  {
   "cell_type": "code",
   "execution_count": 10,
   "metadata": {},
   "outputs": [
    {
     "data": {
      "text/plain": [
       "dict_keys(['code', 'labelEN', 'descEN', 'labelES', 'descES', 'labelFR', 'descFR', 'labelRU', 'descRU', 'labelZN', 'descZN', 'hex', 'rgb', 'ColorScheme', 'thumbnail', 'targets'])"
      ]
     },
     "execution_count": 10,
     "metadata": {},
     "output_type": "execute_result"
    },
    {
     "data": {
      "text/plain": [
       "dict_keys(['code', 'labelEN', 'descEN', 'labelES', 'descES', 'labelFR', 'descFR', 'labelRU', 'descRU', 'labelZN', 'descZN', 'indicators'])"
      ]
     },
     "execution_count": 10,
     "metadata": {},
     "output_type": "execute_result"
    },
    {
     "data": {
      "text/plain": [
       "dict_keys(['code', 'reference', 'labelEN', 'descEN', 'labelES', 'descES', 'labelFR', 'descFR', 'labelRU', 'descRU', 'labelZN', 'descZN', 'series'])"
      ]
     },
     "execution_count": 10,
     "metadata": {},
     "output_type": "execute_result"
    }
   ],
   "source": [
    "metadatafile = 'metadata_2020.Q1.G.02.json'\n",
    "\n",
    "with open('../../data/external/'+metadatafile) as json_file:\n",
    "    metadata = json.load(json_file)\n",
    "\n",
    "metadata[0].keys()\n",
    "metadata[0]['targets'][0].keys()\n",
    "metadata[0]['targets'][0]['indicators'][0].keys()"
   ]
  },
  {
   "cell_type": "markdown",
   "metadata": {},
   "source": [
    "### Functions"
   ]
  },
  {
   "cell_type": "markdown",
   "metadata": {},
   "source": [
    "#### 1. Read dataset"
   ]
  },
  {
   "cell_type": "code",
   "execution_count": 11,
   "metadata": {},
   "outputs": [],
   "source": [
    "def read_sdg_dataset(csvfile):\n",
    "    return pd.read_csv('../../data/processed/2020.Q1.G.02/'+csvfile) \n"
   ]
  },
  {
   "cell_type": "markdown",
   "metadata": {},
   "source": [
    "#### 2. Build csv file name"
   ]
  },
  {
   "cell_type": "code",
   "execution_count": 12,
   "metadata": {},
   "outputs": [],
   "source": [
    "def csv_file(indicator, series):\n",
    "    return ('Indicator_' + indicator.replace('.', '_') + '__Series_' + series + '.csv')"
   ]
  },
  {
   "cell_type": "markdown",
   "metadata": {},
   "source": [
    "#### Identify disaggregations"
   ]
  },
  {
   "cell_type": "code",
   "execution_count": 13,
   "metadata": {},
   "outputs": [],
   "source": [
    "def get_disaggregations(data):\n",
    "   \n",
    "    dim_columns = list(data.columns)\n",
    "    exclude_cols = ['goal_code','goal_labelEN','goal_descEN','target_code','target_descEN',\n",
    "                'indicator_code','indicator_reference','indicator_descEN',\n",
    "                'series_release','series_tags','series','seriesDescription',\n",
    "                'geoAreaCode','geoAreaName','level','parentCode','parentName','type',\n",
    "                'X','Y','ISO3','UN_Member','Country_Profile','timeCoverage','geoInfoUrl',\n",
    "                'years','min_year','max_year','n_years',\n",
    "                'unitsCode','unitsDesc','reportingTypeCode','reportingTypeDesc',\n",
    "                'latest_value','basePeriod','valueDetails','footnotes','sources','timeDetails','nature']\n",
    "\n",
    "    d = [i for i in dim_columns if i not in exclude_cols and not i.startswith('value_') and not i.startswith('upper') and not i.startswith('lower') and not i.endswith('_desc')] \n",
    "    \n",
    "    #return [sub.replace('_code', '') for sub in d] \n",
    "    return d\n"
   ]
  },
  {
   "cell_type": "markdown",
   "metadata": {},
   "source": [
    "### Print list of goals, targets, indicators, series"
   ]
  },
  {
   "cell_type": "code",
   "execution_count": 14,
   "metadata": {},
   "outputs": [
    {
     "name": "stdout",
     "output_type": "stream",
     "text": [
      "disaggregations for SI_POV_DAY1:\n"
     ]
    },
    {
     "data": {
      "text/plain": [
       "[]"
      ]
     },
     "execution_count": 14,
     "metadata": {},
     "output_type": "execute_result"
    },
    {
     "name": "stdout",
     "output_type": "stream",
     "text": [
      "disaggregations for SI_POV_EMP1:\n"
     ]
    },
    {
     "data": {
      "text/plain": [
       "['age_code', 'sex_code']"
      ]
     },
     "execution_count": 14,
     "metadata": {},
     "output_type": "execute_result"
    },
    {
     "name": "stdout",
     "output_type": "stream",
     "text": [
      "disaggregations for SI_POV_NAHC:\n"
     ]
    },
    {
     "data": {
      "text/plain": [
       "['location_code']"
      ]
     },
     "execution_count": 14,
     "metadata": {},
     "output_type": "execute_result"
    },
    {
     "name": "stdout",
     "output_type": "stream",
     "text": [
      "disaggregations for SI_COV_MATNL:\n"
     ]
    },
    {
     "data": {
      "text/plain": [
       "['sex_code']"
      ]
     },
     "execution_count": 14,
     "metadata": {},
     "output_type": "execute_result"
    },
    {
     "name": "stdout",
     "output_type": "stream",
     "text": [
      "disaggregations for SI_COV_POOR:\n"
     ]
    },
    {
     "data": {
      "text/plain": [
       "['sex_code']"
      ]
     },
     "execution_count": 14,
     "metadata": {},
     "output_type": "execute_result"
    },
    {
     "name": "stdout",
     "output_type": "stream",
     "text": [
      "disaggregations for SI_COV_SOCAST:\n"
     ]
    },
    {
     "data": {
      "text/plain": [
       "['quantile_code']"
      ]
     },
     "execution_count": 14,
     "metadata": {},
     "output_type": "execute_result"
    },
    {
     "name": "stdout",
     "output_type": "stream",
     "text": [
      "disaggregations for SI_COV_SOCINS:\n"
     ]
    },
    {
     "data": {
      "text/plain": [
       "['quantile_code']"
      ]
     },
     "execution_count": 14,
     "metadata": {},
     "output_type": "execute_result"
    },
    {
     "name": "stdout",
     "output_type": "stream",
     "text": [
      "disaggregations for SI_COV_CHLD:\n"
     ]
    },
    {
     "data": {
      "text/plain": [
       "['sex_code']"
      ]
     },
     "execution_count": 14,
     "metadata": {},
     "output_type": "execute_result"
    },
    {
     "name": "stdout",
     "output_type": "stream",
     "text": [
      "disaggregations for SI_COV_UEMP:\n"
     ]
    },
    {
     "data": {
      "text/plain": [
       "['sex_code']"
      ]
     },
     "execution_count": 14,
     "metadata": {},
     "output_type": "execute_result"
    },
    {
     "name": "stdout",
     "output_type": "stream",
     "text": [
      "disaggregations for SI_COV_VULN:\n"
     ]
    },
    {
     "data": {
      "text/plain": [
       "['sex_code']"
      ]
     },
     "execution_count": 14,
     "metadata": {},
     "output_type": "execute_result"
    },
    {
     "name": "stdout",
     "output_type": "stream",
     "text": [
      "disaggregations for SI_COV_WKINJRY:\n"
     ]
    },
    {
     "data": {
      "text/plain": [
       "['sex_code']"
      ]
     },
     "execution_count": 14,
     "metadata": {},
     "output_type": "execute_result"
    },
    {
     "name": "stdout",
     "output_type": "stream",
     "text": [
      "disaggregations for SI_COV_BENFTS:\n"
     ]
    },
    {
     "data": {
      "text/plain": [
       "['sex_code']"
      ]
     },
     "execution_count": 14,
     "metadata": {},
     "output_type": "execute_result"
    },
    {
     "name": "stdout",
     "output_type": "stream",
     "text": [
      "disaggregations for SI_COV_DISAB:\n"
     ]
    },
    {
     "data": {
      "text/plain": [
       "['sex_code']"
      ]
     },
     "execution_count": 14,
     "metadata": {},
     "output_type": "execute_result"
    },
    {
     "name": "stdout",
     "output_type": "stream",
     "text": [
      "disaggregations for SI_COV_LMKT:\n"
     ]
    },
    {
     "data": {
      "text/plain": [
       "['quantile_code']"
      ]
     },
     "execution_count": 14,
     "metadata": {},
     "output_type": "execute_result"
    },
    {
     "name": "stdout",
     "output_type": "stream",
     "text": [
      "disaggregations for SI_COV_PENSN:\n"
     ]
    },
    {
     "data": {
      "text/plain": [
       "['sex_code']"
      ]
     },
     "execution_count": 14,
     "metadata": {},
     "output_type": "execute_result"
    },
    {
     "name": "stdout",
     "output_type": "stream",
     "text": [
      "disaggregations for SP_ACS_BSRVH2O:\n"
     ]
    },
    {
     "data": {
      "text/plain": [
       "['location_code']"
      ]
     },
     "execution_count": 14,
     "metadata": {},
     "output_type": "execute_result"
    },
    {
     "name": "stdout",
     "output_type": "stream",
     "text": [
      "disaggregations for SP_ACS_BSRVSAN:\n"
     ]
    },
    {
     "data": {
      "text/plain": [
       "['location_code']"
      ]
     },
     "execution_count": 14,
     "metadata": {},
     "output_type": "execute_result"
    },
    {
     "name": "stdout",
     "output_type": "stream",
     "text": [
      "disaggregations for VC_DSR_MISS:\n"
     ]
    },
    {
     "data": {
      "text/plain": [
       "[]"
      ]
     },
     "execution_count": 14,
     "metadata": {},
     "output_type": "execute_result"
    },
    {
     "name": "stdout",
     "output_type": "stream",
     "text": [
      "disaggregations for VC_DSR_AFFCT:\n"
     ]
    },
    {
     "data": {
      "text/plain": [
       "[]"
      ]
     },
     "execution_count": 14,
     "metadata": {},
     "output_type": "execute_result"
    },
    {
     "name": "stdout",
     "output_type": "stream",
     "text": [
      "disaggregations for VC_DSR_MORT:\n"
     ]
    },
    {
     "data": {
      "text/plain": [
       "[]"
      ]
     },
     "execution_count": 14,
     "metadata": {},
     "output_type": "execute_result"
    },
    {
     "name": "stdout",
     "output_type": "stream",
     "text": [
      "disaggregations for VC_DSR_MTMP:\n"
     ]
    },
    {
     "data": {
      "text/plain": [
       "[]"
      ]
     },
     "execution_count": 14,
     "metadata": {},
     "output_type": "execute_result"
    },
    {
     "name": "stdout",
     "output_type": "stream",
     "text": [
      "disaggregations for VC_DSR_MTMN:\n"
     ]
    },
    {
     "data": {
      "text/plain": [
       "[]"
      ]
     },
     "execution_count": 14,
     "metadata": {},
     "output_type": "execute_result"
    },
    {
     "name": "stdout",
     "output_type": "stream",
     "text": [
      "disaggregations for VC_DSR_DAFF:\n"
     ]
    },
    {
     "data": {
      "text/plain": [
       "[]"
      ]
     },
     "execution_count": 14,
     "metadata": {},
     "output_type": "execute_result"
    },
    {
     "name": "stdout",
     "output_type": "stream",
     "text": [
      "disaggregations for VC_DSR_IJILN:\n"
     ]
    },
    {
     "data": {
      "text/plain": [
       "[]"
      ]
     },
     "execution_count": 14,
     "metadata": {},
     "output_type": "execute_result"
    },
    {
     "name": "stdout",
     "output_type": "stream",
     "text": [
      "disaggregations for VC_DSR_PDAN:\n"
     ]
    },
    {
     "data": {
      "text/plain": [
       "[]"
      ]
     },
     "execution_count": 14,
     "metadata": {},
     "output_type": "execute_result"
    },
    {
     "name": "stdout",
     "output_type": "stream",
     "text": [
      "disaggregations for VC_DSR_PDYN:\n"
     ]
    },
    {
     "data": {
      "text/plain": [
       "[]"
      ]
     },
     "execution_count": 14,
     "metadata": {},
     "output_type": "execute_result"
    },
    {
     "name": "stdout",
     "output_type": "stream",
     "text": [
      "disaggregations for VC_DSR_PDLN:\n"
     ]
    },
    {
     "data": {
      "text/plain": [
       "[]"
      ]
     },
     "execution_count": 14,
     "metadata": {},
     "output_type": "execute_result"
    },
    {
     "name": "stdout",
     "output_type": "stream",
     "text": [
      "disaggregations for VC_DSR_GDPLS:\n"
     ]
    },
    {
     "data": {
      "text/plain": [
       "[]"
      ]
     },
     "execution_count": 14,
     "metadata": {},
     "output_type": "execute_result"
    },
    {
     "name": "stdout",
     "output_type": "stream",
     "text": [
      "disaggregations for VC_DSR_LSGP:\n"
     ]
    },
    {
     "data": {
      "text/plain": [
       "[]"
      ]
     },
     "execution_count": 14,
     "metadata": {},
     "output_type": "execute_result"
    },
    {
     "name": "stdout",
     "output_type": "stream",
     "text": [
      "disaggregations for VC_DSR_AGLN:\n"
     ]
    },
    {
     "data": {
      "text/plain": [
       "[]"
      ]
     },
     "execution_count": 14,
     "metadata": {},
     "output_type": "execute_result"
    },
    {
     "name": "stdout",
     "output_type": "stream",
     "text": [
      "disaggregations for VC_DSR_HOLN:\n"
     ]
    },
    {
     "data": {
      "text/plain": [
       "[]"
      ]
     },
     "execution_count": 14,
     "metadata": {},
     "output_type": "execute_result"
    },
    {
     "name": "stdout",
     "output_type": "stream",
     "text": [
      "disaggregations for VC_DSR_CILN:\n"
     ]
    },
    {
     "data": {
      "text/plain": [
       "[]"
      ]
     },
     "execution_count": 14,
     "metadata": {},
     "output_type": "execute_result"
    },
    {
     "name": "stdout",
     "output_type": "stream",
     "text": [
      "disaggregations for VC_DSR_CHLN:\n"
     ]
    },
    {
     "data": {
      "text/plain": [
       "[]"
      ]
     },
     "execution_count": 14,
     "metadata": {},
     "output_type": "execute_result"
    },
    {
     "name": "stdout",
     "output_type": "stream",
     "text": [
      "disaggregations for VC_DSR_DDPA:\n"
     ]
    },
    {
     "data": {
      "text/plain": [
       "[]"
      ]
     },
     "execution_count": 14,
     "metadata": {},
     "output_type": "execute_result"
    },
    {
     "name": "stdout",
     "output_type": "stream",
     "text": [
      "disaggregations for SG_DSR_LGRGSR:\n"
     ]
    },
    {
     "data": {
      "text/plain": [
       "[]"
      ]
     },
     "execution_count": 14,
     "metadata": {},
     "output_type": "execute_result"
    },
    {
     "name": "stdout",
     "output_type": "stream",
     "text": [
      "disaggregations for SG_DSR_SILS:\n"
     ]
    },
    {
     "data": {
      "text/plain": [
       "[]"
      ]
     },
     "execution_count": 14,
     "metadata": {},
     "output_type": "execute_result"
    },
    {
     "name": "stdout",
     "output_type": "stream",
     "text": [
      "disaggregations for SG_DSR_SILN:\n"
     ]
    },
    {
     "data": {
      "text/plain": [
       "[]"
      ]
     },
     "execution_count": 14,
     "metadata": {},
     "output_type": "execute_result"
    },
    {
     "name": "stdout",
     "output_type": "stream",
     "text": [
      "disaggregations for SG_GOV_LOGV:\n"
     ]
    },
    {
     "data": {
      "text/plain": [
       "[]"
      ]
     },
     "execution_count": 14,
     "metadata": {},
     "output_type": "execute_result"
    },
    {
     "name": "stdout",
     "output_type": "stream",
     "text": [
      "disaggregations for SD_XPD_ESED:\n"
     ]
    },
    {
     "data": {
      "text/plain": [
       "[]"
      ]
     },
     "execution_count": 14,
     "metadata": {},
     "output_type": "execute_result"
    },
    {
     "name": "stdout",
     "output_type": "stream",
     "text": [
      "disaggregations for SN_ITK_DEFC:\n"
     ]
    },
    {
     "data": {
      "text/plain": [
       "[]"
      ]
     },
     "execution_count": 14,
     "metadata": {},
     "output_type": "execute_result"
    },
    {
     "name": "stdout",
     "output_type": "stream",
     "text": [
      "disaggregations for SN_ITK_DEFCN:\n"
     ]
    },
    {
     "data": {
      "text/plain": [
       "[]"
      ]
     },
     "execution_count": 14,
     "metadata": {},
     "output_type": "execute_result"
    },
    {
     "name": "stdout",
     "output_type": "stream",
     "text": [
      "disaggregations for AG_PRD_FIESMSI:\n"
     ]
    },
    {
     "data": {
      "text/plain": [
       "['observationStatus_code', 'age_code', 'sex_code']"
      ]
     },
     "execution_count": 14,
     "metadata": {},
     "output_type": "execute_result"
    },
    {
     "name": "stdout",
     "output_type": "stream",
     "text": [
      "disaggregations for AG_PRD_FIESMSIN:\n"
     ]
    },
    {
     "data": {
      "text/plain": [
       "['observationStatus_code', 'age_code', 'sex_code']"
      ]
     },
     "execution_count": 14,
     "metadata": {},
     "output_type": "execute_result"
    },
    {
     "name": "stdout",
     "output_type": "stream",
     "text": [
      "disaggregations for AG_PRD_FIESSI:\n"
     ]
    },
    {
     "data": {
      "text/plain": [
       "['observationStatus_code', 'age_code', 'sex_code']"
      ]
     },
     "execution_count": 14,
     "metadata": {},
     "output_type": "execute_result"
    },
    {
     "name": "stdout",
     "output_type": "stream",
     "text": [
      "disaggregations for AG_PRD_FIESSIN:\n"
     ]
    },
    {
     "data": {
      "text/plain": [
       "['observationStatus_code', 'age_code', 'sex_code']"
      ]
     },
     "execution_count": 14,
     "metadata": {},
     "output_type": "execute_result"
    },
    {
     "name": "stdout",
     "output_type": "stream",
     "text": [
      "disaggregations for SH_STA_STUNT:\n"
     ]
    },
    {
     "data": {
      "text/plain": [
       "['age_code']"
      ]
     },
     "execution_count": 14,
     "metadata": {},
     "output_type": "execute_result"
    },
    {
     "name": "stdout",
     "output_type": "stream",
     "text": [
      "disaggregations for SH_STA_STUNTN:\n"
     ]
    },
    {
     "data": {
      "text/plain": [
       "['age_code']"
      ]
     },
     "execution_count": 14,
     "metadata": {},
     "output_type": "execute_result"
    },
    {
     "name": "stdout",
     "output_type": "stream",
     "text": [
      "disaggregations for SH_STA_WASTE:\n"
     ]
    },
    {
     "data": {
      "text/plain": [
       "['age_code']"
      ]
     },
     "execution_count": 14,
     "metadata": {},
     "output_type": "execute_result"
    },
    {
     "name": "stdout",
     "output_type": "stream",
     "text": [
      "disaggregations for SH_STA_WASTEN:\n"
     ]
    },
    {
     "data": {
      "text/plain": [
       "['age_code']"
      ]
     },
     "execution_count": 14,
     "metadata": {},
     "output_type": "execute_result"
    },
    {
     "name": "stdout",
     "output_type": "stream",
     "text": [
      "disaggregations for SH_STA_OVRWGT:\n"
     ]
    },
    {
     "data": {
      "text/plain": [
       "['age_code']"
      ]
     },
     "execution_count": 14,
     "metadata": {},
     "output_type": "execute_result"
    },
    {
     "name": "stdout",
     "output_type": "stream",
     "text": [
      "disaggregations for SH_STA_OVRWGTN:\n"
     ]
    },
    {
     "data": {
      "text/plain": [
       "['age_code']"
      ]
     },
     "execution_count": 14,
     "metadata": {},
     "output_type": "execute_result"
    },
    {
     "name": "stdout",
     "output_type": "stream",
     "text": [
      "disaggregations for PD_AGR_SSFP:\n"
     ]
    },
    {
     "data": {
      "text/plain": [
       "[]"
      ]
     },
     "execution_count": 14,
     "metadata": {},
     "output_type": "execute_result"
    },
    {
     "name": "stdout",
     "output_type": "stream",
     "text": [
      "disaggregations for SI_AGR_SSFP:\n"
     ]
    },
    {
     "data": {
      "text/plain": [
       "[]"
      ]
     },
     "execution_count": 14,
     "metadata": {},
     "output_type": "execute_result"
    },
    {
     "name": "stdout",
     "output_type": "stream",
     "text": [
      "disaggregations for ER_GRF_ANIMRCNTN:\n"
     ]
    },
    {
     "data": {
      "text/plain": [
       "[]"
      ]
     },
     "execution_count": 14,
     "metadata": {},
     "output_type": "execute_result"
    },
    {
     "name": "stdout",
     "output_type": "stream",
     "text": [
      "disaggregations for ER_GRF_PLNTSTOR:\n"
     ]
    },
    {
     "data": {
      "text/plain": [
       "[]"
      ]
     },
     "execution_count": 14,
     "metadata": {},
     "output_type": "execute_result"
    },
    {
     "name": "stdout",
     "output_type": "stream",
     "text": [
      "disaggregations for ER_RSK_LBREDS:\n"
     ]
    },
    {
     "data": {
      "text/plain": [
       "[]"
      ]
     },
     "execution_count": 14,
     "metadata": {},
     "output_type": "execute_result"
    },
    {
     "name": "stdout",
     "output_type": "stream",
     "text": [
      "disaggregations for AG_PRD_ORTIND:\n"
     ]
    },
    {
     "data": {
      "text/plain": [
       "['observationStatus_code']"
      ]
     },
     "execution_count": 14,
     "metadata": {},
     "output_type": "execute_result"
    },
    {
     "name": "stdout",
     "output_type": "stream",
     "text": [
      "disaggregations for AG_PRD_AGVAS:\n"
     ]
    },
    {
     "data": {
      "text/plain": [
       "['observationStatus_code']"
      ]
     },
     "execution_count": 14,
     "metadata": {},
     "output_type": "execute_result"
    },
    {
     "name": "stdout",
     "output_type": "stream",
     "text": [
      "disaggregations for AG_XPD_AGSGB:\n"
     ]
    },
    {
     "data": {
      "text/plain": [
       "['observationStatus_code']"
      ]
     },
     "execution_count": 14,
     "metadata": {},
     "output_type": "execute_result"
    },
    {
     "name": "stdout",
     "output_type": "stream",
     "text": [
      "disaggregations for DC_TOF_AGRL:\n"
     ]
    },
    {
     "data": {
      "text/plain": [
       "[]"
      ]
     },
     "execution_count": 14,
     "metadata": {},
     "output_type": "execute_result"
    },
    {
     "name": "stdout",
     "output_type": "stream",
     "text": [
      "disaggregations for AG_PRD_XSUBDY:\n"
     ]
    },
    {
     "data": {
      "text/plain": [
       "[]"
      ]
     },
     "execution_count": 14,
     "metadata": {},
     "output_type": "execute_result"
    },
    {
     "name": "stdout",
     "output_type": "stream",
     "text": [
      "disaggregations for AG_FPA_COMM:\n"
     ]
    },
    {
     "data": {
      "text/plain": [
       "['typeOfProduct_code']"
      ]
     },
     "execution_count": 14,
     "metadata": {},
     "output_type": "execute_result"
    },
    {
     "name": "stdout",
     "output_type": "stream",
     "text": [
      "disaggregations for AG_FPA_CFPI:\n"
     ]
    },
    {
     "data": {
      "text/plain": [
       "[]"
      ]
     },
     "execution_count": 14,
     "metadata": {},
     "output_type": "execute_result"
    },
    {
     "name": "stdout",
     "output_type": "stream",
     "text": [
      "disaggregations for SH_STA_MMR:\n"
     ]
    },
    {
     "data": {
      "text/plain": [
       "[]"
      ]
     },
     "execution_count": 14,
     "metadata": {},
     "output_type": "execute_result"
    },
    {
     "name": "stdout",
     "output_type": "stream",
     "text": [
      "disaggregations for SH_STA_BRTC:\n"
     ]
    },
    {
     "data": {
      "text/plain": [
       "[]"
      ]
     },
     "execution_count": 14,
     "metadata": {},
     "output_type": "execute_result"
    },
    {
     "name": "stdout",
     "output_type": "stream",
     "text": [
      "disaggregations for SH_DYN_IMRTN:\n"
     ]
    },
    {
     "data": {
      "text/plain": [
       "['age_code', 'sex_code']"
      ]
     },
     "execution_count": 14,
     "metadata": {},
     "output_type": "execute_result"
    },
    {
     "name": "stdout",
     "output_type": "stream",
     "text": [
      "disaggregations for SH_DYN_MORT:\n"
     ]
    },
    {
     "data": {
      "text/plain": [
       "['age_code', 'sex_code']"
      ]
     },
     "execution_count": 14,
     "metadata": {},
     "output_type": "execute_result"
    },
    {
     "name": "stdout",
     "output_type": "stream",
     "text": [
      "disaggregations for SH_DYN_IMRT:\n"
     ]
    },
    {
     "data": {
      "text/plain": [
       "['age_code', 'sex_code']"
      ]
     },
     "execution_count": 14,
     "metadata": {},
     "output_type": "execute_result"
    },
    {
     "name": "stdout",
     "output_type": "stream",
     "text": [
      "disaggregations for SH_DYN_MORTN:\n"
     ]
    },
    {
     "data": {
      "text/plain": [
       "['age_code', 'sex_code']"
      ]
     },
     "execution_count": 14,
     "metadata": {},
     "output_type": "execute_result"
    },
    {
     "name": "stdout",
     "output_type": "stream",
     "text": [
      "disaggregations for SH_DYN_NMRTN:\n"
     ]
    },
    {
     "data": {
      "text/plain": [
       "['age_code', 'sex_code']"
      ]
     },
     "execution_count": 14,
     "metadata": {},
     "output_type": "execute_result"
    },
    {
     "name": "stdout",
     "output_type": "stream",
     "text": [
      "disaggregations for SH_DYN_NMRT:\n"
     ]
    },
    {
     "data": {
      "text/plain": [
       "['age_code', 'sex_code']"
      ]
     },
     "execution_count": 14,
     "metadata": {},
     "output_type": "execute_result"
    },
    {
     "name": "stdout",
     "output_type": "stream",
     "text": [
      "disaggregations for SH_HIV_INCD:\n"
     ]
    },
    {
     "data": {
      "text/plain": [
       "['age_code', 'sex_code']"
      ]
     },
     "execution_count": 14,
     "metadata": {},
     "output_type": "execute_result"
    },
    {
     "name": "stdout",
     "output_type": "stream",
     "text": [
      "disaggregations for SH_TBS_INCID:\n"
     ]
    },
    {
     "data": {
      "text/plain": [
       "[]"
      ]
     },
     "execution_count": 14,
     "metadata": {},
     "output_type": "execute_result"
    },
    {
     "name": "stdout",
     "output_type": "stream",
     "text": [
      "disaggregations for SH_STA_MALR:\n"
     ]
    },
    {
     "data": {
      "text/plain": [
       "[]"
      ]
     },
     "execution_count": 14,
     "metadata": {},
     "output_type": "execute_result"
    },
    {
     "name": "stdout",
     "output_type": "stream",
     "text": [
      "disaggregations for SH_HAP_HBSAG:\n"
     ]
    },
    {
     "data": {
      "text/plain": [
       "['age_code']"
      ]
     },
     "execution_count": 14,
     "metadata": {},
     "output_type": "execute_result"
    },
    {
     "name": "stdout",
     "output_type": "stream",
     "text": [
      "disaggregations for SH_TRP_INTVN:\n"
     ]
    },
    {
     "data": {
      "text/plain": [
       "[]"
      ]
     },
     "execution_count": 14,
     "metadata": {},
     "output_type": "execute_result"
    },
    {
     "name": "stdout",
     "output_type": "stream",
     "text": [
      "disaggregations for SH_DTH_NCOM:\n"
     ]
    },
    {
     "data": {
      "text/plain": [
       "['age_code', 'sex_code']"
      ]
     },
     "execution_count": 14,
     "metadata": {},
     "output_type": "execute_result"
    },
    {
     "name": "stdout",
     "output_type": "stream",
     "text": [
      "disaggregations for SH_DTH_RNCOM:\n"
     ]
    },
    {
     "data": {
      "text/plain": [
       "['sex_code', 'nameOfNonCommunicableDisease_code']"
      ]
     },
     "execution_count": 14,
     "metadata": {},
     "output_type": "execute_result"
    },
    {
     "name": "stdout",
     "output_type": "stream",
     "text": [
      "disaggregations for SH_STA_SCIDE:\n"
     ]
    },
    {
     "data": {
      "text/plain": [
       "['sex_code']"
      ]
     },
     "execution_count": 14,
     "metadata": {},
     "output_type": "execute_result"
    },
    {
     "name": "stdout",
     "output_type": "stream",
     "text": [
      "disaggregations for SH_STA_SCIDEN:\n"
     ]
    },
    {
     "data": {
      "text/plain": [
       "['sex_code']"
      ]
     },
     "execution_count": 14,
     "metadata": {},
     "output_type": "execute_result"
    },
    {
     "name": "stdout",
     "output_type": "stream",
     "text": [
      "disaggregations for SH_ALC_CONSPT:\n"
     ]
    },
    {
     "data": {
      "text/plain": [
       "['age_code', 'sex_code']"
      ]
     },
     "execution_count": 14,
     "metadata": {},
     "output_type": "execute_result"
    },
    {
     "name": "stdout",
     "output_type": "stream",
     "text": [
      "disaggregations for SH_STA_TRAF:\n"
     ]
    },
    {
     "data": {
      "text/plain": [
       "[]"
      ]
     },
     "execution_count": 14,
     "metadata": {},
     "output_type": "execute_result"
    },
    {
     "name": "stdout",
     "output_type": "stream",
     "text": [
      "disaggregations for SH_FPL_MTMM:\n"
     ]
    },
    {
     "data": {
      "text/plain": [
       "['age_code', 'sex_code']"
      ]
     },
     "execution_count": 14,
     "metadata": {},
     "output_type": "execute_result"
    },
    {
     "name": "stdout",
     "output_type": "stream",
     "text": [
      "disaggregations for SP_DYN_ADKL:\n"
     ]
    },
    {
     "data": {
      "text/plain": [
       "['age_code', 'sex_code']"
      ]
     },
     "execution_count": 14,
     "metadata": {},
     "output_type": "execute_result"
    },
    {
     "name": "stdout",
     "output_type": "stream",
     "text": [
      "disaggregations for SH_ACS_UNHC:\n"
     ]
    },
    {
     "data": {
      "text/plain": [
       "[]"
      ]
     },
     "execution_count": 14,
     "metadata": {},
     "output_type": "execute_result"
    },
    {
     "name": "stdout",
     "output_type": "stream",
     "text": [
      "disaggregations for SH_XPD_EARN25:\n"
     ]
    },
    {
     "data": {
      "text/plain": [
       "[]"
      ]
     },
     "execution_count": 14,
     "metadata": {},
     "output_type": "execute_result"
    },
    {
     "name": "stdout",
     "output_type": "stream",
     "text": [
      "disaggregations for SH_XPD_EARN10:\n"
     ]
    },
    {
     "data": {
      "text/plain": [
       "[]"
      ]
     },
     "execution_count": 14,
     "metadata": {},
     "output_type": "execute_result"
    },
    {
     "name": "stdout",
     "output_type": "stream",
     "text": [
      "disaggregations for SH_HAP_ASMORT:\n"
     ]
    },
    {
     "data": {
      "text/plain": [
       "[]"
      ]
     },
     "execution_count": 14,
     "metadata": {},
     "output_type": "execute_result"
    },
    {
     "name": "stdout",
     "output_type": "stream",
     "text": [
      "disaggregations for SH_STA_AIRP:\n"
     ]
    },
    {
     "data": {
      "text/plain": [
       "[]"
      ]
     },
     "execution_count": 14,
     "metadata": {},
     "output_type": "execute_result"
    },
    {
     "name": "stdout",
     "output_type": "stream",
     "text": [
      "disaggregations for SH_STA_ASAIRP:\n"
     ]
    },
    {
     "data": {
      "text/plain": [
       "[]"
      ]
     },
     "execution_count": 14,
     "metadata": {},
     "output_type": "execute_result"
    },
    {
     "name": "stdout",
     "output_type": "stream",
     "text": [
      "disaggregations for SH_AAP_MORT:\n"
     ]
    },
    {
     "data": {
      "text/plain": [
       "[]"
      ]
     },
     "execution_count": 14,
     "metadata": {},
     "output_type": "execute_result"
    },
    {
     "name": "stdout",
     "output_type": "stream",
     "text": [
      "disaggregations for SH_AAP_ASMORT:\n"
     ]
    },
    {
     "data": {
      "text/plain": [
       "[]"
      ]
     },
     "execution_count": 14,
     "metadata": {},
     "output_type": "execute_result"
    },
    {
     "name": "stdout",
     "output_type": "stream",
     "text": [
      "disaggregations for SH_HAP_MORT:\n"
     ]
    },
    {
     "data": {
      "text/plain": [
       "[]"
      ]
     },
     "execution_count": 14,
     "metadata": {},
     "output_type": "execute_result"
    },
    {
     "name": "stdout",
     "output_type": "stream",
     "text": [
      "disaggregations for SH_STA_WASH:\n"
     ]
    },
    {
     "data": {
      "text/plain": [
       "[]"
      ]
     },
     "execution_count": 14,
     "metadata": {},
     "output_type": "execute_result"
    },
    {
     "name": "stdout",
     "output_type": "stream",
     "text": [
      "disaggregations for SH_STA_POISN:\n"
     ]
    },
    {
     "data": {
      "text/plain": [
       "['sex_code']"
      ]
     },
     "execution_count": 14,
     "metadata": {},
     "output_type": "execute_result"
    },
    {
     "name": "stdout",
     "output_type": "stream",
     "text": [
      "disaggregations for SH_PRV_SMOK:\n"
     ]
    },
    {
     "data": {
      "text/plain": [
       "['age_code', 'sex_code']"
      ]
     },
     "execution_count": 14,
     "metadata": {},
     "output_type": "execute_result"
    },
    {
     "name": "stdout",
     "output_type": "stream",
     "text": [
      "disaggregations for SH_ACS_DTP3:\n"
     ]
    },
    {
     "data": {
      "text/plain": [
       "[]"
      ]
     },
     "execution_count": 14,
     "metadata": {},
     "output_type": "execute_result"
    },
    {
     "name": "stdout",
     "output_type": "stream",
     "text": [
      "disaggregations for SH_ACS_MCV2:\n"
     ]
    },
    {
     "data": {
      "text/plain": [
       "[]"
      ]
     },
     "execution_count": 14,
     "metadata": {},
     "output_type": "execute_result"
    },
    {
     "name": "stdout",
     "output_type": "stream",
     "text": [
      "disaggregations for SH_ACS_PCV3:\n"
     ]
    },
    {
     "data": {
      "text/plain": [
       "[]"
      ]
     },
     "execution_count": 14,
     "metadata": {},
     "output_type": "execute_result"
    },
    {
     "name": "stdout",
     "output_type": "stream",
     "text": [
      "disaggregations for SH_ACS_HPV:\n"
     ]
    },
    {
     "data": {
      "text/plain": [
       "[]"
      ]
     },
     "execution_count": 14,
     "metadata": {},
     "output_type": "execute_result"
    },
    {
     "name": "stdout",
     "output_type": "stream",
     "text": [
      "disaggregations for DC_TOF_HLTHNT:\n"
     ]
    },
    {
     "data": {
      "text/plain": [
       "[]"
      ]
     },
     "execution_count": 14,
     "metadata": {},
     "output_type": "execute_result"
    },
    {
     "name": "stdout",
     "output_type": "stream",
     "text": [
      "disaggregations for DC_TOF_HLTHL:\n"
     ]
    },
    {
     "data": {
      "text/plain": [
       "[]"
      ]
     },
     "execution_count": 14,
     "metadata": {},
     "output_type": "execute_result"
    },
    {
     "name": "stdout",
     "output_type": "stream",
     "text": [
      "disaggregations for SH_MED_HEAWOR:\n"
     ]
    },
    {
     "data": {
      "text/plain": [
       "['typeOfOccupation_code']"
      ]
     },
     "execution_count": 14,
     "metadata": {},
     "output_type": "execute_result"
    },
    {
     "name": "stdout",
     "output_type": "stream",
     "text": [
      "disaggregations for SH_MED_HWRKDIS:\n"
     ]
    },
    {
     "data": {
      "text/plain": [
       "['sex_code', 'typeOfOccupation_code']"
      ]
     },
     "execution_count": 14,
     "metadata": {},
     "output_type": "execute_result"
    },
    {
     "name": "stdout",
     "output_type": "stream",
     "text": [
      "disaggregations for SH_IHR_CAPS:\n"
     ]
    },
    {
     "data": {
      "text/plain": [
       "['ihrCapacity_code']"
      ]
     },
     "execution_count": 14,
     "metadata": {},
     "output_type": "execute_result"
    },
    {
     "name": "stdout",
     "output_type": "stream",
     "text": [
      "disaggregations for SE_TOT_PRFL:\n"
     ]
    },
    {
     "data": {
      "text/plain": [
       "['sex_code', 'educationLevel_code', 'typeOfSkill_code']"
      ]
     },
     "execution_count": 14,
     "metadata": {},
     "output_type": "execute_result"
    },
    {
     "name": "stdout",
     "output_type": "stream",
     "text": [
      "disaggregations for SE_DEV_ONTRK:\n"
     ]
    },
    {
     "data": {
      "text/plain": [
       "['age_code']"
      ]
     },
     "execution_count": 14,
     "metadata": {},
     "output_type": "execute_result"
    },
    {
     "name": "stdout",
     "output_type": "stream",
     "text": [
      "disaggregations for SE_PRE_PARTN:\n"
     ]
    },
    {
     "data": {
      "text/plain": [
       "['sex_code']"
      ]
     },
     "execution_count": 14,
     "metadata": {},
     "output_type": "execute_result"
    },
    {
     "name": "stdout",
     "output_type": "stream",
     "text": [
      "disaggregations for SE_ADT_EDUCTRN:\n"
     ]
    },
    {
     "data": {
      "text/plain": [
       "['sex_code']"
      ]
     },
     "execution_count": 14,
     "metadata": {},
     "output_type": "execute_result"
    },
    {
     "name": "stdout",
     "output_type": "stream",
     "text": [
      "disaggregations for SE_ADT_ACTS:\n"
     ]
    },
    {
     "data": {
      "text/plain": [
       "['sex_code', 'typeOfSkill_code']"
      ]
     },
     "execution_count": 14,
     "metadata": {},
     "output_type": "execute_result"
    },
    {
     "name": "stdout",
     "output_type": "stream",
     "text": [
      "disaggregations for SE_PRE_GPIPARTN:\n"
     ]
    },
    {
     "data": {
      "text/plain": [
       "[]"
      ]
     },
     "execution_count": 14,
     "metadata": {},
     "output_type": "execute_result"
    },
    {
     "name": "stdout",
     "output_type": "stream",
     "text": [
      "disaggregations for SE_GPI_TRATEA:\n"
     ]
    },
    {
     "data": {
      "text/plain": [
       "['educationLevel_code']"
      ]
     },
     "execution_count": 14,
     "metadata": {},
     "output_type": "execute_result"
    },
    {
     "name": "stdout",
     "output_type": "stream",
     "text": [
      "disaggregations for SE_GPI_PART:\n"
     ]
    },
    {
     "data": {
      "text/plain": [
       "[]"
      ]
     },
     "execution_count": 14,
     "metadata": {},
     "output_type": "execute_result"
    },
    {
     "name": "stdout",
     "output_type": "stream",
     "text": [
      "disaggregations for SE_GPI_ICTS:\n"
     ]
    },
    {
     "data": {
      "text/plain": [
       "['typeOfSkill_code']"
      ]
     },
     "execution_count": 14,
     "metadata": {},
     "output_type": "execute_result"
    },
    {
     "name": "stdout",
     "output_type": "stream",
     "text": [
      "disaggregations for SE_IMP_FPOF:\n"
     ]
    },
    {
     "data": {
      "text/plain": [
       "['typeOfSkill_code']"
      ]
     },
     "execution_count": 14,
     "metadata": {},
     "output_type": "execute_result"
    },
    {
     "name": "stdout",
     "output_type": "stream",
     "text": [
      "disaggregations for SE_NAP_ACHI:\n"
     ]
    },
    {
     "data": {
      "text/plain": [
       "['educationLevel_code', 'typeOfSkill_code']"
      ]
     },
     "execution_count": 14,
     "metadata": {},
     "output_type": "execute_result"
    },
    {
     "name": "stdout",
     "output_type": "stream",
     "text": [
      "disaggregations for SE_LGP_ACHI:\n"
     ]
    },
    {
     "data": {
      "text/plain": [
       "['educationLevel_code', 'typeOfSkill_code']"
      ]
     },
     "execution_count": 14,
     "metadata": {},
     "output_type": "execute_result"
    },
    {
     "name": "stdout",
     "output_type": "stream",
     "text": [
      "disaggregations for SE_TOT_GPI:\n"
     ]
    },
    {
     "data": {
      "text/plain": [
       "['educationLevel_code', 'typeOfSkill_code']"
      ]
     },
     "execution_count": 14,
     "metadata": {},
     "output_type": "execute_result"
    },
    {
     "name": "stdout",
     "output_type": "stream",
     "text": [
      "disaggregations for SE_TOT_SESPI:\n"
     ]
    },
    {
     "data": {
      "text/plain": [
       "['educationLevel_code', 'typeOfSkill_code']"
      ]
     },
     "execution_count": 14,
     "metadata": {},
     "output_type": "execute_result"
    },
    {
     "name": "stdout",
     "output_type": "stream",
     "text": [
      "disaggregations for SE_TOT_RUPI:\n"
     ]
    },
    {
     "data": {
      "text/plain": [
       "['educationLevel_code', 'typeOfSkill_code']"
      ]
     },
     "execution_count": 14,
     "metadata": {},
     "output_type": "execute_result"
    },
    {
     "name": "stdout",
     "output_type": "stream",
     "text": [
      "disaggregations for SE_ADT_FUNS:\n"
     ]
    },
    {
     "data": {
      "text/plain": [
       "['age_code', 'sex_code', 'typeOfSkill_code']"
      ]
     },
     "execution_count": 14,
     "metadata": {},
     "output_type": "execute_result"
    },
    {
     "name": "stdout",
     "output_type": "stream",
     "text": [
      "disaggregations for SE_ACC_COMP:\n"
     ]
    },
    {
     "data": {
      "text/plain": [
       "['educationLevel_code']"
      ]
     },
     "execution_count": 14,
     "metadata": {},
     "output_type": "execute_result"
    },
    {
     "name": "stdout",
     "output_type": "stream",
     "text": [
      "disaggregations for SE_ACC_DWAT:\n"
     ]
    },
    {
     "data": {
      "text/plain": [
       "['educationLevel_code']"
      ]
     },
     "execution_count": 14,
     "metadata": {},
     "output_type": "execute_result"
    },
    {
     "name": "stdout",
     "output_type": "stream",
     "text": [
      "disaggregations for SE_ACC_ELEC:\n"
     ]
    },
    {
     "data": {
      "text/plain": [
       "['educationLevel_code']"
      ]
     },
     "execution_count": 14,
     "metadata": {},
     "output_type": "execute_result"
    },
    {
     "name": "stdout",
     "output_type": "stream",
     "text": [
      "disaggregations for SE_ACC_HNWA:\n"
     ]
    },
    {
     "data": {
      "text/plain": [
       "['educationLevel_code']"
      ]
     },
     "execution_count": 14,
     "metadata": {},
     "output_type": "execute_result"
    },
    {
     "name": "stdout",
     "output_type": "stream",
     "text": [
      "disaggregations for SE_ACC_INTN:\n"
     ]
    },
    {
     "data": {
      "text/plain": [
       "['educationLevel_code']"
      ]
     },
     "execution_count": 14,
     "metadata": {},
     "output_type": "execute_result"
    },
    {
     "name": "stdout",
     "output_type": "stream",
     "text": [
      "disaggregations for SE_ACC_SANI:\n"
     ]
    },
    {
     "data": {
      "text/plain": [
       "['educationLevel_code']"
      ]
     },
     "execution_count": 14,
     "metadata": {},
     "output_type": "execute_result"
    },
    {
     "name": "stdout",
     "output_type": "stream",
     "text": [
      "disaggregations for SE_INF_DSBL:\n"
     ]
    },
    {
     "data": {
      "text/plain": [
       "['educationLevel_code']"
      ]
     },
     "execution_count": 14,
     "metadata": {},
     "output_type": "execute_result"
    },
    {
     "name": "stdout",
     "output_type": "stream",
     "text": [
      "disaggregations for DC_TOF_SCHIPSL:\n"
     ]
    },
    {
     "data": {
      "text/plain": [
       "[]"
      ]
     },
     "execution_count": 14,
     "metadata": {},
     "output_type": "execute_result"
    },
    {
     "name": "stdout",
     "output_type": "stream",
     "text": [
      "disaggregations for SE_TRA_GRDL:\n"
     ]
    },
    {
     "data": {
      "text/plain": [
       "['sex_code', 'educationLevel_code']"
      ]
     },
     "execution_count": 14,
     "metadata": {},
     "output_type": "execute_result"
    },
    {
     "name": "stdout",
     "output_type": "stream",
     "text": [
      "disaggregations for SG_LGL_GENEQLFP:\n"
     ]
    },
    {
     "data": {
      "text/plain": [
       "[]"
      ]
     },
     "execution_count": 14,
     "metadata": {},
     "output_type": "execute_result"
    },
    {
     "name": "stdout",
     "output_type": "stream",
     "text": [
      "disaggregations for SG_LGL_GENEQVAW:\n"
     ]
    },
    {
     "data": {
      "text/plain": [
       "[]"
      ]
     },
     "execution_count": 14,
     "metadata": {},
     "output_type": "execute_result"
    },
    {
     "name": "stdout",
     "output_type": "stream",
     "text": [
      "disaggregations for SG_LGL_GENEQEMP:\n"
     ]
    },
    {
     "data": {
      "text/plain": [
       "[]"
      ]
     },
     "execution_count": 14,
     "metadata": {},
     "output_type": "execute_result"
    },
    {
     "name": "stdout",
     "output_type": "stream",
     "text": [
      "disaggregations for SG_LGL_GENEQMAR:\n"
     ]
    },
    {
     "data": {
      "text/plain": [
       "[]"
      ]
     },
     "execution_count": 14,
     "metadata": {},
     "output_type": "execute_result"
    },
    {
     "name": "stdout",
     "output_type": "stream",
     "text": [
      "disaggregations for VC_VAW_MARR:\n"
     ]
    },
    {
     "data": {
      "text/plain": [
       "['age_code', 'sex_code']"
      ]
     },
     "execution_count": 14,
     "metadata": {},
     "output_type": "execute_result"
    },
    {
     "name": "stdout",
     "output_type": "stream",
     "text": [
      "disaggregations for SP_DYN_MRBF18:\n"
     ]
    },
    {
     "data": {
      "text/plain": [
       "['age_code', 'sex_code']"
      ]
     },
     "execution_count": 14,
     "metadata": {},
     "output_type": "execute_result"
    },
    {
     "name": "stdout",
     "output_type": "stream",
     "text": [
      "disaggregations for SP_DYN_MRBF15:\n"
     ]
    },
    {
     "data": {
      "text/plain": [
       "['age_code', 'sex_code']"
      ]
     },
     "execution_count": 14,
     "metadata": {},
     "output_type": "execute_result"
    },
    {
     "name": "stdout",
     "output_type": "stream",
     "text": [
      "disaggregations for SH_STA_FGMS:\n"
     ]
    },
    {
     "data": {
      "text/plain": [
       "['age_code', 'sex_code']"
      ]
     },
     "execution_count": 14,
     "metadata": {},
     "output_type": "execute_result"
    },
    {
     "name": "stdout",
     "output_type": "stream",
     "text": [
      "disaggregations for SL_DOM_TSPDCW:\n"
     ]
    },
    {
     "data": {
      "text/plain": [
       "['age_code', 'location_code', 'sex_code']"
      ]
     },
     "execution_count": 14,
     "metadata": {},
     "output_type": "execute_result"
    },
    {
     "name": "stdout",
     "output_type": "stream",
     "text": [
      "disaggregations for SL_DOM_TSPDDC:\n"
     ]
    },
    {
     "data": {
      "text/plain": [
       "['age_code', 'location_code', 'sex_code']"
      ]
     },
     "execution_count": 14,
     "metadata": {},
     "output_type": "execute_result"
    },
    {
     "name": "stdout",
     "output_type": "stream",
     "text": [
      "disaggregations for SL_DOM_TSPD:\n"
     ]
    },
    {
     "data": {
      "text/plain": [
       "['age_code', 'location_code', 'sex_code']"
      ]
     },
     "execution_count": 14,
     "metadata": {},
     "output_type": "execute_result"
    },
    {
     "name": "stdout",
     "output_type": "stream",
     "text": [
      "disaggregations for SG_GEN_PARLN:\n"
     ]
    },
    {
     "data": {
      "text/plain": [
       "['sex_code']"
      ]
     },
     "execution_count": 14,
     "metadata": {},
     "output_type": "execute_result"
    },
    {
     "name": "stdout",
     "output_type": "stream",
     "text": [
      "disaggregations for SG_GEN_PARLNT:\n"
     ]
    },
    {
     "data": {
      "text/plain": [
       "['sex_code']"
      ]
     },
     "execution_count": 14,
     "metadata": {},
     "output_type": "execute_result"
    },
    {
     "name": "stdout",
     "output_type": "stream",
     "text": [
      "disaggregations for SG_GEN_PARL:\n"
     ]
    },
    {
     "data": {
      "text/plain": [
       "['sex_code']"
      ]
     },
     "execution_count": 14,
     "metadata": {},
     "output_type": "execute_result"
    },
    {
     "name": "stdout",
     "output_type": "stream",
     "text": [
      "disaggregations for SG_GEN_LOCGELS:\n"
     ]
    },
    {
     "data": {
      "text/plain": [
       "['sex_code']"
      ]
     },
     "execution_count": 14,
     "metadata": {},
     "output_type": "execute_result"
    },
    {
     "name": "stdout",
     "output_type": "stream",
     "text": [
      "disaggregations for IC_GEN_MGTL:\n"
     ]
    },
    {
     "data": {
      "text/plain": [
       "['sex_code']"
      ]
     },
     "execution_count": 14,
     "metadata": {},
     "output_type": "execute_result"
    },
    {
     "name": "stdout",
     "output_type": "stream",
     "text": [
      "disaggregations for IC_GEN_MGTN:\n"
     ]
    },
    {
     "data": {
      "text/plain": [
       "['sex_code']"
      ]
     },
     "execution_count": 14,
     "metadata": {},
     "output_type": "execute_result"
    },
    {
     "name": "stdout",
     "output_type": "stream",
     "text": [
      "disaggregations for SH_FPL_INFM:\n"
     ]
    },
    {
     "data": {
      "text/plain": [
       "['age_code', 'sex_code']"
      ]
     },
     "execution_count": 14,
     "metadata": {},
     "output_type": "execute_result"
    },
    {
     "name": "stdout",
     "output_type": "stream",
     "text": [
      "disaggregations for SH_FPL_INFMSR:\n"
     ]
    },
    {
     "data": {
      "text/plain": [
       "['age_code', 'sex_code']"
      ]
     },
     "execution_count": 14,
     "metadata": {},
     "output_type": "execute_result"
    },
    {
     "name": "stdout",
     "output_type": "stream",
     "text": [
      "disaggregations for SH_FPL_INFMCU:\n"
     ]
    },
    {
     "data": {
      "text/plain": [
       "['age_code', 'sex_code']"
      ]
     },
     "execution_count": 14,
     "metadata": {},
     "output_type": "execute_result"
    },
    {
     "name": "stdout",
     "output_type": "stream",
     "text": [
      "disaggregations for SH_FPL_INFMRH:\n"
     ]
    },
    {
     "data": {
      "text/plain": [
       "['age_code', 'sex_code']"
      ]
     },
     "execution_count": 14,
     "metadata": {},
     "output_type": "execute_result"
    },
    {
     "name": "stdout",
     "output_type": "stream",
     "text": [
      "disaggregations for SH_LGR_ACSRHE:\n"
     ]
    },
    {
     "data": {
      "text/plain": [
       "[]"
      ]
     },
     "execution_count": 14,
     "metadata": {},
     "output_type": "execute_result"
    },
    {
     "name": "stdout",
     "output_type": "stream",
     "text": [
      "disaggregations for SH_LGR_ACSRHEC1:\n"
     ]
    },
    {
     "data": {
      "text/plain": [
       "[]"
      ]
     },
     "execution_count": 14,
     "metadata": {},
     "output_type": "execute_result"
    },
    {
     "name": "stdout",
     "output_type": "stream",
     "text": [
      "disaggregations for SH_LGR_ACSRHEC10:\n"
     ]
    },
    {
     "data": {
      "text/plain": [
       "[]"
      ]
     },
     "execution_count": 14,
     "metadata": {},
     "output_type": "execute_result"
    },
    {
     "name": "stdout",
     "output_type": "stream",
     "text": [
      "disaggregations for SH_LGR_ACSRHEC11:\n"
     ]
    },
    {
     "data": {
      "text/plain": [
       "[]"
      ]
     },
     "execution_count": 14,
     "metadata": {},
     "output_type": "execute_result"
    },
    {
     "name": "stdout",
     "output_type": "stream",
     "text": [
      "disaggregations for SH_LGR_ACSRHEC12:\n"
     ]
    },
    {
     "data": {
      "text/plain": [
       "[]"
      ]
     },
     "execution_count": 14,
     "metadata": {},
     "output_type": "execute_result"
    },
    {
     "name": "stdout",
     "output_type": "stream",
     "text": [
      "disaggregations for SH_LGR_ACSRHEC13:\n"
     ]
    },
    {
     "data": {
      "text/plain": [
       "[]"
      ]
     },
     "execution_count": 14,
     "metadata": {},
     "output_type": "execute_result"
    },
    {
     "name": "stdout",
     "output_type": "stream",
     "text": [
      "disaggregations for SH_LGR_ACSRHEC2:\n"
     ]
    },
    {
     "data": {
      "text/plain": [
       "[]"
      ]
     },
     "execution_count": 14,
     "metadata": {},
     "output_type": "execute_result"
    },
    {
     "name": "stdout",
     "output_type": "stream",
     "text": [
      "disaggregations for SH_LGR_ACSRHEC3:\n"
     ]
    },
    {
     "data": {
      "text/plain": [
       "[]"
      ]
     },
     "execution_count": 14,
     "metadata": {},
     "output_type": "execute_result"
    },
    {
     "name": "stdout",
     "output_type": "stream",
     "text": [
      "disaggregations for SH_LGR_ACSRHEC4:\n"
     ]
    },
    {
     "data": {
      "text/plain": [
       "[]"
      ]
     },
     "execution_count": 14,
     "metadata": {},
     "output_type": "execute_result"
    },
    {
     "name": "stdout",
     "output_type": "stream",
     "text": [
      "disaggregations for SH_LGR_ACSRHEC5:\n"
     ]
    },
    {
     "data": {
      "text/plain": [
       "[]"
      ]
     },
     "execution_count": 14,
     "metadata": {},
     "output_type": "execute_result"
    },
    {
     "name": "stdout",
     "output_type": "stream",
     "text": [
      "disaggregations for SH_LGR_ACSRHEC6:\n"
     ]
    },
    {
     "data": {
      "text/plain": [
       "[]"
      ]
     },
     "execution_count": 14,
     "metadata": {},
     "output_type": "execute_result"
    },
    {
     "name": "stdout",
     "output_type": "stream",
     "text": [
      "disaggregations for SH_LGR_ACSRHEC7:\n"
     ]
    },
    {
     "data": {
      "text/plain": [
       "[]"
      ]
     },
     "execution_count": 14,
     "metadata": {},
     "output_type": "execute_result"
    },
    {
     "name": "stdout",
     "output_type": "stream",
     "text": [
      "disaggregations for SH_LGR_ACSRHEC8:\n"
     ]
    },
    {
     "data": {
      "text/plain": [
       "[]"
      ]
     },
     "execution_count": 14,
     "metadata": {},
     "output_type": "execute_result"
    },
    {
     "name": "stdout",
     "output_type": "stream",
     "text": [
      "disaggregations for SH_LGR_ACSRHEC9:\n"
     ]
    },
    {
     "data": {
      "text/plain": [
       "[]"
      ]
     },
     "execution_count": 14,
     "metadata": {},
     "output_type": "execute_result"
    },
    {
     "name": "stdout",
     "output_type": "stream",
     "text": [
      "disaggregations for SH_LGR_ACSRHES1:\n"
     ]
    },
    {
     "data": {
      "text/plain": [
       "[]"
      ]
     },
     "execution_count": 14,
     "metadata": {},
     "output_type": "execute_result"
    },
    {
     "name": "stdout",
     "output_type": "stream",
     "text": [
      "disaggregations for SH_LGR_ACSRHES2:\n"
     ]
    },
    {
     "data": {
      "text/plain": [
       "[]"
      ]
     },
     "execution_count": 14,
     "metadata": {},
     "output_type": "execute_result"
    },
    {
     "name": "stdout",
     "output_type": "stream",
     "text": [
      "disaggregations for SH_LGR_ACSRHES3:\n"
     ]
    },
    {
     "data": {
      "text/plain": [
       "[]"
      ]
     },
     "execution_count": 14,
     "metadata": {},
     "output_type": "execute_result"
    },
    {
     "name": "stdout",
     "output_type": "stream",
     "text": [
      "disaggregations for SH_LGR_ACSRHES4:\n"
     ]
    },
    {
     "data": {
      "text/plain": [
       "[]"
      ]
     },
     "execution_count": 14,
     "metadata": {},
     "output_type": "execute_result"
    },
    {
     "name": "stdout",
     "output_type": "stream",
     "text": [
      "disaggregations for SP_LGL_LNDAGSEC:\n"
     ]
    },
    {
     "data": {
      "text/plain": [
       "['sex_code']"
      ]
     },
     "execution_count": 14,
     "metadata": {},
     "output_type": "execute_result"
    },
    {
     "name": "stdout",
     "output_type": "stream",
     "text": [
      "disaggregations for SP_GNP_WNOWNS:\n"
     ]
    },
    {
     "data": {
      "text/plain": [
       "[]"
      ]
     },
     "execution_count": 14,
     "metadata": {},
     "output_type": "execute_result"
    },
    {
     "name": "stdout",
     "output_type": "stream",
     "text": [
      "disaggregations for SG_LGL_LNDWMN:\n"
     ]
    },
    {
     "data": {
      "text/plain": [
       "[]"
      ]
     },
     "execution_count": 14,
     "metadata": {},
     "output_type": "execute_result"
    },
    {
     "name": "stdout",
     "output_type": "stream",
     "text": [
      "disaggregations for IT_MOB_OWN:\n"
     ]
    },
    {
     "data": {
      "text/plain": [
       "['sex_code']"
      ]
     },
     "execution_count": 14,
     "metadata": {},
     "output_type": "execute_result"
    },
    {
     "name": "stdout",
     "output_type": "stream",
     "text": [
      "disaggregations for SG_GEN_EQPWN:\n"
     ]
    },
    {
     "data": {
      "text/plain": [
       "[]"
      ]
     },
     "execution_count": 14,
     "metadata": {},
     "output_type": "execute_result"
    },
    {
     "name": "stdout",
     "output_type": "stream",
     "text": [
      "disaggregations for SH_H2O_SAFE:\n"
     ]
    },
    {
     "data": {
      "text/plain": [
       "['location_code']"
      ]
     },
     "execution_count": 14,
     "metadata": {},
     "output_type": "execute_result"
    },
    {
     "name": "stdout",
     "output_type": "stream",
     "text": [
      "disaggregations for SH_SAN_HNDWSH:\n"
     ]
    },
    {
     "data": {
      "text/plain": [
       "['location_code']"
      ]
     },
     "execution_count": 14,
     "metadata": {},
     "output_type": "execute_result"
    },
    {
     "name": "stdout",
     "output_type": "stream",
     "text": [
      "disaggregations for SH_SAN_SAFE:\n"
     ]
    },
    {
     "data": {
      "text/plain": [
       "['location_code']"
      ]
     },
     "execution_count": 14,
     "metadata": {},
     "output_type": "execute_result"
    },
    {
     "name": "stdout",
     "output_type": "stream",
     "text": [
      "disaggregations for SH_SAN_DEFECT:\n"
     ]
    },
    {
     "data": {
      "text/plain": [
       "['location_code']"
      ]
     },
     "execution_count": 14,
     "metadata": {},
     "output_type": "execute_result"
    },
    {
     "name": "stdout",
     "output_type": "stream",
     "text": [
      "disaggregations for EN_WWT_WWDS:\n"
     ]
    },
    {
     "data": {
      "text/plain": [
       "[]"
      ]
     },
     "execution_count": 14,
     "metadata": {},
     "output_type": "execute_result"
    },
    {
     "name": "stdout",
     "output_type": "stream",
     "text": [
      "disaggregations for EN_H2O_OPAMBQ:\n"
     ]
    },
    {
     "data": {
      "text/plain": [
       "[]"
      ]
     },
     "execution_count": 14,
     "metadata": {},
     "output_type": "execute_result"
    },
    {
     "name": "stdout",
     "output_type": "stream",
     "text": [
      "disaggregations for EN_H2O_RVAMBQ:\n"
     ]
    },
    {
     "data": {
      "text/plain": [
       "[]"
      ]
     },
     "execution_count": 14,
     "metadata": {},
     "output_type": "execute_result"
    },
    {
     "name": "stdout",
     "output_type": "stream",
     "text": [
      "disaggregations for EN_H2O_GRAMBQ:\n"
     ]
    },
    {
     "data": {
      "text/plain": [
       "[]"
      ]
     },
     "execution_count": 14,
     "metadata": {},
     "output_type": "execute_result"
    },
    {
     "name": "stdout",
     "output_type": "stream",
     "text": [
      "disaggregations for EN_H2O_WBAMBQ:\n"
     ]
    },
    {
     "data": {
      "text/plain": [
       "[]"
      ]
     },
     "execution_count": 14,
     "metadata": {},
     "output_type": "execute_result"
    },
    {
     "name": "stdout",
     "output_type": "stream",
     "text": [
      "disaggregations for ER_H2O_WUEYST:\n"
     ]
    },
    {
     "data": {
      "text/plain": [
       "[]"
      ]
     },
     "execution_count": 14,
     "metadata": {},
     "output_type": "execute_result"
    },
    {
     "name": "stdout",
     "output_type": "stream",
     "text": [
      "disaggregations for ER_H2O_STRESS:\n"
     ]
    },
    {
     "data": {
      "text/plain": [
       "['observationStatus_code']"
      ]
     },
     "execution_count": 14,
     "metadata": {},
     "output_type": "execute_result"
    },
    {
     "name": "stdout",
     "output_type": "stream",
     "text": [
      "disaggregations for ER_H2O_IWRMD:\n"
     ]
    },
    {
     "data": {
      "text/plain": [
       "[]"
      ]
     },
     "execution_count": 14,
     "metadata": {},
     "output_type": "execute_result"
    },
    {
     "name": "stdout",
     "output_type": "stream",
     "text": [
      "disaggregations for ER_H2O_IWRMP:\n"
     ]
    },
    {
     "data": {
      "text/plain": [
       "['levelStatus_code']"
      ]
     },
     "execution_count": 14,
     "metadata": {},
     "output_type": "execute_result"
    },
    {
     "name": "stdout",
     "output_type": "stream",
     "text": [
      "disaggregations for EG_TBA_H2CO:\n"
     ]
    },
    {
     "data": {
      "text/plain": [
       "[]"
      ]
     },
     "execution_count": 14,
     "metadata": {},
     "output_type": "execute_result"
    },
    {
     "name": "stdout",
     "output_type": "stream",
     "text": [
      "disaggregations for EG_TBA_H2COAQ:\n"
     ]
    },
    {
     "data": {
      "text/plain": [
       "[]"
      ]
     },
     "execution_count": 14,
     "metadata": {},
     "output_type": "execute_result"
    },
    {
     "name": "stdout",
     "output_type": "stream",
     "text": [
      "disaggregations for EG_TBA_H2CORL:\n"
     ]
    },
    {
     "data": {
      "text/plain": [
       "[]"
      ]
     },
     "execution_count": 14,
     "metadata": {},
     "output_type": "execute_result"
    },
    {
     "name": "stdout",
     "output_type": "stream",
     "text": [
      "disaggregations for EN_WBE_PMPR:\n"
     ]
    },
    {
     "data": {
      "text/plain": [
       "[]"
      ]
     },
     "execution_count": 14,
     "metadata": {},
     "output_type": "execute_result"
    },
    {
     "name": "stdout",
     "output_type": "stream",
     "text": [
      "disaggregations for EN_WBE_PMNR:\n"
     ]
    },
    {
     "data": {
      "text/plain": [
       "[]"
      ]
     },
     "execution_count": 14,
     "metadata": {},
     "output_type": "execute_result"
    },
    {
     "name": "stdout",
     "output_type": "stream",
     "text": [
      "disaggregations for EN_WBE_PMPP:\n"
     ]
    },
    {
     "data": {
      "text/plain": [
       "[]"
      ]
     },
     "execution_count": 14,
     "metadata": {},
     "output_type": "execute_result"
    },
    {
     "name": "stdout",
     "output_type": "stream",
     "text": [
      "disaggregations for EN_WBE_PMPN:\n"
     ]
    },
    {
     "data": {
      "text/plain": [
       "[]"
      ]
     },
     "execution_count": 14,
     "metadata": {},
     "output_type": "execute_result"
    },
    {
     "name": "stdout",
     "output_type": "stream",
     "text": [
      "disaggregations for EN_WBE_NDETOT:\n"
     ]
    },
    {
     "data": {
      "text/plain": [
       "[]"
      ]
     },
     "execution_count": 14,
     "metadata": {},
     "output_type": "execute_result"
    },
    {
     "name": "stdout",
     "output_type": "stream",
     "text": [
      "disaggregations for EN_WBE_NDOPW:\n"
     ]
    },
    {
     "data": {
      "text/plain": [
       "[]"
      ]
     },
     "execution_count": 14,
     "metadata": {},
     "output_type": "execute_result"
    },
    {
     "name": "stdout",
     "output_type": "stream",
     "text": [
      "disaggregations for EN_WBE_NDQLGRW:\n"
     ]
    },
    {
     "data": {
      "text/plain": [
       "[]"
      ]
     },
     "execution_count": 14,
     "metadata": {},
     "output_type": "execute_result"
    },
    {
     "name": "stdout",
     "output_type": "stream",
     "text": [
      "disaggregations for EN_WBE_NDQLOPW:\n"
     ]
    },
    {
     "data": {
      "text/plain": [
       "[]"
      ]
     },
     "execution_count": 14,
     "metadata": {},
     "output_type": "execute_result"
    },
    {
     "name": "stdout",
     "output_type": "stream",
     "text": [
      "disaggregations for EN_WBE_NDQLRVR:\n"
     ]
    },
    {
     "data": {
      "text/plain": [
       "[]"
      ]
     },
     "execution_count": 14,
     "metadata": {},
     "output_type": "execute_result"
    },
    {
     "name": "stdout",
     "output_type": "stream",
     "text": [
      "disaggregations for EN_WBE_NDQLTOT:\n"
     ]
    },
    {
     "data": {
      "text/plain": [
       "[]"
      ]
     },
     "execution_count": 14,
     "metadata": {},
     "output_type": "execute_result"
    },
    {
     "name": "stdout",
     "output_type": "stream",
     "text": [
      "disaggregations for EN_WBE_NDQTGRW:\n"
     ]
    },
    {
     "data": {
      "text/plain": [
       "[]"
      ]
     },
     "execution_count": 14,
     "metadata": {},
     "output_type": "execute_result"
    },
    {
     "name": "stdout",
     "output_type": "stream",
     "text": [
      "disaggregations for EN_WBE_NDQTOPW:\n"
     ]
    },
    {
     "data": {
      "text/plain": [
       "[]"
      ]
     },
     "execution_count": 14,
     "metadata": {},
     "output_type": "execute_result"
    },
    {
     "name": "stdout",
     "output_type": "stream",
     "text": [
      "disaggregations for EN_WBE_NDQTRVR:\n"
     ]
    },
    {
     "data": {
      "text/plain": [
       "[]"
      ]
     },
     "execution_count": 14,
     "metadata": {},
     "output_type": "execute_result"
    },
    {
     "name": "stdout",
     "output_type": "stream",
     "text": [
      "disaggregations for EN_WBE_NDQTTOT:\n"
     ]
    },
    {
     "data": {
      "text/plain": [
       "[]"
      ]
     },
     "execution_count": 14,
     "metadata": {},
     "output_type": "execute_result"
    },
    {
     "name": "stdout",
     "output_type": "stream",
     "text": [
      "disaggregations for EN_WBE_NDRV:\n"
     ]
    },
    {
     "data": {
      "text/plain": [
       "[]"
      ]
     },
     "execution_count": 14,
     "metadata": {},
     "output_type": "execute_result"
    },
    {
     "name": "stdout",
     "output_type": "stream",
     "text": [
      "disaggregations for EN_WBE_NDWTL:\n"
     ]
    },
    {
     "data": {
      "text/plain": [
       "[]"
      ]
     },
     "execution_count": 14,
     "metadata": {},
     "output_type": "execute_result"
    },
    {
     "name": "stdout",
     "output_type": "stream",
     "text": [
      "disaggregations for DC_TOF_WASHL:\n"
     ]
    },
    {
     "data": {
      "text/plain": [
       "[]"
      ]
     },
     "execution_count": 14,
     "metadata": {},
     "output_type": "execute_result"
    },
    {
     "name": "stdout",
     "output_type": "stream",
     "text": [
      "disaggregations for ER_WAT_PROCED:\n"
     ]
    },
    {
     "data": {
      "text/plain": [
       "[]"
      ]
     },
     "execution_count": 14,
     "metadata": {},
     "output_type": "execute_result"
    },
    {
     "name": "stdout",
     "output_type": "stream",
     "text": [
      "disaggregations for ER_H2O_PARTIC:\n"
     ]
    },
    {
     "data": {
      "text/plain": [
       "['location_code']"
      ]
     },
     "execution_count": 14,
     "metadata": {},
     "output_type": "execute_result"
    },
    {
     "name": "stdout",
     "output_type": "stream",
     "text": [
      "disaggregations for ER_H2O_PROCED:\n"
     ]
    },
    {
     "data": {
      "text/plain": [
       "['location_code']"
      ]
     },
     "execution_count": 14,
     "metadata": {},
     "output_type": "execute_result"
    },
    {
     "name": "stdout",
     "output_type": "stream",
     "text": [
      "disaggregations for ER_WAT_PARTIC:\n"
     ]
    },
    {
     "data": {
      "text/plain": [
       "[]"
      ]
     },
     "execution_count": 14,
     "metadata": {},
     "output_type": "execute_result"
    },
    {
     "name": "stdout",
     "output_type": "stream",
     "text": [
      "disaggregations for ER_H2O_RURP:\n"
     ]
    },
    {
     "data": {
      "text/plain": [
       "['location_code']"
      ]
     },
     "execution_count": 14,
     "metadata": {},
     "output_type": "execute_result"
    },
    {
     "name": "stdout",
     "output_type": "stream",
     "text": [
      "disaggregations for ER_H2O_PRDU:\n"
     ]
    },
    {
     "data": {
      "text/plain": [
       "['location_code']"
      ]
     },
     "execution_count": 14,
     "metadata": {},
     "output_type": "execute_result"
    },
    {
     "name": "stdout",
     "output_type": "stream",
     "text": [
      "disaggregations for ER_WAT_PART:\n"
     ]
    },
    {
     "data": {
      "text/plain": [
       "[]"
      ]
     },
     "execution_count": 14,
     "metadata": {},
     "output_type": "execute_result"
    },
    {
     "name": "stdout",
     "output_type": "stream",
     "text": [
      "disaggregations for ER_WAT_PRDU:\n"
     ]
    },
    {
     "data": {
      "text/plain": [
       "[]"
      ]
     },
     "execution_count": 14,
     "metadata": {},
     "output_type": "execute_result"
    },
    {
     "name": "stdout",
     "output_type": "stream",
     "text": [
      "disaggregations for EG_ELC_ACCS:\n"
     ]
    },
    {
     "data": {
      "text/plain": [
       "['location_code']"
      ]
     },
     "execution_count": 14,
     "metadata": {},
     "output_type": "execute_result"
    },
    {
     "name": "stdout",
     "output_type": "stream",
     "text": [
      "disaggregations for EG_EGY_CLEAN:\n"
     ]
    },
    {
     "data": {
      "text/plain": [
       "[]"
      ]
     },
     "execution_count": 14,
     "metadata": {},
     "output_type": "execute_result"
    },
    {
     "name": "stdout",
     "output_type": "stream",
     "text": [
      "disaggregations for EG_FEC_RNEW:\n"
     ]
    },
    {
     "data": {
      "text/plain": [
       "[]"
      ]
     },
     "execution_count": 14,
     "metadata": {},
     "output_type": "execute_result"
    },
    {
     "name": "stdout",
     "output_type": "stream",
     "text": [
      "disaggregations for EG_EGY_PRIM:\n"
     ]
    },
    {
     "data": {
      "text/plain": [
       "[]"
      ]
     },
     "execution_count": 14,
     "metadata": {},
     "output_type": "execute_result"
    },
    {
     "name": "stdout",
     "output_type": "stream",
     "text": [
      "disaggregations for EG_IFF_RANDN:\n"
     ]
    },
    {
     "data": {
      "text/plain": [
       "[]"
      ]
     },
     "execution_count": 14,
     "metadata": {},
     "output_type": "execute_result"
    },
    {
     "name": "stdout",
     "output_type": "stream",
     "text": [
      "disaggregations for NY_GDP_PCAP:\n"
     ]
    },
    {
     "data": {
      "text/plain": [
       "[]"
      ]
     },
     "execution_count": 14,
     "metadata": {},
     "output_type": "execute_result"
    },
    {
     "name": "stdout",
     "output_type": "stream",
     "text": [
      "disaggregations for SL_EMP_PCAP:\n"
     ]
    },
    {
     "data": {
      "text/plain": [
       "[]"
      ]
     },
     "execution_count": 14,
     "metadata": {},
     "output_type": "execute_result"
    },
    {
     "name": "stdout",
     "output_type": "stream",
     "text": [
      "disaggregations for SL_ISV_IFRM:\n"
     ]
    },
    {
     "data": {
      "text/plain": [
       "['sex_code', 'activity_code']"
      ]
     },
     "execution_count": 14,
     "metadata": {},
     "output_type": "execute_result"
    },
    {
     "name": "stdout",
     "output_type": "stream",
     "text": [
      "disaggregations for EN_MAT_FTPRPG:\n"
     ]
    },
    {
     "data": {
      "text/plain": [
       "['typeOfProduct_code']"
      ]
     },
     "execution_count": 14,
     "metadata": {},
     "output_type": "execute_result"
    },
    {
     "name": "stdout",
     "output_type": "stream",
     "text": [
      "disaggregations for EN_MAT_FTPRPC:\n"
     ]
    },
    {
     "data": {
      "text/plain": [
       "['typeOfProduct_code']"
      ]
     },
     "execution_count": 14,
     "metadata": {},
     "output_type": "execute_result"
    },
    {
     "name": "stdout",
     "output_type": "stream",
     "text": [
      "disaggregations for EN_MAT_FTPRTN:\n"
     ]
    },
    {
     "data": {
      "text/plain": [
       "['typeOfProduct_code']"
      ]
     },
     "execution_count": 14,
     "metadata": {},
     "output_type": "execute_result"
    },
    {
     "name": "stdout",
     "output_type": "stream",
     "text": [
      "disaggregations for EN_MAT_DOMCMPT:\n"
     ]
    },
    {
     "data": {
      "text/plain": [
       "['typeOfProduct_code']"
      ]
     },
     "execution_count": 14,
     "metadata": {},
     "output_type": "execute_result"
    },
    {
     "name": "stdout",
     "output_type": "stream",
     "text": [
      "disaggregations for EN_MAT_DOMCMPG:\n"
     ]
    },
    {
     "data": {
      "text/plain": [
       "['typeOfProduct_code']"
      ]
     },
     "execution_count": 14,
     "metadata": {},
     "output_type": "execute_result"
    },
    {
     "name": "stdout",
     "output_type": "stream",
     "text": [
      "disaggregations for EN_MAT_DOMCMPC:\n"
     ]
    },
    {
     "data": {
      "text/plain": [
       "['typeOfProduct_code']"
      ]
     },
     "execution_count": 14,
     "metadata": {},
     "output_type": "execute_result"
    },
    {
     "name": "stdout",
     "output_type": "stream",
     "text": [
      "disaggregations for SL_EMP_AEARN:\n"
     ]
    },
    {
     "data": {
      "text/plain": [
       "['sex_code', 'typeOfOccupation_code']"
      ]
     },
     "execution_count": 14,
     "metadata": {},
     "output_type": "execute_result"
    },
    {
     "name": "stdout",
     "output_type": "stream",
     "text": [
      "disaggregations for SL_TLF_UEM:\n"
     ]
    },
    {
     "data": {
      "text/plain": [
       "['age_code', 'sex_code']"
      ]
     },
     "execution_count": 14,
     "metadata": {},
     "output_type": "execute_result"
    },
    {
     "name": "stdout",
     "output_type": "stream",
     "text": [
      "disaggregations for SL_TLF_UEMDIS:\n"
     ]
    },
    {
     "data": {
      "text/plain": [
       "['sex_code', 'disabilityStatus_code']"
      ]
     },
     "execution_count": 14,
     "metadata": {},
     "output_type": "execute_result"
    },
    {
     "name": "stdout",
     "output_type": "stream",
     "text": [
      "disaggregations for SL_TLF_NEET:\n"
     ]
    },
    {
     "data": {
      "text/plain": [
       "['age_code', 'sex_code']"
      ]
     },
     "execution_count": 14,
     "metadata": {},
     "output_type": "execute_result"
    },
    {
     "name": "stdout",
     "output_type": "stream",
     "text": [
      "disaggregations for SL_TLF_CHLDEC:\n"
     ]
    },
    {
     "data": {
      "text/plain": [
       "['age_code', 'sex_code']"
      ]
     },
     "execution_count": 14,
     "metadata": {},
     "output_type": "execute_result"
    },
    {
     "name": "stdout",
     "output_type": "stream",
     "text": [
      "disaggregations for SL_TLF_CHLDEA:\n"
     ]
    },
    {
     "data": {
      "text/plain": [
       "['age_code', 'sex_code']"
      ]
     },
     "execution_count": 14,
     "metadata": {},
     "output_type": "execute_result"
    },
    {
     "name": "stdout",
     "output_type": "stream",
     "text": [
      "disaggregations for SL_EMP_FTLINJUR:\n"
     ]
    },
    {
     "data": {
      "text/plain": [
       "['sex_code', 'migratoryStatus_code']"
      ]
     },
     "execution_count": 14,
     "metadata": {},
     "output_type": "execute_result"
    },
    {
     "name": "stdout",
     "output_type": "stream",
     "text": [
      "disaggregations for SL_EMP_INJUR:\n"
     ]
    },
    {
     "data": {
      "text/plain": [
       "['sex_code', 'migratoryStatus_code']"
      ]
     },
     "execution_count": 14,
     "metadata": {},
     "output_type": "execute_result"
    },
    {
     "name": "stdout",
     "output_type": "stream",
     "text": [
      "disaggregations for SL_LBR_NTLCPL:\n"
     ]
    },
    {
     "data": {
      "text/plain": [
       "[]"
      ]
     },
     "execution_count": 14,
     "metadata": {},
     "output_type": "execute_result"
    },
    {
     "name": "stdout",
     "output_type": "stream",
     "text": [
      "disaggregations for ST_GDP_ZS:\n"
     ]
    },
    {
     "data": {
      "text/plain": [
       "[]"
      ]
     },
     "execution_count": 14,
     "metadata": {},
     "output_type": "execute_result"
    },
    {
     "name": "stdout",
     "output_type": "stream",
     "text": [
      "disaggregations for FB_ATM_TOTL:\n"
     ]
    },
    {
     "data": {
      "text/plain": [
       "['observationStatus_code', 'age_code']"
      ]
     },
     "execution_count": 14,
     "metadata": {},
     "output_type": "execute_result"
    },
    {
     "name": "stdout",
     "output_type": "stream",
     "text": [
      "disaggregations for FB_CBK_BRCH:\n"
     ]
    },
    {
     "data": {
      "text/plain": [
       "['observationStatus_code', 'age_code']"
      ]
     },
     "execution_count": 14,
     "metadata": {},
     "output_type": "execute_result"
    },
    {
     "name": "stdout",
     "output_type": "stream",
     "text": [
      "disaggregations for FB_BNK_ACCSS:\n"
     ]
    },
    {
     "data": {
      "text/plain": [
       "['age_code', 'sex_code']"
      ]
     },
     "execution_count": 14,
     "metadata": {},
     "output_type": "execute_result"
    },
    {
     "name": "stdout",
     "output_type": "stream",
     "text": [
      "disaggregations for DC_TOF_TRDCMDL:\n"
     ]
    },
    {
     "data": {
      "text/plain": [
       "[]"
      ]
     },
     "execution_count": 14,
     "metadata": {},
     "output_type": "execute_result"
    },
    {
     "name": "stdout",
     "output_type": "stream",
     "text": [
      "disaggregations for DC_TOF_TRDDBMDL:\n"
     ]
    },
    {
     "data": {
      "text/plain": [
       "[]"
      ]
     },
     "execution_count": 14,
     "metadata": {},
     "output_type": "execute_result"
    },
    {
     "name": "stdout",
     "output_type": "stream",
     "text": [
      "disaggregations for DC_TOF_TRDDBML:\n"
     ]
    },
    {
     "data": {
      "text/plain": [
       "[]"
      ]
     },
     "execution_count": 14,
     "metadata": {},
     "output_type": "execute_result"
    },
    {
     "name": "stdout",
     "output_type": "stream",
     "text": [
      "disaggregations for DC_TOF_TRDCML:\n"
     ]
    },
    {
     "data": {
      "text/plain": [
       "[]"
      ]
     },
     "execution_count": 14,
     "metadata": {},
     "output_type": "execute_result"
    },
    {
     "name": "stdout",
     "output_type": "stream",
     "text": [
      "disaggregations for SL_CPA_YEMP:\n"
     ]
    },
    {
     "data": {
      "text/plain": [
       "[]"
      ]
     },
     "execution_count": 14,
     "metadata": {},
     "output_type": "execute_result"
    },
    {
     "name": "stdout",
     "output_type": "stream",
     "text": [
      "disaggregations for IS_RDP_FRGVOL:\n"
     ]
    },
    {
     "data": {
      "text/plain": [
       "['modeOfTransportation_code']"
      ]
     },
     "execution_count": 14,
     "metadata": {},
     "output_type": "execute_result"
    },
    {
     "name": "stdout",
     "output_type": "stream",
     "text": [
      "disaggregations for IS_RDP_PFVOL:\n"
     ]
    },
    {
     "data": {
      "text/plain": [
       "['modeOfTransportation_code']"
      ]
     },
     "execution_count": 14,
     "metadata": {},
     "output_type": "execute_result"
    },
    {
     "name": "stdout",
     "output_type": "stream",
     "text": [
      "disaggregations for IS_RDP_PORFVOL:\n"
     ]
    },
    {
     "data": {
      "text/plain": [
       "[]"
      ]
     },
     "execution_count": 14,
     "metadata": {},
     "output_type": "execute_result"
    },
    {
     "name": "stdout",
     "output_type": "stream",
     "text": [
      "disaggregations for IS_RDP_LULFRG:\n"
     ]
    },
    {
     "data": {
      "text/plain": [
       "[]"
      ]
     },
     "execution_count": 14,
     "metadata": {},
     "output_type": "execute_result"
    },
    {
     "name": "stdout",
     "output_type": "stream",
     "text": [
      "disaggregations for NV_IND_MANFPC:\n"
     ]
    },
    {
     "data": {
      "text/plain": [
       "[]"
      ]
     },
     "execution_count": 14,
     "metadata": {},
     "output_type": "execute_result"
    },
    {
     "name": "stdout",
     "output_type": "stream",
     "text": [
      "disaggregations for NV_IND_MANF:\n"
     ]
    },
    {
     "data": {
      "text/plain": [
       "[]"
      ]
     },
     "execution_count": 14,
     "metadata": {},
     "output_type": "execute_result"
    },
    {
     "name": "stdout",
     "output_type": "stream",
     "text": [
      "disaggregations for SL_TLF_MANF:\n"
     ]
    },
    {
     "data": {
      "text/plain": [
       "[]"
      ]
     },
     "execution_count": 14,
     "metadata": {},
     "output_type": "execute_result"
    },
    {
     "name": "stdout",
     "output_type": "stream",
     "text": [
      "disaggregations for NV_IND_SSIS:\n"
     ]
    },
    {
     "data": {
      "text/plain": [
       "[]"
      ]
     },
     "execution_count": 14,
     "metadata": {},
     "output_type": "execute_result"
    },
    {
     "name": "stdout",
     "output_type": "stream",
     "text": [
      "disaggregations for FC_ACC_SSID:\n"
     ]
    },
    {
     "data": {
      "text/plain": [
       "[]"
      ]
     },
     "execution_count": 14,
     "metadata": {},
     "output_type": "execute_result"
    },
    {
     "name": "stdout",
     "output_type": "stream",
     "text": [
      "disaggregations for EN_ATM_CO2:\n"
     ]
    },
    {
     "data": {
      "text/plain": [
       "[]"
      ]
     },
     "execution_count": 14,
     "metadata": {},
     "output_type": "execute_result"
    },
    {
     "name": "stdout",
     "output_type": "stream",
     "text": [
      "disaggregations for EN_ATM_CO2MVA:\n"
     ]
    },
    {
     "data": {
      "text/plain": [
       "[]"
      ]
     },
     "execution_count": 14,
     "metadata": {},
     "output_type": "execute_result"
    },
    {
     "name": "stdout",
     "output_type": "stream",
     "text": [
      "disaggregations for EN_ATM_CO2GDP:\n"
     ]
    },
    {
     "data": {
      "text/plain": [
       "[]"
      ]
     },
     "execution_count": 14,
     "metadata": {},
     "output_type": "execute_result"
    },
    {
     "name": "stdout",
     "output_type": "stream",
     "text": [
      "disaggregations for GB_XPD_RSDV:\n"
     ]
    },
    {
     "data": {
      "text/plain": [
       "[]"
      ]
     },
     "execution_count": 14,
     "metadata": {},
     "output_type": "execute_result"
    },
    {
     "name": "stdout",
     "output_type": "stream",
     "text": [
      "disaggregations for GB_POP_SCIERD:\n"
     ]
    },
    {
     "data": {
      "text/plain": [
       "[]"
      ]
     },
     "execution_count": 14,
     "metadata": {},
     "output_type": "execute_result"
    },
    {
     "name": "stdout",
     "output_type": "stream",
     "text": [
      "disaggregations for DC_TOF_INFRAL:\n"
     ]
    },
    {
     "data": {
      "text/plain": [
       "[]"
      ]
     },
     "execution_count": 14,
     "metadata": {},
     "output_type": "execute_result"
    },
    {
     "name": "stdout",
     "output_type": "stream",
     "text": [
      "disaggregations for NV_IND_TECH:\n"
     ]
    },
    {
     "data": {
      "text/plain": [
       "[]"
      ]
     },
     "execution_count": 14,
     "metadata": {},
     "output_type": "execute_result"
    },
    {
     "name": "stdout",
     "output_type": "stream",
     "text": [
      "disaggregations for IT_MOB_2GNTWK:\n"
     ]
    },
    {
     "data": {
      "text/plain": [
       "[]"
      ]
     },
     "execution_count": 14,
     "metadata": {},
     "output_type": "execute_result"
    },
    {
     "name": "stdout",
     "output_type": "stream",
     "text": [
      "disaggregations for IT_MOB_3GNTWK:\n"
     ]
    },
    {
     "data": {
      "text/plain": [
       "[]"
      ]
     },
     "execution_count": 14,
     "metadata": {},
     "output_type": "execute_result"
    },
    {
     "name": "stdout",
     "output_type": "stream",
     "text": [
      "disaggregations for IT_MOB_4GNTWK:\n"
     ]
    },
    {
     "data": {
      "text/plain": [
       "[]"
      ]
     },
     "execution_count": 14,
     "metadata": {},
     "output_type": "execute_result"
    },
    {
     "name": "stdout",
     "output_type": "stream",
     "text": [
      "disaggregations for SI_HEI_TOTL:\n"
     ]
    },
    {
     "data": {
      "text/plain": [
       "['quantile_code']"
      ]
     },
     "execution_count": 14,
     "metadata": {},
     "output_type": "execute_result"
    },
    {
     "name": "stdout",
     "output_type": "stream",
     "text": [
      "disaggregations for SL_EMP_GTOTL:\n"
     ]
    },
    {
     "data": {
      "text/plain": [
       "[]"
      ]
     },
     "execution_count": 14,
     "metadata": {},
     "output_type": "execute_result"
    },
    {
     "name": "stdout",
     "output_type": "stream",
     "text": [
      "disaggregations for FI_FSI_FSANL:\n"
     ]
    },
    {
     "data": {
      "text/plain": [
       "['observationStatus_code']"
      ]
     },
     "execution_count": 14,
     "metadata": {},
     "output_type": "execute_result"
    },
    {
     "name": "stdout",
     "output_type": "stream",
     "text": [
      "disaggregations for FI_FSI_FSERA:\n"
     ]
    },
    {
     "data": {
      "text/plain": [
       "['observationStatus_code']"
      ]
     },
     "execution_count": 14,
     "metadata": {},
     "output_type": "execute_result"
    },
    {
     "name": "stdout",
     "output_type": "stream",
     "text": [
      "disaggregations for FI_FSI_FSKA:\n"
     ]
    },
    {
     "data": {
      "text/plain": [
       "['observationStatus_code']"
      ]
     },
     "execution_count": 14,
     "metadata": {},
     "output_type": "execute_result"
    },
    {
     "name": "stdout",
     "output_type": "stream",
     "text": [
      "disaggregations for FI_FSI_FSKNL:\n"
     ]
    },
    {
     "data": {
      "text/plain": [
       "['observationStatus_code']"
      ]
     },
     "execution_count": 14,
     "metadata": {},
     "output_type": "execute_result"
    },
    {
     "name": "stdout",
     "output_type": "stream",
     "text": [
      "disaggregations for FI_FSI_FSKRTC:\n"
     ]
    },
    {
     "data": {
      "text/plain": [
       "['observationStatus_code']"
      ]
     },
     "execution_count": 14,
     "metadata": {},
     "output_type": "execute_result"
    },
    {
     "name": "stdout",
     "output_type": "stream",
     "text": [
      "disaggregations for FI_FSI_FSLS:\n"
     ]
    },
    {
     "data": {
      "text/plain": [
       "['observationStatus_code']"
      ]
     },
     "execution_count": 14,
     "metadata": {},
     "output_type": "execute_result"
    },
    {
     "name": "stdout",
     "output_type": "stream",
     "text": [
      "disaggregations for FI_FSI_FSSNO:\n"
     ]
    },
    {
     "data": {
      "text/plain": [
       "['observationStatus_code']"
      ]
     },
     "execution_count": 14,
     "metadata": {},
     "output_type": "execute_result"
    },
    {
     "name": "stdout",
     "output_type": "stream",
     "text": [
      "disaggregations for SG_INT_MBRDEV:\n"
     ]
    },
    {
     "data": {
      "text/plain": [
       "['nameOfInternationalInstitution_code']"
      ]
     },
     "execution_count": 14,
     "metadata": {},
     "output_type": "execute_result"
    },
    {
     "name": "stdout",
     "output_type": "stream",
     "text": [
      "disaggregations for SG_INT_VRTDEV:\n"
     ]
    },
    {
     "data": {
      "text/plain": [
       "['nameOfInternationalInstitution_code']"
      ]
     },
     "execution_count": 14,
     "metadata": {},
     "output_type": "execute_result"
    },
    {
     "name": "stdout",
     "output_type": "stream",
     "text": [
      "disaggregations for SG_CPA_MIGR:\n"
     ]
    },
    {
     "data": {
      "text/plain": [
       "['policyDomains_code']"
      ]
     },
     "execution_count": 14,
     "metadata": {},
     "output_type": "execute_result"
    },
    {
     "name": "stdout",
     "output_type": "stream",
     "text": [
      "disaggregations for SG_CPA_MIGRP:\n"
     ]
    },
    {
     "data": {
      "text/plain": [
       "['policyDomains_code']"
      ]
     },
     "execution_count": 14,
     "metadata": {},
     "output_type": "execute_result"
    },
    {
     "name": "stdout",
     "output_type": "stream",
     "text": [
      "disaggregations for TM_TRF_ZERO:\n"
     ]
    },
    {
     "data": {
      "text/plain": [
       "['typeOfProduct_code']"
      ]
     },
     "execution_count": 14,
     "metadata": {},
     "output_type": "execute_result"
    },
    {
     "name": "stdout",
     "output_type": "stream",
     "text": [
      "disaggregations for DC_TRF_TOTDL:\n"
     ]
    },
    {
     "data": {
      "text/plain": [
       "[]"
      ]
     },
     "execution_count": 14,
     "metadata": {},
     "output_type": "execute_result"
    },
    {
     "name": "stdout",
     "output_type": "stream",
     "text": [
      "disaggregations for DC_TRF_TOTL:\n"
     ]
    },
    {
     "data": {
      "text/plain": [
       "[]"
      ]
     },
     "execution_count": 14,
     "metadata": {},
     "output_type": "execute_result"
    },
    {
     "name": "stdout",
     "output_type": "stream",
     "text": [
      "disaggregations for DC_TRF_TFDV:\n"
     ]
    },
    {
     "data": {
      "text/plain": [
       "[]"
      ]
     },
     "execution_count": 14,
     "metadata": {},
     "output_type": "execute_result"
    },
    {
     "name": "stdout",
     "output_type": "stream",
     "text": [
      "disaggregations for SI_RMT_COST:\n"
     ]
    },
    {
     "data": {
      "text/plain": [
       "[]"
      ]
     },
     "execution_count": 14,
     "metadata": {},
     "output_type": "execute_result"
    },
    {
     "name": "stdout",
     "output_type": "stream",
     "text": [
      "disaggregations for EN_LND_SLUM:\n"
     ]
    },
    {
     "data": {
      "text/plain": [
       "[]"
      ]
     },
     "execution_count": 14,
     "metadata": {},
     "output_type": "execute_result"
    },
    {
     "name": "stdout",
     "output_type": "stream",
     "text": [
      "disaggregations for VC_DSR_MISS:\n"
     ]
    },
    {
     "data": {
      "text/plain": [
       "[]"
      ]
     },
     "execution_count": 14,
     "metadata": {},
     "output_type": "execute_result"
    },
    {
     "name": "stdout",
     "output_type": "stream",
     "text": [
      "disaggregations for VC_DSR_AFFCT:\n"
     ]
    },
    {
     "data": {
      "text/plain": [
       "[]"
      ]
     },
     "execution_count": 14,
     "metadata": {},
     "output_type": "execute_result"
    },
    {
     "name": "stdout",
     "output_type": "stream",
     "text": [
      "disaggregations for VC_DSR_MORT:\n"
     ]
    },
    {
     "data": {
      "text/plain": [
       "[]"
      ]
     },
     "execution_count": 14,
     "metadata": {},
     "output_type": "execute_result"
    },
    {
     "name": "stdout",
     "output_type": "stream",
     "text": [
      "disaggregations for VC_DSR_MTMP:\n"
     ]
    },
    {
     "data": {
      "text/plain": [
       "[]"
      ]
     },
     "execution_count": 14,
     "metadata": {},
     "output_type": "execute_result"
    },
    {
     "name": "stdout",
     "output_type": "stream",
     "text": [
      "disaggregations for VC_DSR_MTMN:\n"
     ]
    },
    {
     "data": {
      "text/plain": [
       "[]"
      ]
     },
     "execution_count": 14,
     "metadata": {},
     "output_type": "execute_result"
    },
    {
     "name": "stdout",
     "output_type": "stream",
     "text": [
      "disaggregations for VC_DSR_DAFF:\n"
     ]
    },
    {
     "data": {
      "text/plain": [
       "[]"
      ]
     },
     "execution_count": 14,
     "metadata": {},
     "output_type": "execute_result"
    },
    {
     "name": "stdout",
     "output_type": "stream",
     "text": [
      "disaggregations for VC_DSR_IJILN:\n"
     ]
    },
    {
     "data": {
      "text/plain": [
       "[]"
      ]
     },
     "execution_count": 14,
     "metadata": {},
     "output_type": "execute_result"
    },
    {
     "name": "stdout",
     "output_type": "stream",
     "text": [
      "disaggregations for VC_DSR_PDAN:\n"
     ]
    },
    {
     "data": {
      "text/plain": [
       "[]"
      ]
     },
     "execution_count": 14,
     "metadata": {},
     "output_type": "execute_result"
    },
    {
     "name": "stdout",
     "output_type": "stream",
     "text": [
      "disaggregations for VC_DSR_PDYN:\n"
     ]
    },
    {
     "data": {
      "text/plain": [
       "[]"
      ]
     },
     "execution_count": 14,
     "metadata": {},
     "output_type": "execute_result"
    },
    {
     "name": "stdout",
     "output_type": "stream",
     "text": [
      "disaggregations for VC_DSR_PDLN:\n"
     ]
    },
    {
     "data": {
      "text/plain": [
       "[]"
      ]
     },
     "execution_count": 14,
     "metadata": {},
     "output_type": "execute_result"
    },
    {
     "name": "stdout",
     "output_type": "stream",
     "text": [
      "disaggregations for VC_DSR_GDPLS:\n"
     ]
    },
    {
     "data": {
      "text/plain": [
       "[]"
      ]
     },
     "execution_count": 14,
     "metadata": {},
     "output_type": "execute_result"
    },
    {
     "name": "stdout",
     "output_type": "stream",
     "text": [
      "disaggregations for VC_DSR_LSGP:\n"
     ]
    },
    {
     "data": {
      "text/plain": [
       "[]"
      ]
     },
     "execution_count": 14,
     "metadata": {},
     "output_type": "execute_result"
    },
    {
     "name": "stdout",
     "output_type": "stream",
     "text": [
      "disaggregations for VC_DSR_AGLN:\n"
     ]
    },
    {
     "data": {
      "text/plain": [
       "[]"
      ]
     },
     "execution_count": 14,
     "metadata": {},
     "output_type": "execute_result"
    },
    {
     "name": "stdout",
     "output_type": "stream",
     "text": [
      "disaggregations for VC_DSR_HOLN:\n"
     ]
    },
    {
     "data": {
      "text/plain": [
       "[]"
      ]
     },
     "execution_count": 14,
     "metadata": {},
     "output_type": "execute_result"
    },
    {
     "name": "stdout",
     "output_type": "stream",
     "text": [
      "disaggregations for VC_DSR_CILN:\n"
     ]
    },
    {
     "data": {
      "text/plain": [
       "[]"
      ]
     },
     "execution_count": 14,
     "metadata": {},
     "output_type": "execute_result"
    },
    {
     "name": "stdout",
     "output_type": "stream",
     "text": [
      "disaggregations for VC_DSR_CHLN:\n"
     ]
    },
    {
     "data": {
      "text/plain": [
       "[]"
      ]
     },
     "execution_count": 14,
     "metadata": {},
     "output_type": "execute_result"
    },
    {
     "name": "stdout",
     "output_type": "stream",
     "text": [
      "disaggregations for VC_DSR_CDAN:\n"
     ]
    },
    {
     "data": {
      "text/plain": [
       "[]"
      ]
     },
     "execution_count": 14,
     "metadata": {},
     "output_type": "execute_result"
    },
    {
     "name": "stdout",
     "output_type": "stream",
     "text": [
      "disaggregations for VC_DSR_HFDN:\n"
     ]
    },
    {
     "data": {
      "text/plain": [
       "[]"
      ]
     },
     "execution_count": 14,
     "metadata": {},
     "output_type": "execute_result"
    },
    {
     "name": "stdout",
     "output_type": "stream",
     "text": [
      "disaggregations for VC_DSR_EFDN:\n"
     ]
    },
    {
     "data": {
      "text/plain": [
       "[]"
      ]
     },
     "execution_count": 14,
     "metadata": {},
     "output_type": "execute_result"
    },
    {
     "name": "stdout",
     "output_type": "stream",
     "text": [
      "disaggregations for VC_DSR_CDYN:\n"
     ]
    },
    {
     "data": {
      "text/plain": [
       "[]"
      ]
     },
     "execution_count": 14,
     "metadata": {},
     "output_type": "execute_result"
    },
    {
     "name": "stdout",
     "output_type": "stream",
     "text": [
      "disaggregations for VC_DSR_BSDN:\n"
     ]
    },
    {
     "data": {
      "text/plain": [
       "[]"
      ]
     },
     "execution_count": 14,
     "metadata": {},
     "output_type": "execute_result"
    },
    {
     "name": "stdout",
     "output_type": "stream",
     "text": [
      "disaggregations for VC_DSR_ESDN:\n"
     ]
    },
    {
     "data": {
      "text/plain": [
       "[]"
      ]
     },
     "execution_count": 14,
     "metadata": {},
     "output_type": "execute_result"
    },
    {
     "name": "stdout",
     "output_type": "stream",
     "text": [
      "disaggregations for VC_DSR_HSDN:\n"
     ]
    },
    {
     "data": {
      "text/plain": [
       "[]"
      ]
     },
     "execution_count": 14,
     "metadata": {},
     "output_type": "execute_result"
    },
    {
     "name": "stdout",
     "output_type": "stream",
     "text": [
      "disaggregations for VC_DSR_OBDN:\n"
     ]
    },
    {
     "data": {
      "text/plain": [
       "[]"
      ]
     },
     "execution_count": 14,
     "metadata": {},
     "output_type": "execute_result"
    },
    {
     "name": "stdout",
     "output_type": "stream",
     "text": [
      "disaggregations for VC_DSR_DDPA:\n"
     ]
    },
    {
     "data": {
      "text/plain": [
       "[]"
      ]
     },
     "execution_count": 14,
     "metadata": {},
     "output_type": "execute_result"
    },
    {
     "name": "stdout",
     "output_type": "stream",
     "text": [
      "disaggregations for EN_REF_WASCOL:\n"
     ]
    },
    {
     "data": {
      "text/plain": [
       "['cities_code']"
      ]
     },
     "execution_count": 14,
     "metadata": {},
     "output_type": "execute_result"
    },
    {
     "name": "stdout",
     "output_type": "stream",
     "text": [
      "disaggregations for EN_ATM_PM25:\n"
     ]
    },
    {
     "data": {
      "text/plain": [
       "['location_code']"
      ]
     },
     "execution_count": 14,
     "metadata": {},
     "output_type": "execute_result"
    },
    {
     "name": "stdout",
     "output_type": "stream",
     "text": [
      "disaggregations for SG_DSR_LGRGSR:\n"
     ]
    },
    {
     "data": {
      "text/plain": [
       "[]"
      ]
     },
     "execution_count": 14,
     "metadata": {},
     "output_type": "execute_result"
    },
    {
     "name": "stdout",
     "output_type": "stream",
     "text": [
      "disaggregations for SG_DSR_SILS:\n"
     ]
    },
    {
     "data": {
      "text/plain": [
       "[]"
      ]
     },
     "execution_count": 14,
     "metadata": {},
     "output_type": "execute_result"
    },
    {
     "name": "stdout",
     "output_type": "stream",
     "text": [
      "disaggregations for SG_DSR_SILN:\n"
     ]
    },
    {
     "data": {
      "text/plain": [
       "[]"
      ]
     },
     "execution_count": 14,
     "metadata": {},
     "output_type": "execute_result"
    },
    {
     "name": "stdout",
     "output_type": "stream",
     "text": [
      "disaggregations for SG_GOV_LOGV:\n"
     ]
    },
    {
     "data": {
      "text/plain": [
       "[]"
      ]
     },
     "execution_count": 14,
     "metadata": {},
     "output_type": "execute_result"
    },
    {
     "name": "stdout",
     "output_type": "stream",
     "text": [
      "disaggregations for SG_SCP_CNTRY:\n"
     ]
    },
    {
     "data": {
      "text/plain": [
       "[]"
      ]
     },
     "execution_count": 14,
     "metadata": {},
     "output_type": "execute_result"
    },
    {
     "name": "stdout",
     "output_type": "stream",
     "text": [
      "disaggregations for SG_SCP_CORMEC:\n"
     ]
    },
    {
     "data": {
      "text/plain": [
       "[]"
      ]
     },
     "execution_count": 14,
     "metadata": {},
     "output_type": "execute_result"
    },
    {
     "name": "stdout",
     "output_type": "stream",
     "text": [
      "disaggregations for SG_SCP_POLINS:\n"
     ]
    },
    {
     "data": {
      "text/plain": [
       "['policyInstruments_code']"
      ]
     },
     "execution_count": 14,
     "metadata": {},
     "output_type": "execute_result"
    },
    {
     "name": "stdout",
     "output_type": "stream",
     "text": [
      "disaggregations for SG_SCP_OTHER:\n"
     ]
    },
    {
     "data": {
      "text/plain": [
       "[]"
      ]
     },
     "execution_count": 14,
     "metadata": {},
     "output_type": "execute_result"
    },
    {
     "name": "stdout",
     "output_type": "stream",
     "text": [
      "disaggregations for SG_SCP_TOTL:\n"
     ]
    },
    {
     "data": {
      "text/plain": [
       "[]"
      ]
     },
     "execution_count": 14,
     "metadata": {},
     "output_type": "execute_result"
    },
    {
     "name": "stdout",
     "output_type": "stream",
     "text": [
      "disaggregations for EN_MAT_FTPRPG:\n"
     ]
    },
    {
     "data": {
      "text/plain": [
       "['typeOfProduct_code']"
      ]
     },
     "execution_count": 14,
     "metadata": {},
     "output_type": "execute_result"
    },
    {
     "name": "stdout",
     "output_type": "stream",
     "text": [
      "disaggregations for EN_MAT_FTPRPC:\n"
     ]
    },
    {
     "data": {
      "text/plain": [
       "['typeOfProduct_code']"
      ]
     },
     "execution_count": 14,
     "metadata": {},
     "output_type": "execute_result"
    },
    {
     "name": "stdout",
     "output_type": "stream",
     "text": [
      "disaggregations for EN_MAT_FTPRTN:\n"
     ]
    },
    {
     "data": {
      "text/plain": [
       "['typeOfProduct_code']"
      ]
     },
     "execution_count": 14,
     "metadata": {},
     "output_type": "execute_result"
    },
    {
     "name": "stdout",
     "output_type": "stream",
     "text": [
      "disaggregations for EN_MAT_DOMCMPT:\n"
     ]
    },
    {
     "data": {
      "text/plain": [
       "['typeOfProduct_code']"
      ]
     },
     "execution_count": 14,
     "metadata": {},
     "output_type": "execute_result"
    },
    {
     "name": "stdout",
     "output_type": "stream",
     "text": [
      "disaggregations for EN_MAT_DOMCMPG:\n"
     ]
    },
    {
     "data": {
      "text/plain": [
       "['typeOfProduct_code']"
      ]
     },
     "execution_count": 14,
     "metadata": {},
     "output_type": "execute_result"
    },
    {
     "name": "stdout",
     "output_type": "stream",
     "text": [
      "disaggregations for EN_MAT_DOMCMPC:\n"
     ]
    },
    {
     "data": {
      "text/plain": [
       "['typeOfProduct_code']"
      ]
     },
     "execution_count": 14,
     "metadata": {},
     "output_type": "execute_result"
    },
    {
     "name": "stdout",
     "output_type": "stream",
     "text": [
      "disaggregations for AG_FLS_IDX:\n"
     ]
    },
    {
     "data": {
      "text/plain": [
       "[]"
      ]
     },
     "execution_count": 14,
     "metadata": {},
     "output_type": "execute_result"
    },
    {
     "name": "stdout",
     "output_type": "stream",
     "text": [
      "disaggregations for SG_HAZ_CMRMNTRL:\n"
     ]
    },
    {
     "data": {
      "text/plain": [
       "[]"
      ]
     },
     "execution_count": 14,
     "metadata": {},
     "output_type": "execute_result"
    },
    {
     "name": "stdout",
     "output_type": "stream",
     "text": [
      "disaggregations for SG_HAZ_CMRROTDAM:\n"
     ]
    },
    {
     "data": {
      "text/plain": [
       "[]"
      ]
     },
     "execution_count": 14,
     "metadata": {},
     "output_type": "execute_result"
    },
    {
     "name": "stdout",
     "output_type": "stream",
     "text": [
      "disaggregations for SG_HAZ_CMRBASEL:\n"
     ]
    },
    {
     "data": {
      "text/plain": [
       "[]"
      ]
     },
     "execution_count": 14,
     "metadata": {},
     "output_type": "execute_result"
    },
    {
     "name": "stdout",
     "output_type": "stream",
     "text": [
      "disaggregations for SG_HAZ_CMRSTHOLM:\n"
     ]
    },
    {
     "data": {
      "text/plain": [
       "[]"
      ]
     },
     "execution_count": 14,
     "metadata": {},
     "output_type": "execute_result"
    },
    {
     "name": "stdout",
     "output_type": "stream",
     "text": [
      "disaggregations for SG_HAZ_CMRMNMT:\n"
     ]
    },
    {
     "data": {
      "text/plain": [
       "[]"
      ]
     },
     "execution_count": 14,
     "metadata": {},
     "output_type": "execute_result"
    },
    {
     "name": "stdout",
     "output_type": "stream",
     "text": [
      "disaggregations for EN_EWT_GENV:\n"
     ]
    },
    {
     "data": {
      "text/plain": [
       "[]"
      ]
     },
     "execution_count": 14,
     "metadata": {},
     "output_type": "execute_result"
    },
    {
     "name": "stdout",
     "output_type": "stream",
     "text": [
      "disaggregations for EN_EWT_GENPCAP:\n"
     ]
    },
    {
     "data": {
      "text/plain": [
       "[]"
      ]
     },
     "execution_count": 14,
     "metadata": {},
     "output_type": "execute_result"
    },
    {
     "name": "stdout",
     "output_type": "stream",
     "text": [
      "disaggregations for EN_EWT_RCYV:\n"
     ]
    },
    {
     "data": {
      "text/plain": [
       "[]"
      ]
     },
     "execution_count": 14,
     "metadata": {},
     "output_type": "execute_result"
    },
    {
     "name": "stdout",
     "output_type": "stream",
     "text": [
      "disaggregations for EN_EWT_RCYR:\n"
     ]
    },
    {
     "data": {
      "text/plain": [
       "[]"
      ]
     },
     "execution_count": 14,
     "metadata": {},
     "output_type": "execute_result"
    },
    {
     "name": "stdout",
     "output_type": "stream",
     "text": [
      "disaggregations for EN_EWT_RCYPCAP:\n"
     ]
    },
    {
     "data": {
      "text/plain": [
       "[]"
      ]
     },
     "execution_count": 14,
     "metadata": {},
     "output_type": "execute_result"
    },
    {
     "name": "stdout",
     "output_type": "stream",
     "text": [
      "disaggregations for EN_HAZ_GENV:\n"
     ]
    },
    {
     "data": {
      "text/plain": [
       "[]"
      ]
     },
     "execution_count": 14,
     "metadata": {},
     "output_type": "execute_result"
    },
    {
     "name": "stdout",
     "output_type": "stream",
     "text": [
      "disaggregations for EN_HAZ_PCAP:\n"
     ]
    },
    {
     "data": {
      "text/plain": [
       "[]"
      ]
     },
     "execution_count": 14,
     "metadata": {},
     "output_type": "execute_result"
    },
    {
     "name": "stdout",
     "output_type": "stream",
     "text": [
      "disaggregations for EN_HAZ_GENGDP:\n"
     ]
    },
    {
     "data": {
      "text/plain": [
       "[]"
      ]
     },
     "execution_count": 14,
     "metadata": {},
     "output_type": "execute_result"
    },
    {
     "name": "stdout",
     "output_type": "stream",
     "text": [
      "disaggregations for EN_HAZ_TREATV:\n"
     ]
    },
    {
     "data": {
      "text/plain": [
       "['typeOfWasteTreatment_code']"
      ]
     },
     "execution_count": 14,
     "metadata": {},
     "output_type": "execute_result"
    },
    {
     "name": "stdout",
     "output_type": "stream",
     "text": [
      "disaggregations for EN_HAZ_TRTDISR:\n"
     ]
    },
    {
     "data": {
      "text/plain": [
       "[]"
      ]
     },
     "execution_count": 14,
     "metadata": {},
     "output_type": "execute_result"
    },
    {
     "name": "stdout",
     "output_type": "stream",
     "text": [
      "disaggregations for EN_HAZ_TRTDISV:\n"
     ]
    },
    {
     "data": {
      "text/plain": [
       "[]"
      ]
     },
     "execution_count": 14,
     "metadata": {},
     "output_type": "execute_result"
    },
    {
     "name": "stdout",
     "output_type": "stream",
     "text": [
      "disaggregations for EN_EWT_RCYV:\n"
     ]
    },
    {
     "data": {
      "text/plain": [
       "[]"
      ]
     },
     "execution_count": 14,
     "metadata": {},
     "output_type": "execute_result"
    },
    {
     "name": "stdout",
     "output_type": "stream",
     "text": [
      "disaggregations for EN_EWT_RCYR:\n"
     ]
    },
    {
     "data": {
      "text/plain": [
       "[]"
      ]
     },
     "execution_count": 14,
     "metadata": {},
     "output_type": "execute_result"
    },
    {
     "name": "stdout",
     "output_type": "stream",
     "text": [
      "disaggregations for EN_EWT_RCYPCAP:\n"
     ]
    },
    {
     "data": {
      "text/plain": [
       "[]"
      ]
     },
     "execution_count": 14,
     "metadata": {},
     "output_type": "execute_result"
    },
    {
     "name": "stdout",
     "output_type": "stream",
     "text": [
      "disaggregations for ST_EEV_STDACCT:\n"
     ]
    },
    {
     "data": {
      "text/plain": [
       "[]"
      ]
     },
     "execution_count": 14,
     "metadata": {},
     "output_type": "execute_result"
    },
    {
     "name": "stdout",
     "output_type": "stream",
     "text": [
      "disaggregations for ST_EEV_ACCSEEA:\n"
     ]
    },
    {
     "data": {
      "text/plain": [
       "[]"
      ]
     },
     "execution_count": 14,
     "metadata": {},
     "output_type": "execute_result"
    },
    {
     "name": "stdout",
     "output_type": "stream",
     "text": [
      "disaggregations for ST_EEV_ACCTSA:\n"
     ]
    },
    {
     "data": {
      "text/plain": [
       "[]"
      ]
     },
     "execution_count": 14,
     "metadata": {},
     "output_type": "execute_result"
    },
    {
     "name": "stdout",
     "output_type": "stream",
     "text": [
      "disaggregations for ER_FFS_PRTSST:\n"
     ]
    },
    {
     "data": {
      "text/plain": [
       "[]"
      ]
     },
     "execution_count": 14,
     "metadata": {},
     "output_type": "execute_result"
    },
    {
     "name": "stdout",
     "output_type": "stream",
     "text": [
      "disaggregations for ER_FFS_PRTSPC:\n"
     ]
    },
    {
     "data": {
      "text/plain": [
       "[]"
      ]
     },
     "execution_count": 14,
     "metadata": {},
     "output_type": "execute_result"
    },
    {
     "name": "stdout",
     "output_type": "stream",
     "text": [
      "disaggregations for ER_FFS_PRTSPR:\n"
     ]
    },
    {
     "data": {
      "text/plain": [
       "[]"
      ]
     },
     "execution_count": 14,
     "metadata": {},
     "output_type": "execute_result"
    },
    {
     "name": "stdout",
     "output_type": "stream",
     "text": [
      "disaggregations for VC_DSR_MISS:\n"
     ]
    },
    {
     "data": {
      "text/plain": [
       "[]"
      ]
     },
     "execution_count": 14,
     "metadata": {},
     "output_type": "execute_result"
    },
    {
     "name": "stdout",
     "output_type": "stream",
     "text": [
      "disaggregations for VC_DSR_AFFCT:\n"
     ]
    },
    {
     "data": {
      "text/plain": [
       "[]"
      ]
     },
     "execution_count": 14,
     "metadata": {},
     "output_type": "execute_result"
    },
    {
     "name": "stdout",
     "output_type": "stream",
     "text": [
      "disaggregations for VC_DSR_MORT:\n"
     ]
    },
    {
     "data": {
      "text/plain": [
       "[]"
      ]
     },
     "execution_count": 14,
     "metadata": {},
     "output_type": "execute_result"
    },
    {
     "name": "stdout",
     "output_type": "stream",
     "text": [
      "disaggregations for VC_DSR_MTMP:\n"
     ]
    },
    {
     "data": {
      "text/plain": [
       "[]"
      ]
     },
     "execution_count": 14,
     "metadata": {},
     "output_type": "execute_result"
    },
    {
     "name": "stdout",
     "output_type": "stream",
     "text": [
      "disaggregations for VC_DSR_MTMN:\n"
     ]
    },
    {
     "data": {
      "text/plain": [
       "[]"
      ]
     },
     "execution_count": 14,
     "metadata": {},
     "output_type": "execute_result"
    },
    {
     "name": "stdout",
     "output_type": "stream",
     "text": [
      "disaggregations for VC_DSR_DAFF:\n"
     ]
    },
    {
     "data": {
      "text/plain": [
       "[]"
      ]
     },
     "execution_count": 14,
     "metadata": {},
     "output_type": "execute_result"
    },
    {
     "name": "stdout",
     "output_type": "stream",
     "text": [
      "disaggregations for VC_DSR_IJILN:\n"
     ]
    },
    {
     "data": {
      "text/plain": [
       "[]"
      ]
     },
     "execution_count": 14,
     "metadata": {},
     "output_type": "execute_result"
    },
    {
     "name": "stdout",
     "output_type": "stream",
     "text": [
      "disaggregations for VC_DSR_PDAN:\n"
     ]
    },
    {
     "data": {
      "text/plain": [
       "[]"
      ]
     },
     "execution_count": 14,
     "metadata": {},
     "output_type": "execute_result"
    },
    {
     "name": "stdout",
     "output_type": "stream",
     "text": [
      "disaggregations for VC_DSR_PDYN:\n"
     ]
    },
    {
     "data": {
      "text/plain": [
       "[]"
      ]
     },
     "execution_count": 14,
     "metadata": {},
     "output_type": "execute_result"
    },
    {
     "name": "stdout",
     "output_type": "stream",
     "text": [
      "disaggregations for VC_DSR_PDLN:\n"
     ]
    },
    {
     "data": {
      "text/plain": [
       "[]"
      ]
     },
     "execution_count": 14,
     "metadata": {},
     "output_type": "execute_result"
    },
    {
     "name": "stdout",
     "output_type": "stream",
     "text": [
      "disaggregations for SG_DSR_LGRGSR:\n"
     ]
    },
    {
     "data": {
      "text/plain": [
       "[]"
      ]
     },
     "execution_count": 14,
     "metadata": {},
     "output_type": "execute_result"
    },
    {
     "name": "stdout",
     "output_type": "stream",
     "text": [
      "disaggregations for SG_DSR_SILS:\n"
     ]
    },
    {
     "data": {
      "text/plain": [
       "[]"
      ]
     },
     "execution_count": 14,
     "metadata": {},
     "output_type": "execute_result"
    },
    {
     "name": "stdout",
     "output_type": "stream",
     "text": [
      "disaggregations for SG_DSR_SILN:\n"
     ]
    },
    {
     "data": {
      "text/plain": [
       "[]"
      ]
     },
     "execution_count": 14,
     "metadata": {},
     "output_type": "execute_result"
    },
    {
     "name": "stdout",
     "output_type": "stream",
     "text": [
      "disaggregations for SG_GOV_LOGV:\n"
     ]
    },
    {
     "data": {
      "text/plain": [
       "[]"
      ]
     },
     "execution_count": 14,
     "metadata": {},
     "output_type": "execute_result"
    },
    {
     "name": "stdout",
     "output_type": "stream",
     "text": [
      "disaggregations for ER_OAW_MNACD:\n"
     ]
    },
    {
     "data": {
      "text/plain": [
       "['samplingStations_code']"
      ]
     },
     "execution_count": 14,
     "metadata": {},
     "output_type": "execute_result"
    },
    {
     "name": "stdout",
     "output_type": "stream",
     "text": [
      "disaggregations for ER_H2O_FWTL:\n"
     ]
    },
    {
     "data": {
      "text/plain": [
       "[]"
      ]
     },
     "execution_count": 14,
     "metadata": {},
     "output_type": "execute_result"
    },
    {
     "name": "stdout",
     "output_type": "stream",
     "text": [
      "disaggregations for ER_MRN_MARINT:\n"
     ]
    },
    {
     "data": {
      "text/plain": [
       "[]"
      ]
     },
     "execution_count": 14,
     "metadata": {},
     "output_type": "execute_result"
    },
    {
     "name": "stdout",
     "output_type": "stream",
     "text": [
      "disaggregations for ER_MRN_MARIN:\n"
     ]
    },
    {
     "data": {
      "text/plain": [
       "[]"
      ]
     },
     "execution_count": 14,
     "metadata": {},
     "output_type": "execute_result"
    },
    {
     "name": "stdout",
     "output_type": "stream",
     "text": [
      "disaggregations for ER_MRN_MPA:\n"
     ]
    },
    {
     "data": {
      "text/plain": [
       "[]"
      ]
     },
     "execution_count": 14,
     "metadata": {},
     "output_type": "execute_result"
    },
    {
     "name": "stdout",
     "output_type": "stream",
     "text": [
      "disaggregations for ER_REG_UNFCIM:\n"
     ]
    },
    {
     "data": {
      "text/plain": [
       "[]"
      ]
     },
     "execution_count": 14,
     "metadata": {},
     "output_type": "execute_result"
    },
    {
     "name": "stdout",
     "output_type": "stream",
     "text": [
      "disaggregations for ER_RDE_OSEX:\n"
     ]
    },
    {
     "data": {
      "text/plain": [
       "[]"
      ]
     },
     "execution_count": 14,
     "metadata": {},
     "output_type": "execute_result"
    },
    {
     "name": "stdout",
     "output_type": "stream",
     "text": [
      "disaggregations for ER_REG_SSFRAR:\n"
     ]
    },
    {
     "data": {
      "text/plain": [
       "[]"
      ]
     },
     "execution_count": 14,
     "metadata": {},
     "output_type": "execute_result"
    },
    {
     "name": "stdout",
     "output_type": "stream",
     "text": [
      "disaggregations for AG_LND_TOTL:\n"
     ]
    },
    {
     "data": {
      "text/plain": [
       "[]"
      ]
     },
     "execution_count": 14,
     "metadata": {},
     "output_type": "execute_result"
    },
    {
     "name": "stdout",
     "output_type": "stream",
     "text": [
      "disaggregations for AG_LND_FRSTN:\n"
     ]
    },
    {
     "data": {
      "text/plain": [
       "[]"
      ]
     },
     "execution_count": 14,
     "metadata": {},
     "output_type": "execute_result"
    },
    {
     "name": "stdout",
     "output_type": "stream",
     "text": [
      "disaggregations for AG_LND_FRST:\n"
     ]
    },
    {
     "data": {
      "text/plain": [
       "[]"
      ]
     },
     "execution_count": 14,
     "metadata": {},
     "output_type": "execute_result"
    },
    {
     "name": "stdout",
     "output_type": "stream",
     "text": [
      "disaggregations for ER_PTD_FRWRT:\n"
     ]
    },
    {
     "data": {
      "text/plain": [
       "[]"
      ]
     },
     "execution_count": 14,
     "metadata": {},
     "output_type": "execute_result"
    },
    {
     "name": "stdout",
     "output_type": "stream",
     "text": [
      "disaggregations for ER_PTD_TERRS:\n"
     ]
    },
    {
     "data": {
      "text/plain": [
       "[]"
      ]
     },
     "execution_count": 14,
     "metadata": {},
     "output_type": "execute_result"
    },
    {
     "name": "stdout",
     "output_type": "stream",
     "text": [
      "disaggregations for AG_LND_FRSTBIOPHA:\n"
     ]
    },
    {
     "data": {
      "text/plain": [
       "[]"
      ]
     },
     "execution_count": 14,
     "metadata": {},
     "output_type": "execute_result"
    },
    {
     "name": "stdout",
     "output_type": "stream",
     "text": [
      "disaggregations for AG_LND_FRSTCERT:\n"
     ]
    },
    {
     "data": {
      "text/plain": [
       "[]"
      ]
     },
     "execution_count": 14,
     "metadata": {},
     "output_type": "execute_result"
    },
    {
     "name": "stdout",
     "output_type": "stream",
     "text": [
      "disaggregations for AG_LND_FRSTCHG:\n"
     ]
    },
    {
     "data": {
      "text/plain": [
       "[]"
      ]
     },
     "execution_count": 14,
     "metadata": {},
     "output_type": "execute_result"
    },
    {
     "name": "stdout",
     "output_type": "stream",
     "text": [
      "disaggregations for AG_LND_FRSTMGT:\n"
     ]
    },
    {
     "data": {
      "text/plain": [
       "[]"
      ]
     },
     "execution_count": 14,
     "metadata": {},
     "output_type": "execute_result"
    },
    {
     "name": "stdout",
     "output_type": "stream",
     "text": [
      "disaggregations for AG_LND_FRSTPRCT:\n"
     ]
    },
    {
     "data": {
      "text/plain": [
       "[]"
      ]
     },
     "execution_count": 14,
     "metadata": {},
     "output_type": "execute_result"
    },
    {
     "name": "stdout",
     "output_type": "stream",
     "text": [
      "disaggregations for AG_LND_DGRD:\n"
     ]
    },
    {
     "data": {
      "text/plain": [
       "[]"
      ]
     },
     "execution_count": 14,
     "metadata": {},
     "output_type": "execute_result"
    },
    {
     "name": "stdout",
     "output_type": "stream",
     "text": [
      "disaggregations for ER_PTD_MOTN:\n"
     ]
    },
    {
     "data": {
      "text/plain": [
       "[]"
      ]
     },
     "execution_count": 14,
     "metadata": {},
     "output_type": "execute_result"
    },
    {
     "name": "stdout",
     "output_type": "stream",
     "text": [
      "disaggregations for ER_MTN_GRNCVI:\n"
     ]
    },
    {
     "data": {
      "text/plain": [
       "[]"
      ]
     },
     "execution_count": 14,
     "metadata": {},
     "output_type": "execute_result"
    },
    {
     "name": "stdout",
     "output_type": "stream",
     "text": [
      "disaggregations for ER_MTN_TOTL:\n"
     ]
    },
    {
     "data": {
      "text/plain": [
       "[]"
      ]
     },
     "execution_count": 14,
     "metadata": {},
     "output_type": "execute_result"
    },
    {
     "name": "stdout",
     "output_type": "stream",
     "text": [
      "disaggregations for ER_MTN_GRNCOV:\n"
     ]
    },
    {
     "data": {
      "text/plain": [
       "[]"
      ]
     },
     "execution_count": 14,
     "metadata": {},
     "output_type": "execute_result"
    },
    {
     "name": "stdout",
     "output_type": "stream",
     "text": [
      "disaggregations for ER_RSK_LSTI:\n"
     ]
    },
    {
     "data": {
      "text/plain": [
       "[]"
      ]
     },
     "execution_count": 14,
     "metadata": {},
     "output_type": "execute_result"
    },
    {
     "name": "stdout",
     "output_type": "stream",
     "text": [
      "disaggregations for ER_CBD_SMTA:\n"
     ]
    },
    {
     "data": {
      "text/plain": [
       "[]"
      ]
     },
     "execution_count": 14,
     "metadata": {},
     "output_type": "execute_result"
    },
    {
     "name": "stdout",
     "output_type": "stream",
     "text": [
      "disaggregations for ER_CBD_NAGOYA:\n"
     ]
    },
    {
     "data": {
      "text/plain": [
       "[]"
      ]
     },
     "execution_count": 14,
     "metadata": {},
     "output_type": "execute_result"
    },
    {
     "name": "stdout",
     "output_type": "stream",
     "text": [
      "disaggregations for ER_CBD_ABSCLRHS:\n"
     ]
    },
    {
     "data": {
      "text/plain": [
       "[]"
      ]
     },
     "execution_count": 14,
     "metadata": {},
     "output_type": "execute_result"
    },
    {
     "name": "stdout",
     "output_type": "stream",
     "text": [
      "disaggregations for ER_CBD_ORSPGRFA:\n"
     ]
    },
    {
     "data": {
      "text/plain": [
       "[]"
      ]
     },
     "execution_count": 14,
     "metadata": {},
     "output_type": "execute_result"
    },
    {
     "name": "stdout",
     "output_type": "stream",
     "text": [
      "disaggregations for ER_CBD_PTYPGRFA:\n"
     ]
    },
    {
     "data": {
      "text/plain": [
       "[]"
      ]
     },
     "execution_count": 14,
     "metadata": {},
     "output_type": "execute_result"
    },
    {
     "name": "stdout",
     "output_type": "stream",
     "text": [
      "disaggregations for ER_IAS_LEGIS:\n"
     ]
    },
    {
     "data": {
      "text/plain": [
       "[]"
      ]
     },
     "execution_count": 14,
     "metadata": {},
     "output_type": "execute_result"
    },
    {
     "name": "stdout",
     "output_type": "stream",
     "text": [
      "disaggregations for ER_IAS_NBSAP:\n"
     ]
    },
    {
     "data": {
      "text/plain": [
       "[]"
      ]
     },
     "execution_count": 14,
     "metadata": {},
     "output_type": "execute_result"
    },
    {
     "name": "stdout",
     "output_type": "stream",
     "text": [
      "disaggregations for ER_BDY_ABT2NP:\n"
     ]
    },
    {
     "data": {
      "text/plain": [
       "['levelStatus_code']"
      ]
     },
     "execution_count": 14,
     "metadata": {},
     "output_type": "execute_result"
    },
    {
     "name": "stdout",
     "output_type": "stream",
     "text": [
      "disaggregations for ER_BDY_SEEA:\n"
     ]
    },
    {
     "data": {
      "text/plain": [
       "[]"
      ]
     },
     "execution_count": 14,
     "metadata": {},
     "output_type": "execute_result"
    },
    {
     "name": "stdout",
     "output_type": "stream",
     "text": [
      "disaggregations for DC_ODA_BDVDL:\n"
     ]
    },
    {
     "data": {
      "text/plain": [
       "[]"
      ]
     },
     "execution_count": 14,
     "metadata": {},
     "output_type": "execute_result"
    },
    {
     "name": "stdout",
     "output_type": "stream",
     "text": [
      "disaggregations for DC_ODA_BDVL:\n"
     ]
    },
    {
     "data": {
      "text/plain": [
       "[]"
      ]
     },
     "execution_count": 14,
     "metadata": {},
     "output_type": "execute_result"
    },
    {
     "name": "stdout",
     "output_type": "stream",
     "text": [
      "disaggregations for DC_ODA_BDVDL:\n"
     ]
    },
    {
     "data": {
      "text/plain": [
       "[]"
      ]
     },
     "execution_count": 14,
     "metadata": {},
     "output_type": "execute_result"
    },
    {
     "name": "stdout",
     "output_type": "stream",
     "text": [
      "disaggregations for DC_ODA_BDVL:\n"
     ]
    },
    {
     "data": {
      "text/plain": [
       "[]"
      ]
     },
     "execution_count": 14,
     "metadata": {},
     "output_type": "execute_result"
    },
    {
     "name": "stdout",
     "output_type": "stream",
     "text": [
      "disaggregations for VC_IHR_PSRC:\n"
     ]
    },
    {
     "data": {
      "text/plain": [
       "['sex_code']"
      ]
     },
     "execution_count": 14,
     "metadata": {},
     "output_type": "execute_result"
    },
    {
     "name": "stdout",
     "output_type": "stream",
     "text": [
      "disaggregations for VC_IHR_PSRCN:\n"
     ]
    },
    {
     "data": {
      "text/plain": [
       "['sex_code']"
      ]
     },
     "execution_count": 14,
     "metadata": {},
     "output_type": "execute_result"
    },
    {
     "name": "stdout",
     "output_type": "stream",
     "text": [
      "disaggregations for VC_VOV_PHYL:\n"
     ]
    },
    {
     "data": {
      "text/plain": [
       "['sex_code']"
      ]
     },
     "execution_count": 14,
     "metadata": {},
     "output_type": "execute_result"
    },
    {
     "name": "stdout",
     "output_type": "stream",
     "text": [
      "disaggregations for VC_VOV_ROBB:\n"
     ]
    },
    {
     "data": {
      "text/plain": [
       "['sex_code']"
      ]
     },
     "execution_count": 14,
     "metadata": {},
     "output_type": "execute_result"
    },
    {
     "name": "stdout",
     "output_type": "stream",
     "text": [
      "disaggregations for VC_VOV_SEXL:\n"
     ]
    },
    {
     "data": {
      "text/plain": [
       "['sex_code']"
      ]
     },
     "execution_count": 14,
     "metadata": {},
     "output_type": "execute_result"
    },
    {
     "name": "stdout",
     "output_type": "stream",
     "text": [
      "disaggregations for VC_SNS_WALN:\n"
     ]
    },
    {
     "data": {
      "text/plain": [
       "[]"
      ]
     },
     "execution_count": 14,
     "metadata": {},
     "output_type": "execute_result"
    },
    {
     "name": "stdout",
     "output_type": "stream",
     "text": [
      "disaggregations for VC_VAW_PHYPYV:\n"
     ]
    },
    {
     "data": {
      "text/plain": [
       "['age_code']"
      ]
     },
     "execution_count": 14,
     "metadata": {},
     "output_type": "execute_result"
    },
    {
     "name": "stdout",
     "output_type": "stream",
     "text": [
      "disaggregations for VC_HTF_DETVFL:\n"
     ]
    },
    {
     "data": {
      "text/plain": [
       "['age_code', 'sex_code']"
      ]
     },
     "execution_count": 14,
     "metadata": {},
     "output_type": "execute_result"
    },
    {
     "name": "stdout",
     "output_type": "stream",
     "text": [
      "disaggregations for VC_HTF_DETVOP:\n"
     ]
    },
    {
     "data": {
      "text/plain": [
       "['age_code', 'sex_code']"
      ]
     },
     "execution_count": 14,
     "metadata": {},
     "output_type": "execute_result"
    },
    {
     "name": "stdout",
     "output_type": "stream",
     "text": [
      "disaggregations for VC_HTF_DETVOG:\n"
     ]
    },
    {
     "data": {
      "text/plain": [
       "['age_code', 'sex_code']"
      ]
     },
     "execution_count": 14,
     "metadata": {},
     "output_type": "execute_result"
    },
    {
     "name": "stdout",
     "output_type": "stream",
     "text": [
      "disaggregations for VC_HTF_DETVSX:\n"
     ]
    },
    {
     "data": {
      "text/plain": [
       "['age_code', 'sex_code']"
      ]
     },
     "execution_count": 14,
     "metadata": {},
     "output_type": "execute_result"
    },
    {
     "name": "stdout",
     "output_type": "stream",
     "text": [
      "disaggregations for VC_HTF_DETV:\n"
     ]
    },
    {
     "data": {
      "text/plain": [
       "['age_code', 'sex_code']"
      ]
     },
     "execution_count": 14,
     "metadata": {},
     "output_type": "execute_result"
    },
    {
     "name": "stdout",
     "output_type": "stream",
     "text": [
      "disaggregations for VC_VAW_SXVLN:\n"
     ]
    },
    {
     "data": {
      "text/plain": [
       "['age_code', 'sex_code']"
      ]
     },
     "execution_count": 14,
     "metadata": {},
     "output_type": "execute_result"
    },
    {
     "name": "stdout",
     "output_type": "stream",
     "text": [
      "disaggregations for VC_PRR_PHYV:\n"
     ]
    },
    {
     "data": {
      "text/plain": [
       "['sex_code']"
      ]
     },
     "execution_count": 14,
     "metadata": {},
     "output_type": "execute_result"
    },
    {
     "name": "stdout",
     "output_type": "stream",
     "text": [
      "disaggregations for VC_PRR_SEXV:\n"
     ]
    },
    {
     "data": {
      "text/plain": [
       "['sex_code']"
      ]
     },
     "execution_count": 14,
     "metadata": {},
     "output_type": "execute_result"
    },
    {
     "name": "stdout",
     "output_type": "stream",
     "text": [
      "disaggregations for VC_PRR_ROBB:\n"
     ]
    },
    {
     "data": {
      "text/plain": [
       "['sex_code']"
      ]
     },
     "execution_count": 14,
     "metadata": {},
     "output_type": "execute_result"
    },
    {
     "name": "stdout",
     "output_type": "stream",
     "text": [
      "disaggregations for VC_PRS_UNSEC:\n"
     ]
    },
    {
     "data": {
      "text/plain": [
       "[]"
      ]
     },
     "execution_count": 14,
     "metadata": {},
     "output_type": "execute_result"
    },
    {
     "name": "stdout",
     "output_type": "stream",
     "text": [
      "disaggregations for IU_COR_BRIB:\n"
     ]
    },
    {
     "data": {
      "text/plain": [
       "['sex_code']"
      ]
     },
     "execution_count": 14,
     "metadata": {},
     "output_type": "execute_result"
    },
    {
     "name": "stdout",
     "output_type": "stream",
     "text": [
      "disaggregations for IC_FRM_BRIB:\n"
     ]
    },
    {
     "data": {
      "text/plain": [
       "[]"
      ]
     },
     "execution_count": 14,
     "metadata": {},
     "output_type": "execute_result"
    },
    {
     "name": "stdout",
     "output_type": "stream",
     "text": [
      "disaggregations for GF_XPD_GBPC:\n"
     ]
    },
    {
     "data": {
      "text/plain": [
       "[]"
      ]
     },
     "execution_count": 14,
     "metadata": {},
     "output_type": "execute_result"
    },
    {
     "name": "stdout",
     "output_type": "stream",
     "text": [
      "disaggregations for SG_INT_MBRDEV:\n"
     ]
    },
    {
     "data": {
      "text/plain": [
       "['nameOfInternationalInstitution_code']"
      ]
     },
     "execution_count": 14,
     "metadata": {},
     "output_type": "execute_result"
    },
    {
     "name": "stdout",
     "output_type": "stream",
     "text": [
      "disaggregations for SG_INT_VRTDEV:\n"
     ]
    },
    {
     "data": {
      "text/plain": [
       "['nameOfInternationalInstitution_code']"
      ]
     },
     "execution_count": 14,
     "metadata": {},
     "output_type": "execute_result"
    },
    {
     "name": "stdout",
     "output_type": "stream",
     "text": [
      "disaggregations for SG_REG_BRTH:\n"
     ]
    },
    {
     "data": {
      "text/plain": [
       "['age_code']"
      ]
     },
     "execution_count": 14,
     "metadata": {},
     "output_type": "execute_result"
    },
    {
     "name": "stdout",
     "output_type": "stream",
     "text": [
      "disaggregations for VC_VAW_MTUHRA:\n"
     ]
    },
    {
     "data": {
      "text/plain": [
       "['sex_code']"
      ]
     },
     "execution_count": 14,
     "metadata": {},
     "output_type": "execute_result"
    },
    {
     "name": "stdout",
     "output_type": "stream",
     "text": [
      "disaggregations for SG_INF_ACCSS:\n"
     ]
    },
    {
     "data": {
      "text/plain": [
       "[]"
      ]
     },
     "execution_count": 14,
     "metadata": {},
     "output_type": "execute_result"
    },
    {
     "name": "stdout",
     "output_type": "stream",
     "text": [
      "disaggregations for SG_NHR_IMPL:\n"
     ]
    },
    {
     "data": {
      "text/plain": [
       "[]"
      ]
     },
     "execution_count": 14,
     "metadata": {},
     "output_type": "execute_result"
    },
    {
     "name": "stdout",
     "output_type": "stream",
     "text": [
      "disaggregations for SG_NHR_IMPLN:\n"
     ]
    },
    {
     "data": {
      "text/plain": [
       "[]"
      ]
     },
     "execution_count": 14,
     "metadata": {},
     "output_type": "execute_result"
    },
    {
     "name": "stdout",
     "output_type": "stream",
     "text": [
      "disaggregations for SG_NHR_INTEXST:\n"
     ]
    },
    {
     "data": {
      "text/plain": [
       "[]"
      ]
     },
     "execution_count": 14,
     "metadata": {},
     "output_type": "execute_result"
    },
    {
     "name": "stdout",
     "output_type": "stream",
     "text": [
      "disaggregations for SG_NHR_NOSTUSN:\n"
     ]
    },
    {
     "data": {
      "text/plain": [
       "[]"
      ]
     },
     "execution_count": 14,
     "metadata": {},
     "output_type": "execute_result"
    },
    {
     "name": "stdout",
     "output_type": "stream",
     "text": [
      "disaggregations for SG_NHR_INTEXSTN:\n"
     ]
    },
    {
     "data": {
      "text/plain": [
       "[]"
      ]
     },
     "execution_count": 14,
     "metadata": {},
     "output_type": "execute_result"
    },
    {
     "name": "stdout",
     "output_type": "stream",
     "text": [
      "disaggregations for SG_NHR_NOAPPLN:\n"
     ]
    },
    {
     "data": {
      "text/plain": [
       "[]"
      ]
     },
     "execution_count": 14,
     "metadata": {},
     "output_type": "execute_result"
    },
    {
     "name": "stdout",
     "output_type": "stream",
     "text": [
      "disaggregations for GR_G14_GDP:\n"
     ]
    },
    {
     "data": {
      "text/plain": [
       "['observationStatus_code']"
      ]
     },
     "execution_count": 14,
     "metadata": {},
     "output_type": "execute_result"
    },
    {
     "name": "stdout",
     "output_type": "stream",
     "text": [
      "disaggregations for GR_G14_XDC:\n"
     ]
    },
    {
     "data": {
      "text/plain": [
       "['observationStatus_code']"
      ]
     },
     "execution_count": 14,
     "metadata": {},
     "output_type": "execute_result"
    },
    {
     "name": "stdout",
     "output_type": "stream",
     "text": [
      "disaggregations for GC_GOB_TAXD:\n"
     ]
    },
    {
     "data": {
      "text/plain": [
       "['observationStatus_code']"
      ]
     },
     "execution_count": 14,
     "metadata": {},
     "output_type": "execute_result"
    },
    {
     "name": "stdout",
     "output_type": "stream",
     "text": [
      "disaggregations for DC_ODA_SIDSG:\n"
     ]
    },
    {
     "data": {
      "text/plain": [
       "[]"
      ]
     },
     "execution_count": 14,
     "metadata": {},
     "output_type": "execute_result"
    },
    {
     "name": "stdout",
     "output_type": "stream",
     "text": [
      "disaggregations for DC_ODA_LDCG:\n"
     ]
    },
    {
     "data": {
      "text/plain": [
       "[]"
      ]
     },
     "execution_count": 14,
     "metadata": {},
     "output_type": "execute_result"
    },
    {
     "name": "stdout",
     "output_type": "stream",
     "text": [
      "disaggregations for DC_ODA_LLDC:\n"
     ]
    },
    {
     "data": {
      "text/plain": [
       "[]"
      ]
     },
     "execution_count": 14,
     "metadata": {},
     "output_type": "execute_result"
    },
    {
     "name": "stdout",
     "output_type": "stream",
     "text": [
      "disaggregations for DC_ODA_SIDS:\n"
     ]
    },
    {
     "data": {
      "text/plain": [
       "[]"
      ]
     },
     "execution_count": 14,
     "metadata": {},
     "output_type": "execute_result"
    },
    {
     "name": "stdout",
     "output_type": "stream",
     "text": [
      "disaggregations for DC_ODA_LDCS:\n"
     ]
    },
    {
     "data": {
      "text/plain": [
       "[]"
      ]
     },
     "execution_count": 14,
     "metadata": {},
     "output_type": "execute_result"
    },
    {
     "name": "stdout",
     "output_type": "stream",
     "text": [
      "disaggregations for DC_ODA_LLDCG:\n"
     ]
    },
    {
     "data": {
      "text/plain": [
       "[]"
      ]
     },
     "execution_count": 14,
     "metadata": {},
     "output_type": "execute_result"
    },
    {
     "name": "stdout",
     "output_type": "stream",
     "text": [
      "disaggregations for DC_ODA_TOTG:\n"
     ]
    },
    {
     "data": {
      "text/plain": [
       "[]"
      ]
     },
     "execution_count": 14,
     "metadata": {},
     "output_type": "execute_result"
    },
    {
     "name": "stdout",
     "output_type": "stream",
     "text": [
      "disaggregations for DC_ODA_TOTL:\n"
     ]
    },
    {
     "data": {
      "text/plain": [
       "[]"
      ]
     },
     "execution_count": 14,
     "metadata": {},
     "output_type": "execute_result"
    },
    {
     "name": "stdout",
     "output_type": "stream",
     "text": [
      "disaggregations for DC_ODA_TOTLGE:\n"
     ]
    },
    {
     "data": {
      "text/plain": [
       "[]"
      ]
     },
     "execution_count": 14,
     "metadata": {},
     "output_type": "execute_result"
    },
    {
     "name": "stdout",
     "output_type": "stream",
     "text": [
      "disaggregations for DC_ODA_TOTGGE:\n"
     ]
    },
    {
     "data": {
      "text/plain": [
       "[]"
      ]
     },
     "execution_count": 14,
     "metadata": {},
     "output_type": "execute_result"
    },
    {
     "name": "stdout",
     "output_type": "stream",
     "text": [
      "disaggregations for BX_TRF_PWKR:\n"
     ]
    },
    {
     "data": {
      "text/plain": [
       "[]"
      ]
     },
     "execution_count": 14,
     "metadata": {},
     "output_type": "execute_result"
    },
    {
     "name": "stdout",
     "output_type": "stream",
     "text": [
      "disaggregations for DT_TDS_DECT:\n"
     ]
    },
    {
     "data": {
      "text/plain": [
       "[]"
      ]
     },
     "execution_count": 14,
     "metadata": {},
     "output_type": "execute_result"
    },
    {
     "name": "stdout",
     "output_type": "stream",
     "text": [
      "disaggregations for IT_NET_BBN:\n"
     ]
    },
    {
     "data": {
      "text/plain": [
       "['typeOfSpeed_code']"
      ]
     },
     "execution_count": 14,
     "metadata": {},
     "output_type": "execute_result"
    },
    {
     "name": "stdout",
     "output_type": "stream",
     "text": [
      "disaggregations for IT_NET_BBP:\n"
     ]
    },
    {
     "data": {
      "text/plain": [
       "['typeOfSpeed_code']"
      ]
     },
     "execution_count": 14,
     "metadata": {},
     "output_type": "execute_result"
    },
    {
     "name": "stdout",
     "output_type": "stream",
     "text": [
      "disaggregations for IT_USE_ii99:\n"
     ]
    },
    {
     "data": {
      "text/plain": [
       "[]"
      ]
     },
     "execution_count": 14,
     "metadata": {},
     "output_type": "execute_result"
    },
    {
     "name": "stdout",
     "output_type": "stream",
     "text": [
      "disaggregations for DC_FTA_TOTAL:\n"
     ]
    },
    {
     "data": {
      "text/plain": [
       "[]"
      ]
     },
     "execution_count": 14,
     "metadata": {},
     "output_type": "execute_result"
    },
    {
     "name": "stdout",
     "output_type": "stream",
     "text": [
      "disaggregations for TM_TAX_WMFN:\n"
     ]
    },
    {
     "data": {
      "text/plain": [
       "['typeOfProduct_code']"
      ]
     },
     "execution_count": 14,
     "metadata": {},
     "output_type": "execute_result"
    },
    {
     "name": "stdout",
     "output_type": "stream",
     "text": [
      "disaggregations for TM_TAX_WMPS:\n"
     ]
    },
    {
     "data": {
      "text/plain": [
       "['typeOfProduct_code']"
      ]
     },
     "execution_count": 14,
     "metadata": {},
     "output_type": "execute_result"
    },
    {
     "name": "stdout",
     "output_type": "stream",
     "text": [
      "disaggregations for TX_IMP_GBMRCH:\n"
     ]
    },
    {
     "data": {
      "text/plain": [
       "[]"
      ]
     },
     "execution_count": 14,
     "metadata": {},
     "output_type": "execute_result"
    },
    {
     "name": "stdout",
     "output_type": "stream",
     "text": [
      "disaggregations for TX_EXP_GBMRCH:\n"
     ]
    },
    {
     "data": {
      "text/plain": [
       "[]"
      ]
     },
     "execution_count": 14,
     "metadata": {},
     "output_type": "execute_result"
    },
    {
     "name": "stdout",
     "output_type": "stream",
     "text": [
      "disaggregations for TX_EXP_GBSVR:\n"
     ]
    },
    {
     "data": {
      "text/plain": [
       "[]"
      ]
     },
     "execution_count": 14,
     "metadata": {},
     "output_type": "execute_result"
    },
    {
     "name": "stdout",
     "output_type": "stream",
     "text": [
      "disaggregations for TX_IMP_GBSVR:\n"
     ]
    },
    {
     "data": {
      "text/plain": [
       "[]"
      ]
     },
     "execution_count": 14,
     "metadata": {},
     "output_type": "execute_result"
    },
    {
     "name": "stdout",
     "output_type": "stream",
     "text": [
      "disaggregations for TM_TAX_DMFN:\n"
     ]
    },
    {
     "data": {
      "text/plain": [
       "['typeOfProduct_code']"
      ]
     },
     "execution_count": 14,
     "metadata": {},
     "output_type": "execute_result"
    },
    {
     "name": "stdout",
     "output_type": "stream",
     "text": [
      "disaggregations for TM_TAX_DPRF:\n"
     ]
    },
    {
     "data": {
      "text/plain": [
       "['typeOfProduct_code']"
      ]
     },
     "execution_count": 14,
     "metadata": {},
     "output_type": "execute_result"
    },
    {
     "name": "stdout",
     "output_type": "stream",
     "text": [
      "disaggregations for SG_PLN_PRVRIMON:\n"
     ]
    },
    {
     "data": {
      "text/plain": [
       "[]"
      ]
     },
     "execution_count": 14,
     "metadata": {},
     "output_type": "execute_result"
    },
    {
     "name": "stdout",
     "output_type": "stream",
     "text": [
      "disaggregations for SG_PLN_RECRIMON:\n"
     ]
    },
    {
     "data": {
      "text/plain": [
       "[]"
      ]
     },
     "execution_count": 14,
     "metadata": {},
     "output_type": "execute_result"
    },
    {
     "name": "stdout",
     "output_type": "stream",
     "text": [
      "disaggregations for SG_PLN_PRVNDI:\n"
     ]
    },
    {
     "data": {
      "text/plain": [
       "[]"
      ]
     },
     "execution_count": 14,
     "metadata": {},
     "output_type": "execute_result"
    },
    {
     "name": "stdout",
     "output_type": "stream",
     "text": [
      "disaggregations for SG_PLN_RECNDI:\n"
     ]
    },
    {
     "data": {
      "text/plain": [
       "[]"
      ]
     },
     "execution_count": 14,
     "metadata": {},
     "output_type": "execute_result"
    },
    {
     "name": "stdout",
     "output_type": "stream",
     "text": [
      "disaggregations for SG_PLN_PRVRICTRY:\n"
     ]
    },
    {
     "data": {
      "text/plain": [
       "[]"
      ]
     },
     "execution_count": 14,
     "metadata": {},
     "output_type": "execute_result"
    },
    {
     "name": "stdout",
     "output_type": "stream",
     "text": [
      "disaggregations for SG_PLN_RECRICTRY:\n"
     ]
    },
    {
     "data": {
      "text/plain": [
       "[]"
      ]
     },
     "execution_count": 14,
     "metadata": {},
     "output_type": "execute_result"
    },
    {
     "name": "stdout",
     "output_type": "stream",
     "text": [
      "disaggregations for SG_PLN_REPOLRES:\n"
     ]
    },
    {
     "data": {
      "text/plain": [
       "[]"
      ]
     },
     "execution_count": 14,
     "metadata": {},
     "output_type": "execute_result"
    },
    {
     "name": "stdout",
     "output_type": "stream",
     "text": [
      "disaggregations for SG_PLN_PRPOLRES:\n"
     ]
    },
    {
     "data": {
      "text/plain": [
       "[]"
      ]
     },
     "execution_count": 14,
     "metadata": {},
     "output_type": "execute_result"
    },
    {
     "name": "stdout",
     "output_type": "stream",
     "text": [
      "disaggregations for SG_PLN_MSTKSDG:\n"
     ]
    },
    {
     "data": {
      "text/plain": [
       "[]"
      ]
     },
     "execution_count": 14,
     "metadata": {},
     "output_type": "execute_result"
    },
    {
     "name": "stdout",
     "output_type": "stream",
     "text": [
      "disaggregations for SG_STT_FPOS:\n"
     ]
    },
    {
     "data": {
      "text/plain": [
       "[]"
      ]
     },
     "execution_count": 14,
     "metadata": {},
     "output_type": "execute_result"
    },
    {
     "name": "stdout",
     "output_type": "stream",
     "text": [
      "disaggregations for SG_STT_NSDSFDGVT:\n"
     ]
    },
    {
     "data": {
      "text/plain": [
       "[]"
      ]
     },
     "execution_count": 14,
     "metadata": {},
     "output_type": "execute_result"
    },
    {
     "name": "stdout",
     "output_type": "stream",
     "text": [
      "disaggregations for SG_STT_NSDSFDDNR:\n"
     ]
    },
    {
     "data": {
      "text/plain": [
       "[]"
      ]
     },
     "execution_count": 14,
     "metadata": {},
     "output_type": "execute_result"
    },
    {
     "name": "stdout",
     "output_type": "stream",
     "text": [
      "disaggregations for SG_STT_NSDSFDOTHR:\n"
     ]
    },
    {
     "data": {
      "text/plain": [
       "[]"
      ]
     },
     "execution_count": 14,
     "metadata": {},
     "output_type": "execute_result"
    },
    {
     "name": "stdout",
     "output_type": "stream",
     "text": [
      "disaggregations for SG_STT_NSDSIMPL:\n"
     ]
    },
    {
     "data": {
      "text/plain": [
       "[]"
      ]
     },
     "execution_count": 14,
     "metadata": {},
     "output_type": "execute_result"
    },
    {
     "name": "stdout",
     "output_type": "stream",
     "text": [
      "disaggregations for SG_STT_NSDSFND:\n"
     ]
    },
    {
     "data": {
      "text/plain": [
       "[]"
      ]
     },
     "execution_count": 14,
     "metadata": {},
     "output_type": "execute_result"
    },
    {
     "name": "stdout",
     "output_type": "stream",
     "text": [
      "disaggregations for SG_STT_CAPTY:\n"
     ]
    },
    {
     "data": {
      "text/plain": [
       "[]"
      ]
     },
     "execution_count": 14,
     "metadata": {},
     "output_type": "execute_result"
    },
    {
     "name": "stdout",
     "output_type": "stream",
     "text": [
      "disaggregations for SG_REG_BRTH90:\n"
     ]
    },
    {
     "data": {
      "text/plain": [
       "[]"
      ]
     },
     "execution_count": 14,
     "metadata": {},
     "output_type": "execute_result"
    },
    {
     "name": "stdout",
     "output_type": "stream",
     "text": [
      "disaggregations for SG_REG_DETH75:\n"
     ]
    },
    {
     "data": {
      "text/plain": [
       "[]"
      ]
     },
     "execution_count": 14,
     "metadata": {},
     "output_type": "execute_result"
    },
    {
     "name": "stdout",
     "output_type": "stream",
     "text": [
      "disaggregations for SG_REG_CENSUS:\n"
     ]
    },
    {
     "data": {
      "text/plain": [
       "[]"
      ]
     },
     "execution_count": 14,
     "metadata": {},
     "output_type": "execute_result"
    },
    {
     "name": "stdout",
     "output_type": "stream",
     "text": [
      "disaggregations for SG_REG_CENSUSN:\n"
     ]
    },
    {
     "data": {
      "text/plain": [
       "[]"
      ]
     },
     "execution_count": 14,
     "metadata": {},
     "output_type": "execute_result"
    },
    {
     "name": "stdout",
     "output_type": "stream",
     "text": [
      "disaggregations for SG_REG_BRTH90N:\n"
     ]
    },
    {
     "data": {
      "text/plain": [
       "[]"
      ]
     },
     "execution_count": 14,
     "metadata": {},
     "output_type": "execute_result"
    },
    {
     "name": "stdout",
     "output_type": "stream",
     "text": [
      "disaggregations for SG_REG_DETH75N:\n"
     ]
    },
    {
     "data": {
      "text/plain": [
       "[]"
      ]
     },
     "execution_count": 14,
     "metadata": {},
     "output_type": "execute_result"
    },
    {
     "name": "stdout",
     "output_type": "stream",
     "text": [
      "finished!\n"
     ]
    }
   ],
   "source": [
    "df_list = []\n",
    "\n",
    "\n",
    "for g in metadata:\n",
    "    #if g['code'] != '6':\n",
    "    #    continue\n",
    "    for t in g['targets']:\n",
    "        for i in t['indicators']:\n",
    "            for s in i['series']:\n",
    "                #if s['code'] != 'SI_POV_EMP1':\n",
    "                #    continue\n",
    "                    \n",
    "                #print(f\"Indicator {i['reference']}, Series {s['code']}: {s['description']}.\")\n",
    "                \n",
    "                f = csv_file(i['reference'], s['code'])\n",
    "                      \n",
    "                data = read_sdg_dataset(f)                      \n",
    "                \n",
    "                print(f\"disaggregations for {s['code']}:\")\n",
    "                get_disaggregations(data)\n",
    "                \n",
    "                country_data_cols = ['geoAreaCode', 'geoAreaName','years', 'min_year', 'max_year', 'n_years']\n",
    "                country_data_cols.extend(get_disaggregations(data))\n",
    "                #country_data_cols\n",
    "                      \n",
    "                ## Join countries and data:\n",
    "                      \n",
    "                country_data = pd.merge(ghana, \n",
    "                                        data[country_data_cols], \n",
    "                                        how='inner', \n",
    "                                        left_on=['countryCode'], \n",
    "                                        right_on=['geoAreaCode']).reset_index()\n",
    "                      \n",
    "                x = country_data.copy()\n",
    "                      \n",
    "                #----Check number of years and latest year available\n",
    "\n",
    "                country_availability = x.groupby(['countryCode', 'countryName'], as_index=False).agg({'max_year':['max'],\n",
    "                                                                                                          'n_years':['max', 'count']})      \n",
    "                country_availability.columns = ['countryCode', 'countryName','max_year', 'n_years', 'n_timeSeries']\n",
    "                      \n",
    "                #----Check number of disaggregations in the data set\n",
    "                      \n",
    "                country_availability['n_dimensions']  = len(get_disaggregations(data)) \n",
    "                \n",
    "                #----Check average number levels/values per dimension\n",
    "                      \n",
    "                if len(get_disaggregations(data)) > 0:\n",
    "                      country_availability['values_per_dim']  =  country_availability['n_timeSeries'] ** (1/len(get_disaggregations(data)))  \n",
    "                else:\n",
    "                      country_availability['values_per_dim']  =  None\n",
    "                \n",
    "                #----Check disaggregation by sex\n",
    "                      \n",
    "                if 'sex_code' in get_disaggregations(data):\n",
    "                    xx = data[['geoAreaCode']][data['sex_code']=='F'].drop_duplicates()\n",
    "                    xx = xx['geoAreaCode'].tolist()\n",
    "                else:\n",
    "                    xx = []\n",
    "                \n",
    "                country_availability['data_for_female'] = np.where(country_availability['countryCode'].isin(xx), 1, 0)\n",
    "                \n",
    "                #----add regional groupings\n",
    "                      \n",
    "                country_availability = pd.merge(countries,\n",
    "                                                country_availability,\n",
    "                                                how='left',\n",
    "                                                on = ['countryCode']\n",
    "                                                ).reset_index()\n",
    "                      \n",
    "                      \n",
    "                country_availability['Goal'] = '\\''+ g['code']\n",
    "                country_availability['Target'] = '\\'' + t['code']\n",
    "                country_availability['Indicator_ref'] = i['reference']\n",
    "                country_availability['Series_code'] = s['code']\n",
    "                country_availability['Series_desc'] = s['description']\n",
    "                #country_availability['disaggregations_list'] = get_disaggregations(data)\n",
    "                      \n",
    "                #country_availability\n",
    "                      \n",
    "                ## ---------------Aggregate by region------------------\n",
    "                      \n",
    "                x = country_availability.copy()\n",
    "                \n",
    "                if len(get_disaggregations(data)) > 0:\n",
    "                    country_availability_by_region = x.groupby(['Goal','Target','Indicator_ref','Series_code', 'Series_desc', 'regionCode', 'regionName'], \n",
    "                                                               as_index=False).agg({'max_year':['count','median'],\n",
    "                                                                                    'n_years':['median'],\n",
    "                                                                                    'n_timeSeries':['median'],\n",
    "                                                                                    'n_dimensions':['median'],\n",
    "                                                                                    'values_per_dim':['median'],\n",
    "                                                                                    'data_for_female':['mean']})\n",
    "                else:\n",
    "                    country_availability_by_region = x.groupby(['Goal','Target','Indicator_ref','Series_code','Series_desc','regionCode', 'regionName'], \n",
    "                                                               as_index=False).agg({'max_year':['count','median'],\n",
    "                                                                                    'n_years':['median'],\n",
    "                                                                                    'n_timeSeries':['median'],\n",
    "                                                                                    'n_dimensions':['median']})\n",
    "                      \n",
    "                    country_availability_by_region['values_per_dim'] = None\n",
    "                    country_availability_by_region['data_for_female'] = None\n",
    "\n",
    "                country_availability_by_region.columns = ['Goal','Target','Indicator_ref','Series_code','Series_desc','regionCode', 'regionName',\n",
    "                                                          'n_countries_available', 'median_max_year', 'median_n_years', 'median_n_timeSeries',\n",
    "                                                          'n_dimensions', 'median_values_per_dim', 'mean_data_for_female'\n",
    "                                                         ]\n",
    "                      \n",
    "                      \n",
    "                country_availability_by_region = pd.merge(country_availability_by_region, \n",
    "                                                       x.groupby(['regionCode'],as_index=False)['countryCode'].agg('count'),\n",
    "                                                       how='left',\n",
    "                                                       on = ['regionCode']).reset_index()\n",
    "                country_availability_by_region.rename(columns={'countryCode': 'n_countries_total'}, inplace=True)\n",
    "                \n",
    "                #country_availability_by_region\n",
    "                      \n",
    "                ## ---------------Aggregate by series ------------------  \n",
    "                      \n",
    "                      \n",
    "                x = country_availability.copy()\n",
    "                \n",
    "                \n",
    "                if len(get_disaggregations(data)) > 0:\n",
    "                    country_availability_world = x.groupby(['Goal','Target','Indicator_ref','Series_code','Series_desc'], \n",
    "                                                           as_index=False).agg({'max_year':['count','median'],\n",
    "                                                                                'n_years':['median'],\n",
    "                                                                                'n_timeSeries':['median'],\n",
    "                                                                                'n_dimensions':['median'],\n",
    "                                                                                'values_per_dim':['median'],\n",
    "                                                                                'data_for_female':['mean']})\n",
    "                    \n",
    "                else:\n",
    "                    country_availability_world = x.groupby(['Goal','Target','Indicator_ref','Series_code', 'Series_desc'], \n",
    "                                                           as_index=False).agg({'max_year':['count','median'],\n",
    "                                                                                'n_years':['median'],\n",
    "                                                                                'n_timeSeries':['median'],\n",
    "                                                                                'n_dimensions':['median']}) \n",
    "                    country_availability_world['values_per_dim'] = None\n",
    "                    country_availability_world['data_for_female'] = None\n",
    "                \n",
    "                country_availability_world.columns = ['Goal','Target','Indicator_ref','Series_code','Series_desc',\n",
    "                                                          'n_countries_available', 'median_max_year', 'median_n_years', 'median_n_timeSeries',\n",
    "                                                          'n_dimensions', 'median_values_per_dim', 'mean_data_for_female'\n",
    "                                                         ]\n",
    "                      \n",
    "                      \n",
    "                country_availability_world = pd.merge(country_availability_world, \n",
    "                                                       x.groupby(['Series_code','Series_desc'],as_index=False)['countryCode'].agg('count'),\n",
    "                                                       how='left',\n",
    "                                                       on = ['Series_code','Series_desc']).reset_index()\n",
    "                country_availability_world.rename(columns={'countryCode': 'n_countries_total'}, inplace=True)\n",
    "                \n",
    "                country_availability_world['regionCode'] = 1\n",
    "                country_availability_world['regionName'] = 'World'\n",
    "                      \n",
    "                frames = [country_availability_world,country_availability_by_region ]\n",
    "                x = pd.concat(frames)\n",
    "                      \n",
    "                x.to_csv('../../data/availability/2020.Q1.G.02/ghana_'+ f)\n",
    "                      \n",
    "                df_list.append(x)\n",
    "                      \n",
    "availability_by_series_and_region = pd.concat(df_list)\n",
    "                      \n",
    "availability_by_series_and_region.to_csv('../../data/availability/2020.Q1.G.02/ghana_Availability_by_series.csv')\n",
    "\n",
    "print('finished!')\n",
    "                      "
   ]
  },
  {
   "cell_type": "markdown",
   "metadata": {},
   "source": [
    "### Availability by indicator"
   ]
  },
  {
   "cell_type": "code",
   "execution_count": 9,
   "metadata": {},
   "outputs": [
    {
     "name": "stdout",
     "output_type": "stream",
     "text": [
      "finished!\n"
     ]
    }
   ],
   "source": [
    "x = availability_by_series_and_region\n",
    "\n",
    "x.median_values_per_dim = pd.to_numeric(x.median_values_per_dim)\n",
    "x.mean_data_for_female= pd.to_numeric(x.mean_data_for_female)\n",
    "\n",
    "availability_by_indicator_and_region = x.groupby(['Goal','Target','Indicator_ref', 'regionCode', 'regionName'], \n",
    "                                                  as_index=False).agg({'n_countries_available':['mean'],\n",
    "                                                                      'median_max_year':['mean'],\n",
    "                                                                      'median_n_years':['mean'],\n",
    "                                                                      'median_n_timeSeries':['mean'],\n",
    "                                                                      'n_dimensions':['mean'],\n",
    "                                                                      'median_values_per_dim':['mean'],\n",
    "                                                                      'mean_data_for_female':['mean'],\n",
    "                                                                      'n_countries_total':['mean']})\n",
    "\n",
    "availability_by_indicator_and_region.columns = ['Goal',\n",
    "'Target',\n",
    "'Indicator_ref',\n",
    "'regionCode',\n",
    "'regionName',\n",
    "'avg_n_countries_available',\n",
    "'avg_median_max_year',\n",
    "'avg_median_n_years',\n",
    "'avg_median_n_timeSeries',\n",
    "'avg_n_dimensions',\n",
    "'avg_median_values_per_dim',\n",
    "'mean_data_for_female',\n",
    "'n_countries_total']\n",
    "\n",
    "availability_by_indicator_and_region.to_csv('../../data/availability/2020.Q1.G.02/Availability_by_indicator.csv')\n",
    "\n",
    "print('finished!')\n",
    "                     \n",
    "       "
   ]
  },
  {
   "cell_type": "code",
   "execution_count": 11,
   "metadata": {},
   "outputs": [
    {
     "name": "stdout",
     "output_type": "stream",
     "text": [
      "finished!\n"
     ]
    }
   ],
   "source": [
    "x = availability_by_indicator_and_region\n",
    "\n",
    "x.median_values_per_dim = pd.to_numeric(x.avg_median_values_per_dim)\n",
    "x.mean_data_for_female= pd.to_numeric(x.mean_data_for_female)\n",
    "\n",
    "availability_by_target_and_region = x.groupby(['Goal','Target', 'regionCode', 'regionName'], \n",
    "                                                  as_index=False).agg({'avg_n_countries_available':['mean'],\n",
    "                                                                      'avg_median_max_year':['mean'],\n",
    "                                                                      'avg_median_n_years':['mean'],\n",
    "                                                                      'avg_median_n_timeSeries':['mean'],\n",
    "                                                                      'avg_n_dimensions':['mean'],\n",
    "                                                                      'avg_median_values_per_dim':['mean'],\n",
    "                                                                      'mean_data_for_female':['mean'],\n",
    "                                                                      'n_countries_total':['mean']})\n",
    "\n",
    "\n",
    "availability_by_target_and_region.columns = ['Goal',\n",
    "'Target',\n",
    "'regionCode',\n",
    "'regionName',\n",
    "'avg_n_countries_available',\n",
    "'avg_median_max_year',\n",
    "'avg_median_n_years',\n",
    "'avg_median_n_timeSeries',\n",
    "'avg_n_dimensions',\n",
    "'avg_median_values_per_dim',\n",
    "'mean_data_for_female',\n",
    "'n_countries_total']\n",
    "\n",
    "availability_by_target_and_region.to_csv('../../data/availability/2020.Q1.G.02/Availability_by_target.csv')\n",
    "\n",
    "print('finished!')\n",
    "                    "
   ]
  },
  {
   "cell_type": "code",
   "execution_count": 13,
   "metadata": {},
   "outputs": [
    {
     "name": "stdout",
     "output_type": "stream",
     "text": [
      "finished!\n"
     ]
    }
   ],
   "source": [
    "x = availability_by_target_and_region\n",
    "\n",
    "x.median_values_per_dim = pd.to_numeric(x.avg_median_values_per_dim)\n",
    "x.mean_data_for_female= pd.to_numeric(x.mean_data_for_female)\n",
    "\n",
    "availability_by_goal_and_region = x.groupby(['Goal','regionCode', 'regionName'], \n",
    "                                                  as_index=False).agg({'avg_n_countries_available':['mean'],\n",
    "                                                                      'avg_median_max_year':['mean'],\n",
    "                                                                      'avg_median_n_years':['mean'],\n",
    "                                                                      'avg_median_n_timeSeries':['mean'],\n",
    "                                                                      'avg_n_dimensions':['mean'],\n",
    "                                                                      'avg_median_values_per_dim':['mean'],\n",
    "                                                                      'mean_data_for_female':['mean'],\n",
    "                                                                      'n_countries_total':['mean']})\n",
    "\n",
    "\n",
    "availability_by_goal_and_region.columns = ['Goal',\n",
    "'regionCode',\n",
    "'regionName',\n",
    "'avg_n_countries_available',\n",
    "'avg_median_max_year',\n",
    "'avg_median_n_years',\n",
    "'avg_median_n_timeSeries',\n",
    "'avg_n_dimensions',\n",
    "'avg_median_values_per_dim',\n",
    "'mean_data_for_female',\n",
    "'n_countries_total']\n",
    "\n",
    "availability_by_goal_and_region.to_csv('../../data/availability/2020.Q1.G.02/Availability_by_goal.csv')\n",
    "\n",
    "print('finished!')\n",
    "                    "
   ]
  },
  {
   "cell_type": "code",
   "execution_count": null,
   "metadata": {},
   "outputs": [],
   "source": []
  }
 ],
 "metadata": {
  "kernelspec": {
   "display_name": "Python 3.7.2 32-bit",
   "language": "python",
   "name": "python37232bit0725cd331557480a8887ab9d7f73d487"
  },
  "language_info": {
   "codemirror_mode": {
    "name": "ipython",
    "version": 3
   },
   "file_extension": ".py",
   "mimetype": "text/x-python",
   "name": "python",
   "nbconvert_exporter": "python",
   "pygments_lexer": "ipython3",
   "version": "3.7.2"
  }
 },
 "nbformat": 4,
 "nbformat_minor": 2
}
