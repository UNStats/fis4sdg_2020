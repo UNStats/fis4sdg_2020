{
 "nbformat": 4,
 "nbformat_minor": 2,
 "metadata": {
  "language_info": {
   "name": "python",
   "codemirror_mode": {
    "name": "ipython",
    "version": 3
   },
   "version": "3.7.2-final"
  },
  "orig_nbformat": 2,
  "file_extension": ".py",
  "mimetype": "text/x-python",
  "name": "python",
  "npconvert_exporter": "python",
  "pygments_lexer": "ipython3",
  "version": 3,
  "kernelspec": {
   "name": "python37232bit0725cd331557480a8887ab9d7f73d487",
   "display_name": "Python 3.7.2 32-bit"
  }
 },
 "cells": [
  {
   "cell_type": "markdown",
   "execution_count": 3,
   "metadata": {},
   "outputs": [],
   "source": [
    "# Serious python"
   ]
  },
  {
   "cell_type": "code",
   "execution_count": 7,
   "metadata": {},
   "outputs": [],
   "source": [
    "# https://volderette.de/jupyter-notebook-tip-multiple-outputs/\n",
    "from IPython.core.interactiveshell import InteractiveShell\n",
    "InteractiveShell.ast_node_interactivity = \"all\""
   ]
  },
  {
   "cell_type": "markdown",
   "execution_count": null,
   "metadata": {},
   "outputs": [],
   "source": [
    "## 1. The 'sys' module\n",
    "\n",
    "- Retrieve a list of modules currently loaded\n",
    "  - The `sys.modules` variable is a standard Python dictionary that contains all loaded modules\n",
    "  - Use `sys.modules.keys()` to retrieve the complete list of names of currently loaded modules\n",
    "  - Retrieve the list of built-in modules using `sys.builtin_modules_names`"
   ]
  },
  {
   "cell_type": "code",
   "execution_count": 29,
   "metadata": {},
   "outputs": [
    {
     "data": {
      "text/plain": "['sys', 'builtins', '_frozen_importlib', '_imp', '_thread']"
     },
     "execution_count": 29,
     "metadata": {},
     "output_type": "execute_result"
    },
    {
     "data": {
      "text/plain": "<module 'os' from 'C:\\\\Users\\\\L.GonzalezMorales\\\\AppData\\\\Local\\\\Programs\\\\Python\\\\Python37-32\\\\lib\\\\os.py'>"
     },
     "execution_count": 29,
     "metadata": {},
     "output_type": "execute_result"
    },
    {
     "data": {
      "text/plain": "('_abc', '_ast', '_bisect', '_blake2', '_codecs')"
     },
     "execution_count": 29,
     "metadata": {},
     "output_type": "execute_result"
    }
   ],
   "source": [
    "import sys\n",
    "import os\n",
    "\n",
    "list(sys.modules.keys())[0:5]\n",
    "sys.modules['os']\n",
    "sys.builtin_module_names[0:5]"
   ]
  },
  {
   "cell_type": "markdown",
   "execution_count": null,
   "metadata": {},
   "outputs": [],
   "source": [
    "- The `sys.path` variable stores the list of paths from which modules can be imported\n",
    "- The order of the paths in `sys.path` is important\n",
    "- The current directory is searched byfore the Python Standard Library directory"
   ]
  },
  {
   "cell_type": "code",
   "execution_count": 30,
   "metadata": {},
   "outputs": [
    {
     "data": {
      "text/plain": "['C:\\\\Users\\\\LB187~1.GON\\\\AppData\\\\Local\\\\Temp\\\\78b6c727-cafa-480c-aa41-490a28f60686',\n 'c:\\\\Users\\\\L.GonzalezMorales\\\\.vscode\\\\extensions\\\\ms-python.python-2020.1.58038\\\\pythonFiles',\n 'c:\\\\Users\\\\L.GonzalezMorales\\\\.vscode\\\\extensions\\\\ms-python.python-2020.1.58038\\\\pythonFiles\\\\lib\\\\python',\n 'C:\\\\Users\\\\L.GonzalezMorales\\\\AppData\\\\Local\\\\Programs\\\\Python\\\\Python37-32\\\\python37.zip',\n 'C:\\\\Users\\\\L.GonzalezMorales\\\\AppData\\\\Local\\\\Programs\\\\Python\\\\Python37-32\\\\DLLs',\n 'C:\\\\Users\\\\L.GonzalezMorales\\\\AppData\\\\Local\\\\Programs\\\\Python\\\\Python37-32\\\\lib',\n 'C:\\\\Users\\\\L.GonzalezMorales\\\\AppData\\\\Local\\\\Programs\\\\Python\\\\Python37-32',\n '',\n 'C:\\\\Users\\\\L.GonzalezMorales\\\\AppData\\\\Roaming\\\\Python\\\\Python37\\\\site-packages',\n 'C:\\\\Users\\\\L.GonzalezMorales\\\\AppData\\\\Roaming\\\\Python\\\\Python37\\\\site-packages\\\\win32',\n 'C:\\\\Users\\\\L.GonzalezMorales\\\\AppData\\\\Roaming\\\\Python\\\\Python37\\\\site-packages\\\\win32\\\\lib',\n 'C:\\\\Users\\\\L.GonzalezMorales\\\\AppData\\\\Roaming\\\\Python\\\\Python37\\\\site-packages\\\\Pythonwin',\n 'C:\\\\Users\\\\L.GonzalezMorales\\\\AppData\\\\Local\\\\Programs\\\\Python\\\\Python37-32\\\\lib\\\\site-packages',\n 'C:\\\\Users\\\\L.GonzalezMorales\\\\AppData\\\\Roaming\\\\Python\\\\Python37\\\\site-packages\\\\IPython\\\\extensions',\n 'C:\\\\Users\\\\L.GonzalezMorales\\\\.ipython']"
     },
     "execution_count": 30,
     "metadata": {},
     "output_type": "execute_result"
    }
   ],
   "source": [
    "sys.path"
   ]
  },
  {
   "cell_type": "markdown",
   "execution_count": null,
   "metadata": {},
   "outputs": [],
   "source": [
    "## 2. Useful standard libraries"
   ]
  },
  {
   "cell_type": "markdown",
   "execution_count": null,
   "metadata": {},
   "outputs": [],
   "source": [
    "- List the packages already installed"
   ]
  },
  {
   "cell_type": "code",
   "execution_count": 31,
   "metadata": {},
   "outputs": [
    {
     "name": "stdout",
     "output_type": "stream",
     "text": "alabaster==0.7.12\nappdirs==1.4.3\nargh==0.26.2\narrow==0.15.5\nastroid==2.3.3\nautopep8==1.5\nBabel==2.8.0\nbackcall==0.1.0\nbinaryornot==0.4.4\ncertifi==2019.11.28\nchardet==3.0.4\nClick==7.0\ncolorama==0.4.3\nConfigArgParse==1.0\ncookiecutter==1.7.0\ndecorator==4.4.1\ndoc8==0.8.0\ndocutils==0.16\nfuture==0.18.2\nidna==2.8\nimagesize==1.2.0\nipykernel==5.1.4\nipython==7.12.0\nipython-genutils==0.2.0\nisort==4.3.21\njedi==0.16.0\nJinja2==2.11.1\njinja2-time==0.2.0\njupyter-client==5.3.4\njupyter-core==4.6.1\nlazy-object-proxy==1.4.3\nlivereload==2.6.1\nMarkupSafe==1.1.1\nmccabe==0.6.1\npackaging==20.1\nparso==0.6.1\npathtools==0.1.2\npbr==5.4.4\npep8==1.7.1\npickleshare==0.7.5\nport-for==0.3.1\npoyo==0.5.0\nprompt-toolkit==3.0.3\npycodestyle==2.5.0\nPygments==2.5.2\npylint==2.4.4\npyparsing==2.4.6\npython-dateutil==2.8.1\npytz==2019.3\npywin32==227\nPyYAML==5.3\npyzmq==18.1.1\nratelimiter==1.2.0.post0\nrequests==2.22.0\nrestructuredtext-lint==1.3.0\nsix==1.14.0\nsnowballstemmer==2.0.0\nSphinx==2.3.1\nsphinx-autobuild==0.7.1\nsphinxcontrib-applehelp==1.0.1\nsphinxcontrib-devhelp==1.0.1\nsphinxcontrib-htmlhelp==1.0.2\nsphinxcontrib-jsmath==1.0.1\nsphinxcontrib-qthelp==1.0.2\nsphinxcontrib-serializinghtml==1.1.3\nstevedore==1.31.0\ntornado==6.0.3\ntraitlets==4.3.3\ntyped-ast==1.4.1\nurllib3==1.25.8\nvirtualenv==16.7.9\nvirtualenv-clone==0.5.3\nvirtualenvwrapper==4.8.4\nwatchdog==0.10.1\nwcwidth==0.1.8\nwhichcraft==0.6.1\nwrapt==1.11.2\nNote: you may need to restart the kernel to use updated packages.\n"
    }
   ],
   "source": [
    "pip freeze"
   ]
  },
  {
   "cell_type": "code",
   "execution_count": null,
   "metadata": {},
   "outputs": [],
   "source": []
  }
 ]
}